{
 "cells": [
  {
   "cell_type": "code",
   "execution_count": 1,
   "id": "6df6b121",
   "metadata": {},
   "outputs": [],
   "source": [
    "using CSV\n",
    "using DataFrames\n",
    "using Statistics"
   ]
  },
  {
   "cell_type": "code",
   "execution_count": 2,
   "id": "dbcdb21a",
   "metadata": {},
   "outputs": [
    {
     "data": {
      "text/html": [
       "<div><div style = \"float: left;\"><span>400×8 DataFrame</span></div><div style = \"float: right;\"><span style = \"font-style: italic;\">375 rows omitted</span></div><div style = \"clear: both;\"></div></div><div class = \"data-frame\" style = \"overflow-x: scroll;\"><table class = \"data-frame\" style = \"margin-bottom: 6px;\"><thead><tr class = \"header\"><th class = \"rowNumber\" style = \"font-weight: bold; text-align: right;\">Row</th><th style = \"text-align: left;\">Timestamp</th><th style = \"text-align: left;\">User_ID</th><th style = \"text-align: left;\">Application_Type</th><th style = \"text-align: left;\">Signal_Strength</th><th style = \"text-align: left;\">Latency</th><th style = \"text-align: left;\">Required_Bandwidth</th><th style = \"text-align: left;\">Allocated_Bandwidth</th><th style = \"text-align: left;\">Resource_Allocation</th></tr><tr class = \"subheader headerLastRow\"><th class = \"rowNumber\" style = \"font-weight: bold; text-align: right;\"></th><th title = \"String15\" style = \"text-align: left;\">String15</th><th title = \"String15\" style = \"text-align: left;\">String15</th><th title = \"String31\" style = \"text-align: left;\">String31</th><th title = \"String15\" style = \"text-align: left;\">String15</th><th title = \"String7\" style = \"text-align: left;\">String7</th><th title = \"String15\" style = \"text-align: left;\">String15</th><th title = \"String15\" style = \"text-align: left;\">String15</th><th title = \"String3\" style = \"text-align: left;\">String3</th></tr></thead><tbody><tr><td class = \"rowNumber\" style = \"font-weight: bold; text-align: right;\">1</td><td style = \"text-align: left;\">9/3/2023 10:00</td><td style = \"text-align: left;\">User_1</td><td style = \"text-align: left;\">Video_Call</td><td style = \"text-align: left;\">-75 dBm</td><td style = \"text-align: left;\">30 ms</td><td style = \"text-align: left;\">10 Mbps</td><td style = \"text-align: left;\">15 Mbps</td><td style = \"text-align: left;\">70%</td></tr><tr><td class = \"rowNumber\" style = \"font-weight: bold; text-align: right;\">2</td><td style = \"text-align: left;\">9/3/2023 10:00</td><td style = \"text-align: left;\">User_2</td><td style = \"text-align: left;\">Voice_Call</td><td style = \"text-align: left;\">-80 dBm</td><td style = \"text-align: left;\">20 ms</td><td style = \"text-align: left;\">100 Kbps</td><td style = \"text-align: left;\">120 Kbps</td><td style = \"text-align: left;\">80%</td></tr><tr><td class = \"rowNumber\" style = \"font-weight: bold; text-align: right;\">3</td><td style = \"text-align: left;\">9/3/2023 10:00</td><td style = \"text-align: left;\">User_3</td><td style = \"text-align: left;\">Streaming</td><td style = \"text-align: left;\">-85 dBm</td><td style = \"text-align: left;\">40 ms</td><td style = \"text-align: left;\">5 Mbps</td><td style = \"text-align: left;\">6 Mbps</td><td style = \"text-align: left;\">75%</td></tr><tr><td class = \"rowNumber\" style = \"font-weight: bold; text-align: right;\">4</td><td style = \"text-align: left;\">9/3/2023 10:00</td><td style = \"text-align: left;\">User_4</td><td style = \"text-align: left;\">Emergency_Service</td><td style = \"text-align: left;\">-70 dBm</td><td style = \"text-align: left;\">10 ms</td><td style = \"text-align: left;\">1 Mbps</td><td style = \"text-align: left;\">1.5 Mbps</td><td style = \"text-align: left;\">90%</td></tr><tr><td class = \"rowNumber\" style = \"font-weight: bold; text-align: right;\">5</td><td style = \"text-align: left;\">9/3/2023 10:00</td><td style = \"text-align: left;\">User_5</td><td style = \"text-align: left;\">Online_Gaming</td><td style = \"text-align: left;\">-78 dBm</td><td style = \"text-align: left;\">25 ms</td><td style = \"text-align: left;\">2 Mbps</td><td style = \"text-align: left;\">3 Mbps</td><td style = \"text-align: left;\">85%</td></tr><tr><td class = \"rowNumber\" style = \"font-weight: bold; text-align: right;\">6</td><td style = \"text-align: left;\">9/3/2023 10:00</td><td style = \"text-align: left;\">User_6</td><td style = \"text-align: left;\">Background_Download</td><td style = \"text-align: left;\">-90 dBm</td><td style = \"text-align: left;\">50 ms</td><td style = \"text-align: left;\">500 Kbps</td><td style = \"text-align: left;\">550 Kbps</td><td style = \"text-align: left;\">70%</td></tr><tr><td class = \"rowNumber\" style = \"font-weight: bold; text-align: right;\">7</td><td style = \"text-align: left;\">9/3/2023 10:00</td><td style = \"text-align: left;\">User_7</td><td style = \"text-align: left;\">Web_Browsing</td><td style = \"text-align: left;\">-88 dBm</td><td style = \"text-align: left;\">30 ms</td><td style = \"text-align: left;\">1 Mbps</td><td style = \"text-align: left;\">1 Mbps</td><td style = \"text-align: left;\">60%</td></tr><tr><td class = \"rowNumber\" style = \"font-weight: bold; text-align: right;\">8</td><td style = \"text-align: left;\">9/3/2023 10:00</td><td style = \"text-align: left;\">User_8</td><td style = \"text-align: left;\">IoT_Temperature</td><td style = \"text-align: left;\">-95 dBm</td><td style = \"text-align: left;\">100 ms</td><td style = \"text-align: left;\">10 Kbps</td><td style = \"text-align: left;\">15 Kbps</td><td style = \"text-align: left;\">50%</td></tr><tr><td class = \"rowNumber\" style = \"font-weight: bold; text-align: right;\">9</td><td style = \"text-align: left;\">9/3/2023 10:00</td><td style = \"text-align: left;\">User_9</td><td style = \"text-align: left;\">Video_Streaming</td><td style = \"text-align: left;\">-82 dBm</td><td style = \"text-align: left;\">35 ms</td><td style = \"text-align: left;\">3 Mbps</td><td style = \"text-align: left;\">3.5 Mbps</td><td style = \"text-align: left;\">80%</td></tr><tr><td class = \"rowNumber\" style = \"font-weight: bold; text-align: right;\">10</td><td style = \"text-align: left;\">9/3/2023 10:00</td><td style = \"text-align: left;\">User_10</td><td style = \"text-align: left;\">File_Download</td><td style = \"text-align: left;\">-75 dBm</td><td style = \"text-align: left;\">45 ms</td><td style = \"text-align: left;\">2 Mbps</td><td style = \"text-align: left;\">2 Mbps</td><td style = \"text-align: left;\">70%</td></tr><tr><td class = \"rowNumber\" style = \"font-weight: bold; text-align: right;\">11</td><td style = \"text-align: left;\">9/3/2023 10:00</td><td style = \"text-align: left;\">User_11</td><td style = \"text-align: left;\">Video_Call</td><td style = \"text-align: left;\">-76 dBm</td><td style = \"text-align: left;\">32 ms</td><td style = \"text-align: left;\">12 Mbps</td><td style = \"text-align: left;\">14 Mbps</td><td style = \"text-align: left;\">70%</td></tr><tr><td class = \"rowNumber\" style = \"font-weight: bold; text-align: right;\">12</td><td style = \"text-align: left;\">9/3/2023 10:00</td><td style = \"text-align: left;\">User_12</td><td style = \"text-align: left;\">Online_Gaming</td><td style = \"text-align: left;\">-79 dBm</td><td style = \"text-align: left;\">24 ms</td><td style = \"text-align: left;\">2.5 Mbps</td><td style = \"text-align: left;\">2.8 Mbps</td><td style = \"text-align: left;\">75%</td></tr><tr><td class = \"rowNumber\" style = \"font-weight: bold; text-align: right;\">13</td><td style = \"text-align: left;\">9/3/2023 10:00</td><td style = \"text-align: left;\">User_13</td><td style = \"text-align: left;\">Web_Browsing</td><td style = \"text-align: left;\">-87 dBm</td><td style = \"text-align: left;\">28 ms</td><td style = \"text-align: left;\">1.2 Mbps</td><td style = \"text-align: left;\">1.2 Mbps</td><td style = \"text-align: left;\">65%</td></tr><tr><td style = \"text-align: right;\">&vellip;</td><td style = \"text-align: right;\">&vellip;</td><td style = \"text-align: right;\">&vellip;</td><td style = \"text-align: right;\">&vellip;</td><td style = \"text-align: right;\">&vellip;</td><td style = \"text-align: right;\">&vellip;</td><td style = \"text-align: right;\">&vellip;</td><td style = \"text-align: right;\">&vellip;</td><td style = \"text-align: right;\">&vellip;</td></tr><tr><td class = \"rowNumber\" style = \"font-weight: bold; text-align: right;\">389</td><td style = \"text-align: left;\">9/3/2023 10:06</td><td style = \"text-align: left;\">User_389</td><td style = \"text-align: left;\">Video_Call</td><td style = \"text-align: left;\">-41 dBm</td><td style = \"text-align: left;\">52 ms</td><td style = \"text-align: left;\">14.4 Mbps</td><td style = \"text-align: left;\">15.7 Mbps</td><td style = \"text-align: left;\">75%</td></tr><tr><td class = \"rowNumber\" style = \"font-weight: bold; text-align: right;\">390</td><td style = \"text-align: left;\">9/3/2023 10:06</td><td style = \"text-align: left;\">User_390</td><td style = \"text-align: left;\">Video_Streaming</td><td style = \"text-align: left;\">-112 dBm</td><td style = \"text-align: left;\">57 ms</td><td style = \"text-align: left;\">1.1 Mbps</td><td style = \"text-align: left;\">1.5 Mbps</td><td style = \"text-align: left;\">70%</td></tr><tr><td class = \"rowNumber\" style = \"font-weight: bold; text-align: right;\">391</td><td style = \"text-align: left;\">9/3/2023 10:06</td><td style = \"text-align: left;\">User_391</td><td style = \"text-align: left;\">Emergency_Service</td><td style = \"text-align: left;\">-40 dBm</td><td style = \"text-align: left;\">5 ms</td><td style = \"text-align: left;\">0.4 Mbps</td><td style = \"text-align: left;\">0.4 Mbps</td><td style = \"text-align: left;\">70%</td></tr><tr><td class = \"rowNumber\" style = \"font-weight: bold; text-align: right;\">392</td><td style = \"text-align: left;\">9/3/2023 10:06</td><td style = \"text-align: left;\">User_392</td><td style = \"text-align: left;\">Web_Browsing</td><td style = \"text-align: left;\">-112 dBm</td><td style = \"text-align: left;\">0 ms</td><td style = \"text-align: left;\">0.1 Mbps</td><td style = \"text-align: left;\">0.1 Mbps</td><td style = \"text-align: left;\">70%</td></tr><tr><td class = \"rowNumber\" style = \"font-weight: bold; text-align: right;\">393</td><td style = \"text-align: left;\">9/3/2023 10:06</td><td style = \"text-align: left;\">User_393</td><td style = \"text-align: left;\">Background_Download</td><td style = \"text-align: left;\">-123 dBm</td><td style = \"text-align: left;\">78 ms</td><td style = \"text-align: left;\">350 Kbps</td><td style = \"text-align: left;\">350 Kbps</td><td style = \"text-align: left;\">60%</td></tr><tr><td class = \"rowNumber\" style = \"font-weight: bold; text-align: right;\">394</td><td style = \"text-align: left;\">9/3/2023 10:06</td><td style = \"text-align: left;\">User_394</td><td style = \"text-align: left;\">VoIP_Call</td><td style = \"text-align: left;\">-56 dBm</td><td style = \"text-align: left;\">52 ms</td><td style = \"text-align: left;\">0 Kbps</td><td style = \"text-align: left;\">0 Kbps</td><td style = \"text-align: left;\">90%</td></tr><tr><td class = \"rowNumber\" style = \"font-weight: bold; text-align: right;\">395</td><td style = \"text-align: left;\">9/3/2023 10:06</td><td style = \"text-align: left;\">User_395</td><td style = \"text-align: left;\">Online_Gaming</td><td style = \"text-align: left;\">-41 dBm</td><td style = \"text-align: left;\">47 ms</td><td style = \"text-align: left;\">6.3 Mbps</td><td style = \"text-align: left;\">6.6 Mbps</td><td style = \"text-align: left;\">80%</td></tr><tr><td class = \"rowNumber\" style = \"font-weight: bold; text-align: right;\">396</td><td style = \"text-align: left;\">9/3/2023 10:06</td><td style = \"text-align: left;\">User_396</td><td style = \"text-align: left;\">Streaming</td><td style = \"text-align: left;\">-110 dBm</td><td style = \"text-align: left;\">61 ms</td><td style = \"text-align: left;\">1.3 Mbps</td><td style = \"text-align: left;\">1.8 Mbps</td><td style = \"text-align: left;\">85%</td></tr><tr><td class = \"rowNumber\" style = \"font-weight: bold; text-align: right;\">397</td><td style = \"text-align: left;\">9/3/2023 10:06</td><td style = \"text-align: left;\">User_397</td><td style = \"text-align: left;\">Video_Call</td><td style = \"text-align: left;\">-40 dBm</td><td style = \"text-align: left;\">53 ms</td><td style = \"text-align: left;\">14.5 Mbps</td><td style = \"text-align: left;\">15.8 Mbps</td><td style = \"text-align: left;\">75%</td></tr><tr><td class = \"rowNumber\" style = \"font-weight: bold; text-align: right;\">398</td><td style = \"text-align: left;\">9/3/2023 10:06</td><td style = \"text-align: left;\">User_398</td><td style = \"text-align: left;\">Video_Streaming</td><td style = \"text-align: left;\">-113 dBm</td><td style = \"text-align: left;\">58 ms</td><td style = \"text-align: left;\">1.0 Mbps</td><td style = \"text-align: left;\">1.4 Mbps</td><td style = \"text-align: left;\">70%</td></tr><tr><td class = \"rowNumber\" style = \"font-weight: bold; text-align: right;\">399</td><td style = \"text-align: left;\">9/3/2023 10:06</td><td style = \"text-align: left;\">User_399</td><td style = \"text-align: left;\">Emergency_Service</td><td style = \"text-align: left;\">-40 dBm</td><td style = \"text-align: left;\">5 ms</td><td style = \"text-align: left;\">0.4 Mbps</td><td style = \"text-align: left;\">0.4 Mbps</td><td style = \"text-align: left;\">70%</td></tr><tr><td class = \"rowNumber\" style = \"font-weight: bold; text-align: right;\">400</td><td style = \"text-align: left;\">9/3/2023 10:06</td><td style = \"text-align: left;\">User_400</td><td style = \"text-align: left;\">Web_Browsing</td><td style = \"text-align: left;\">-113 dBm</td><td style = \"text-align: left;\">0 ms</td><td style = \"text-align: left;\">0.1 Mbps</td><td style = \"text-align: left;\">0.1 Mbps</td><td style = \"text-align: left;\">70%</td></tr></tbody></table></div>"
      ],
      "text/latex": [
       "\\begin{tabular}{r|ccccccc}\n",
       "\t& Timestamp & User\\_ID & Application\\_Type & Signal\\_Strength & Latency & Required\\_Bandwidth & \\\\\n",
       "\t\\hline\n",
       "\t& String15 & String15 & String31 & String15 & String7 & String15 & \\\\\n",
       "\t\\hline\n",
       "\t1 & 9/3/2023 10:00 & User\\_1 & Video\\_Call & -75 dBm & 30 ms & 10 Mbps & $\\dots$ \\\\\n",
       "\t2 & 9/3/2023 10:00 & User\\_2 & Voice\\_Call & -80 dBm & 20 ms & 100 Kbps & $\\dots$ \\\\\n",
       "\t3 & 9/3/2023 10:00 & User\\_3 & Streaming & -85 dBm & 40 ms & 5 Mbps & $\\dots$ \\\\\n",
       "\t4 & 9/3/2023 10:00 & User\\_4 & Emergency\\_Service & -70 dBm & 10 ms & 1 Mbps & $\\dots$ \\\\\n",
       "\t5 & 9/3/2023 10:00 & User\\_5 & Online\\_Gaming & -78 dBm & 25 ms & 2 Mbps & $\\dots$ \\\\\n",
       "\t6 & 9/3/2023 10:00 & User\\_6 & Background\\_Download & -90 dBm & 50 ms & 500 Kbps & $\\dots$ \\\\\n",
       "\t7 & 9/3/2023 10:00 & User\\_7 & Web\\_Browsing & -88 dBm & 30 ms & 1 Mbps & $\\dots$ \\\\\n",
       "\t8 & 9/3/2023 10:00 & User\\_8 & IoT\\_Temperature & -95 dBm & 100 ms & 10 Kbps & $\\dots$ \\\\\n",
       "\t9 & 9/3/2023 10:00 & User\\_9 & Video\\_Streaming & -82 dBm & 35 ms & 3 Mbps & $\\dots$ \\\\\n",
       "\t10 & 9/3/2023 10:00 & User\\_10 & File\\_Download & -75 dBm & 45 ms & 2 Mbps & $\\dots$ \\\\\n",
       "\t11 & 9/3/2023 10:00 & User\\_11 & Video\\_Call & -76 dBm & 32 ms & 12 Mbps & $\\dots$ \\\\\n",
       "\t12 & 9/3/2023 10:00 & User\\_12 & Online\\_Gaming & -79 dBm & 24 ms & 2.5 Mbps & $\\dots$ \\\\\n",
       "\t13 & 9/3/2023 10:00 & User\\_13 & Web\\_Browsing & -87 dBm & 28 ms & 1.2 Mbps & $\\dots$ \\\\\n",
       "\t14 & 9/3/2023 10:00 & User\\_14 & VoIP\\_Call & -81 dBm & 22 ms & 150 Kbps & $\\dots$ \\\\\n",
       "\t15 & 9/3/2023 10:00 & User\\_15 & Video\\_Call & -74 dBm & 29 ms & 10 Mbps & $\\dots$ \\\\\n",
       "\t16 & 9/3/2023 10:00 & User\\_16 & Streaming & -84 dBm & 38 ms & 4.5 Mbps & $\\dots$ \\\\\n",
       "\t17 & 9/3/2023 10:00 & User\\_17 & Emergency\\_Service & -69 dBm & 9 ms & 1.2 Mbps & $\\dots$ \\\\\n",
       "\t18 & 9/3/2023 10:00 & User\\_18 & Background\\_Download & -91 dBm & 48 ms & 600 Kbps & $\\dots$ \\\\\n",
       "\t19 & 9/3/2023 10:00 & User\\_19 & IoT\\_Temperature & -96 dBm & 105 ms & 8 Kbps & $\\dots$ \\\\\n",
       "\t20 & 9/3/2023 10:00 & User\\_20 & Video\\_Streaming & -83 dBm & 34 ms & 3.2 Mbps & $\\dots$ \\\\\n",
       "\t21 & 9/3/2023 10:00 & User\\_21 & Video\\_Call & -77 dBm & 31 ms & 11 Mbps & $\\dots$ \\\\\n",
       "\t22 & 9/3/2023 10:00 & User\\_22 & Online\\_Gaming & -80 dBm & 23 ms & 2.2 Mbps & $\\dots$ \\\\\n",
       "\t23 & 9/3/2023 10:00 & User\\_23 & Web\\_Browsing & -86 dBm & 29 ms & 1.4 Mbps & $\\dots$ \\\\\n",
       "\t24 & 9/3/2023 10:00 & User\\_24 & VoIP\\_Call & -82 dBm & 21 ms & 160 Kbps & $\\dots$ \\\\\n",
       "\t25 & 9/3/2023 10:00 & User\\_25 & Video\\_Call & -73 dBm & 28 ms & 10.5 Mbps & $\\dots$ \\\\\n",
       "\t26 & 9/3/2023 10:00 & User\\_26 & Streaming & -83 dBm & 37 ms & 4.2 Mbps & $\\dots$ \\\\\n",
       "\t27 & 9/3/2023 10:00 & User\\_27 & Emergency\\_Service & -68 dBm & 8 ms & 1.1 Mbps & $\\dots$ \\\\\n",
       "\t28 & 9/3/2023 10:00 & User\\_28 & Background\\_Download & -92 dBm & 47 ms & 620 Kbps & $\\dots$ \\\\\n",
       "\t29 & 9/3/2023 10:00 & User\\_29 & IoT\\_Temperature & -97 dBm & 110 ms & 7 Kbps & $\\dots$ \\\\\n",
       "\t30 & 9/3/2023 10:00 & User\\_30 & Video\\_Streaming & -84 dBm & 33 ms & 3.4 Mbps & $\\dots$ \\\\\n",
       "\t$\\dots$ & $\\dots$ & $\\dots$ & $\\dots$ & $\\dots$ & $\\dots$ & $\\dots$ &  \\\\\n",
       "\\end{tabular}\n"
      ],
      "text/plain": [
       "\u001b[1m400×8 DataFrame\u001b[0m\n",
       "\u001b[1m Row \u001b[0m│\u001b[1m Timestamp      \u001b[0m\u001b[1m User_ID  \u001b[0m\u001b[1m Application_Type    \u001b[0m\u001b[1m Signal_Strength \u001b[0m\u001b[1m Latency\u001b[0m ⋯\n",
       "     │\u001b[90m String15       \u001b[0m\u001b[90m String15 \u001b[0m\u001b[90m String31            \u001b[0m\u001b[90m String15        \u001b[0m\u001b[90m String7\u001b[0m ⋯\n",
       "─────┼──────────────────────────────────────────────────────────────────────────\n",
       "   1 │ 9/3/2023 10:00  User_1    Video_Call           -75 dBm          30 ms   ⋯\n",
       "   2 │ 9/3/2023 10:00  User_2    Voice_Call           -80 dBm          20 ms\n",
       "   3 │ 9/3/2023 10:00  User_3    Streaming            -85 dBm          40 ms\n",
       "   4 │ 9/3/2023 10:00  User_4    Emergency_Service    -70 dBm          10 ms\n",
       "   5 │ 9/3/2023 10:00  User_5    Online_Gaming        -78 dBm          25 ms   ⋯\n",
       "   6 │ 9/3/2023 10:00  User_6    Background_Download  -90 dBm          50 ms\n",
       "   7 │ 9/3/2023 10:00  User_7    Web_Browsing         -88 dBm          30 ms\n",
       "   8 │ 9/3/2023 10:00  User_8    IoT_Temperature      -95 dBm          100 ms\n",
       "   9 │ 9/3/2023 10:00  User_9    Video_Streaming      -82 dBm          35 ms   ⋯\n",
       "  10 │ 9/3/2023 10:00  User_10   File_Download        -75 dBm          45 ms\n",
       "  11 │ 9/3/2023 10:00  User_11   Video_Call           -76 dBm          32 ms\n",
       "  ⋮  │       ⋮            ⋮               ⋮                  ⋮            ⋮    ⋱\n",
       " 391 │ 9/3/2023 10:06  User_391  Emergency_Service    -40 dBm          5 ms\n",
       " 392 │ 9/3/2023 10:06  User_392  Web_Browsing         -112 dBm         0 ms    ⋯\n",
       " 393 │ 9/3/2023 10:06  User_393  Background_Download  -123 dBm         78 ms\n",
       " 394 │ 9/3/2023 10:06  User_394  VoIP_Call            -56 dBm          52 ms\n",
       " 395 │ 9/3/2023 10:06  User_395  Online_Gaming        -41 dBm          47 ms\n",
       " 396 │ 9/3/2023 10:06  User_396  Streaming            -110 dBm         61 ms   ⋯\n",
       " 397 │ 9/3/2023 10:06  User_397  Video_Call           -40 dBm          53 ms\n",
       " 398 │ 9/3/2023 10:06  User_398  Video_Streaming      -113 dBm         58 ms\n",
       " 399 │ 9/3/2023 10:06  User_399  Emergency_Service    -40 dBm          5 ms\n",
       " 400 │ 9/3/2023 10:06  User_400  Web_Browsing         -113 dBm         0 ms    ⋯\n",
       "\u001b[36m                                                  3 columns and 379 rows omitted\u001b[0m"
      ]
     },
     "execution_count": 2,
     "metadata": {},
     "output_type": "execute_result"
    }
   ],
   "source": [
    "df = CSV.read(\"Quality of Service 5G.csv\", DataFrame)"
   ]
  },
  {
   "cell_type": "code",
   "execution_count": 3,
   "id": "63181da5",
   "metadata": {},
   "outputs": [
    {
     "name": "stdout",
     "output_type": "stream",
     "text": [
      "\n",
      "Missing values per column:\n",
      "[0, 0, 0, 0, 0, 0, 0, 0]\n"
     ]
    }
   ],
   "source": [
    "println(\"\\nMissing values per column:\")\n",
    "println(sum.(ismissing.(eachcol(df))))"
   ]
  },
  {
   "cell_type": "code",
   "execution_count": 4,
   "id": "ca86fd3f",
   "metadata": {},
   "outputs": [
    {
     "data": {
      "text/html": [
       "<div><div style = \"float: left;\"><span>8×7 DataFrame</span></div><div style = \"clear: both;\"></div></div><div class = \"data-frame\" style = \"overflow-x: scroll;\"><table class = \"data-frame\" style = \"margin-bottom: 6px;\"><thead><tr class = \"header\"><th class = \"rowNumber\" style = \"font-weight: bold; text-align: right;\">Row</th><th style = \"text-align: left;\">variable</th><th style = \"text-align: left;\">mean</th><th style = \"text-align: left;\">min</th><th style = \"text-align: left;\">median</th><th style = \"text-align: left;\">max</th><th style = \"text-align: left;\">nmissing</th><th style = \"text-align: left;\">eltype</th></tr><tr class = \"subheader headerLastRow\"><th class = \"rowNumber\" style = \"font-weight: bold; text-align: right;\"></th><th title = \"Symbol\" style = \"text-align: left;\">Symbol</th><th title = \"Nothing\" style = \"text-align: left;\">Nothing</th><th title = \"InlineString\" style = \"text-align: left;\">InlineSt…</th><th title = \"Nothing\" style = \"text-align: left;\">Nothing</th><th title = \"InlineString\" style = \"text-align: left;\">InlineSt…</th><th title = \"Int64\" style = \"text-align: left;\">Int64</th><th title = \"DataType\" style = \"text-align: left;\">DataType</th></tr></thead><tbody><tr><td class = \"rowNumber\" style = \"font-weight: bold; text-align: right;\">1</td><td style = \"text-align: left;\">Timestamp</td><td style = \"font-style: italic; text-align: left;\"></td><td style = \"text-align: left;\">9/3/2023 10:00</td><td style = \"font-style: italic; text-align: left;\"></td><td style = \"text-align: left;\">9/3/2023 10:06</td><td style = \"text-align: right;\">0</td><td style = \"text-align: left;\">String15</td></tr><tr><td class = \"rowNumber\" style = \"font-weight: bold; text-align: right;\">2</td><td style = \"text-align: left;\">User_ID</td><td style = \"font-style: italic; text-align: left;\"></td><td style = \"text-align: left;\">User_1</td><td style = \"font-style: italic; text-align: left;\"></td><td style = \"text-align: left;\">User_99</td><td style = \"text-align: right;\">0</td><td style = \"text-align: left;\">String15</td></tr><tr><td class = \"rowNumber\" style = \"font-weight: bold; text-align: right;\">3</td><td style = \"text-align: left;\">Application_Type</td><td style = \"font-style: italic; text-align: left;\"></td><td style = \"text-align: left;\">Background_Download</td><td style = \"font-style: italic; text-align: left;\"></td><td style = \"text-align: left;\">Web_Browsing</td><td style = \"text-align: right;\">0</td><td style = \"text-align: left;\">String31</td></tr><tr><td class = \"rowNumber\" style = \"font-weight: bold; text-align: right;\">4</td><td style = \"text-align: left;\">Signal_Strength</td><td style = \"font-style: italic; text-align: left;\"></td><td style = \"text-align: left;\">-100 dBm</td><td style = \"font-style: italic; text-align: left;\"></td><td style = \"text-align: left;\">-99 dBm</td><td style = \"text-align: right;\">0</td><td style = \"text-align: left;\">String15</td></tr><tr><td class = \"rowNumber\" style = \"font-weight: bold; text-align: right;\">5</td><td style = \"text-align: left;\">Latency</td><td style = \"font-style: italic; text-align: left;\"></td><td style = \"text-align: left;\">0 ms</td><td style = \"font-style: italic; text-align: left;\"></td><td style = \"text-align: left;\">99 ms</td><td style = \"text-align: right;\">0</td><td style = \"text-align: left;\">String7</td></tr><tr><td class = \"rowNumber\" style = \"font-weight: bold; text-align: right;\">6</td><td style = \"text-align: left;\">Required_Bandwidth</td><td style = \"font-style: italic; text-align: left;\"></td><td style = \"text-align: left;\">0 Kbps</td><td style = \"font-style: italic; text-align: left;\"></td><td style = \"text-align: left;\">95 Kbps</td><td style = \"text-align: right;\">0</td><td style = \"text-align: left;\">String15</td></tr><tr><td class = \"rowNumber\" style = \"font-weight: bold; text-align: right;\">7</td><td style = \"text-align: left;\">Allocated_Bandwidth</td><td style = \"font-style: italic; text-align: left;\"></td><td style = \"text-align: left;\">0 Kbps</td><td style = \"font-style: italic; text-align: left;\"></td><td style = \"text-align: left;\">95 Kbps</td><td style = \"text-align: right;\">0</td><td style = \"text-align: left;\">String15</td></tr><tr><td class = \"rowNumber\" style = \"font-weight: bold; text-align: right;\">8</td><td style = \"text-align: left;\">Resource_Allocation</td><td style = \"font-style: italic; text-align: left;\"></td><td style = \"text-align: left;\">50%</td><td style = \"font-style: italic; text-align: left;\"></td><td style = \"text-align: left;\">90%</td><td style = \"text-align: right;\">0</td><td style = \"text-align: left;\">String3</td></tr></tbody></table></div>"
      ],
      "text/latex": [
       "\\begin{tabular}{r|ccccccc}\n",
       "\t& variable & mean & min & median & max & nmissing & \\\\\n",
       "\t\\hline\n",
       "\t& Symbol & Nothing & InlineSt… & Nothing & InlineSt… & Int64 & \\\\\n",
       "\t\\hline\n",
       "\t1 & Timestamp &  & 9/3/2023 10:00 &  & 9/3/2023 10:06 & 0 & $\\dots$ \\\\\n",
       "\t2 & User\\_ID &  & User\\_1 &  & User\\_99 & 0 & $\\dots$ \\\\\n",
       "\t3 & Application\\_Type &  & Background\\_Download &  & Web\\_Browsing & 0 & $\\dots$ \\\\\n",
       "\t4 & Signal\\_Strength &  & -100 dBm &  & -99 dBm & 0 & $\\dots$ \\\\\n",
       "\t5 & Latency &  & 0 ms &  & 99 ms & 0 & $\\dots$ \\\\\n",
       "\t6 & Required\\_Bandwidth &  & 0 Kbps &  & 95 Kbps & 0 & $\\dots$ \\\\\n",
       "\t7 & Allocated\\_Bandwidth &  & 0 Kbps &  & 95 Kbps & 0 & $\\dots$ \\\\\n",
       "\t8 & Resource\\_Allocation &  & 50\\% &  & 90\\% & 0 & $\\dots$ \\\\\n",
       "\\end{tabular}\n"
      ],
      "text/plain": [
       "\u001b[1m8×7 DataFrame\u001b[0m\n",
       "\u001b[1m Row \u001b[0m│\u001b[1m variable            \u001b[0m\u001b[1m mean    \u001b[0m\u001b[1m min                 \u001b[0m\u001b[1m median  \u001b[0m\u001b[1m max        \u001b[0m ⋯\n",
       "     │\u001b[90m Symbol              \u001b[0m\u001b[90m Nothing \u001b[0m\u001b[90m InlineSt…           \u001b[0m\u001b[90m Nothing \u001b[0m\u001b[90m InlineSt…  \u001b[0m ⋯\n",
       "─────┼──────────────────────────────────────────────────────────────────────────\n",
       "   1 │ Timestamp           \u001b[90m         \u001b[0m 9/3/2023 10:00      \u001b[90m         \u001b[0m 9/3/2023 10 ⋯\n",
       "   2 │ User_ID             \u001b[90m         \u001b[0m User_1              \u001b[90m         \u001b[0m User_99\n",
       "   3 │ Application_Type    \u001b[90m         \u001b[0m Background_Download \u001b[90m         \u001b[0m Web_Browsin\n",
       "   4 │ Signal_Strength     \u001b[90m         \u001b[0m -100 dBm            \u001b[90m         \u001b[0m -99 dBm\n",
       "   5 │ Latency             \u001b[90m         \u001b[0m 0 ms                \u001b[90m         \u001b[0m 99 ms       ⋯\n",
       "   6 │ Required_Bandwidth  \u001b[90m         \u001b[0m 0 Kbps              \u001b[90m         \u001b[0m 95 Kbps\n",
       "   7 │ Allocated_Bandwidth \u001b[90m         \u001b[0m 0 Kbps              \u001b[90m         \u001b[0m 95 Kbps\n",
       "   8 │ Resource_Allocation \u001b[90m         \u001b[0m 50%                 \u001b[90m         \u001b[0m 90%\n",
       "\u001b[36m                                                               3 columns omitted\u001b[0m"
      ]
     },
     "execution_count": 4,
     "metadata": {},
     "output_type": "execute_result"
    }
   ],
   "source": [
    "describe(df)"
   ]
  },
  {
   "cell_type": "code",
   "execution_count": 5,
   "id": "3e43fdf5",
   "metadata": {},
   "outputs": [
    {
     "data": {
      "text/plain": [
       "400-element Vector{Float64}:\n",
       " 0.7\n",
       " 0.8\n",
       " 0.75\n",
       " 0.9\n",
       " 0.85\n",
       " 0.7\n",
       " 0.6\n",
       " 0.5\n",
       " 0.8\n",
       " 0.7\n",
       " 0.7\n",
       " 0.75\n",
       " 0.65\n",
       " ⋮\n",
       " 0.75\n",
       " 0.7\n",
       " 0.7\n",
       " 0.7\n",
       " 0.6\n",
       " 0.9\n",
       " 0.8\n",
       " 0.85\n",
       " 0.75\n",
       " 0.7\n",
       " 0.7\n",
       " 0.7"
      ]
     },
     "execution_count": 5,
     "metadata": {},
     "output_type": "execute_result"
    }
   ],
   "source": [
    "df.Resource_Allocation = parse.(Float64, replace.(df.Resource_Allocation, \"%\" => \"\")) / 100"
   ]
  },
  {
   "cell_type": "code",
   "execution_count": 6,
   "id": "09f824e0",
   "metadata": {},
   "outputs": [
    {
     "data": {
      "text/plain": [
       "convert_to_mbps (generic function with 1 method)"
      ]
     },
     "execution_count": 6,
     "metadata": {},
     "output_type": "execute_result"
    }
   ],
   "source": [
    "function convert_to_mbps(bandwidth)\n",
    "    try\n",
    "        if occursin(\"Mbps\", bandwidth)\n",
    "            return parse(Float64, replace(bandwidth, \" Mbps\" => \"\"))\n",
    "        elseif occursin(\"Kbps\", bandwidth)\n",
    "            return parse(Float64, replace(bandwidth, \" Kbps\" => \"\")) / 1000\n",
    "        else\n",
    "            return missing\n",
    "        end\n",
    "    catch\n",
    "        return missing\n",
    "    end\n",
    "end"
   ]
  },
  {
   "cell_type": "code",
   "execution_count": 7,
   "id": "c56a28b2",
   "metadata": {},
   "outputs": [
    {
     "data": {
      "text/plain": [
       "400-element Vector{Float64}:\n",
       " 15.0\n",
       "  0.12\n",
       "  6.0\n",
       "  1.5\n",
       "  3.0\n",
       "  0.55\n",
       "  1.0\n",
       "  0.015\n",
       "  3.5\n",
       "  2.0\n",
       " 14.0\n",
       "  2.8\n",
       "  1.2\n",
       "  ⋮\n",
       " 15.7\n",
       "  1.5\n",
       "  0.4\n",
       "  0.1\n",
       "  0.35\n",
       "  0.0\n",
       "  6.6\n",
       "  1.8\n",
       " 15.8\n",
       "  1.4\n",
       "  0.4\n",
       "  0.1"
      ]
     },
     "execution_count": 7,
     "metadata": {},
     "output_type": "execute_result"
    }
   ],
   "source": [
    "df.Required_Bandwidth_Mbps = map(x -> convert_to_mbps(string(x)), df.Required_Bandwidth)\n",
    "df.Allocated_Bandwidth_Mbps = map(x -> convert_to_mbps(string(x)), df.Allocated_Bandwidth)"
   ]
  },
  {
   "cell_type": "code",
   "execution_count": 8,
   "id": "91151eba",
   "metadata": {},
   "outputs": [
    {
     "data": {
      "text/plain": [
       "400-element Vector{Float64}:\n",
       "  30.0\n",
       "  20.0\n",
       "  40.0\n",
       "  10.0\n",
       "  25.0\n",
       "  50.0\n",
       "  30.0\n",
       " 100.0\n",
       "  35.0\n",
       "  45.0\n",
       "  32.0\n",
       "  24.0\n",
       "  28.0\n",
       "   ⋮\n",
       "  52.0\n",
       "  57.0\n",
       "   5.0\n",
       "   0.0\n",
       "  78.0\n",
       "  52.0\n",
       "  47.0\n",
       "  61.0\n",
       "  53.0\n",
       "  58.0\n",
       "   5.0\n",
       "   0.0"
      ]
     },
     "execution_count": 8,
     "metadata": {},
     "output_type": "execute_result"
    }
   ],
   "source": [
    "df.Latency_ms = try\n",
    "    parse.(Float64, replace.(df.Latency, \" ms\" => \"\"))\n",
    "catch\n",
    "    fill(missing, nrow(df))\n",
    "end"
   ]
  },
  {
   "cell_type": "code",
   "execution_count": 9,
   "id": "02b7d2c7",
   "metadata": {},
   "outputs": [
    {
     "data": {
      "text/plain": [
       "400-element Vector{Float64}:\n",
       "  -75.0\n",
       "  -80.0\n",
       "  -85.0\n",
       "  -70.0\n",
       "  -78.0\n",
       "  -90.0\n",
       "  -88.0\n",
       "  -95.0\n",
       "  -82.0\n",
       "  -75.0\n",
       "  -76.0\n",
       "  -79.0\n",
       "  -87.0\n",
       "    ⋮\n",
       "  -41.0\n",
       " -112.0\n",
       "  -40.0\n",
       " -112.0\n",
       " -123.0\n",
       "  -56.0\n",
       "  -41.0\n",
       " -110.0\n",
       "  -40.0\n",
       " -113.0\n",
       "  -40.0\n",
       " -113.0"
      ]
     },
     "execution_count": 9,
     "metadata": {},
     "output_type": "execute_result"
    }
   ],
   "source": [
    "df.Signal_Strength_dBm = try\n",
    "    parse.(Float64, replace.(df.Signal_Strength, \" dBm\" => \"\"))\n",
    "catch\n",
    "    fill(missing, nrow(df))\n",
    "end"
   ]
  },
  {
   "cell_type": "code",
   "execution_count": 12,
   "id": "5c7c764d",
   "metadata": {},
   "outputs": [
    {
     "data": {
      "text/plain": [
       "\"Cleaned_Quality_of_Service_5G.csv\""
      ]
     },
     "execution_count": 12,
     "metadata": {},
     "output_type": "execute_result"
    }
   ],
   "source": [
    "CSV.write(\"Cleaned_Quality_of_Service_5G.csv\", df)"
   ]
  },
  {
   "cell_type": "code",
   "execution_count": 13,
   "id": "6f03888b",
   "metadata": {},
   "outputs": [
    {
     "data": {
      "text/html": [
       "<div><div style = \"float: left;\"><span>400×12 DataFrame</span></div><div style = \"float: right;\"><span style = \"font-style: italic;\">375 rows omitted</span></div><div style = \"clear: both;\"></div></div><div class = \"data-frame\" style = \"overflow-x: scroll;\"><table class = \"data-frame\" style = \"margin-bottom: 6px;\"><thead><tr class = \"header\"><th class = \"rowNumber\" style = \"font-weight: bold; text-align: right;\">Row</th><th style = \"text-align: left;\">Timestamp</th><th style = \"text-align: left;\">User_ID</th><th style = \"text-align: left;\">Application_Type</th><th style = \"text-align: left;\">Signal_Strength</th><th style = \"text-align: left;\">Latency</th><th style = \"text-align: left;\">Required_Bandwidth</th><th style = \"text-align: left;\">Allocated_Bandwidth</th><th style = \"text-align: left;\">Resource_Allocation</th><th style = \"text-align: left;\">Required_Bandwidth_Mbps</th><th style = \"text-align: left;\">Allocated_Bandwidth_Mbps</th><th style = \"text-align: left;\">Latency_ms</th><th style = \"text-align: left;\">Signal_Strength_dBm</th></tr><tr class = \"subheader headerLastRow\"><th class = \"rowNumber\" style = \"font-weight: bold; text-align: right;\"></th><th title = \"String15\" style = \"text-align: left;\">String15</th><th title = \"String15\" style = \"text-align: left;\">String15</th><th title = \"String31\" style = \"text-align: left;\">String31</th><th title = \"String15\" style = \"text-align: left;\">String15</th><th title = \"String7\" style = \"text-align: left;\">String7</th><th title = \"String15\" style = \"text-align: left;\">String15</th><th title = \"String15\" style = \"text-align: left;\">String15</th><th title = \"Float64\" style = \"text-align: left;\">Float64</th><th title = \"Float64\" style = \"text-align: left;\">Float64</th><th title = \"Float64\" style = \"text-align: left;\">Float64</th><th title = \"Float64\" style = \"text-align: left;\">Float64</th><th title = \"Float64\" style = \"text-align: left;\">Float64</th></tr></thead><tbody><tr><td class = \"rowNumber\" style = \"font-weight: bold; text-align: right;\">1</td><td style = \"text-align: left;\">9/3/2023 10:00</td><td style = \"text-align: left;\">User_1</td><td style = \"text-align: left;\">Video_Call</td><td style = \"text-align: left;\">-75 dBm</td><td style = \"text-align: left;\">30 ms</td><td style = \"text-align: left;\">10 Mbps</td><td style = \"text-align: left;\">15 Mbps</td><td style = \"text-align: right;\">0.7</td><td style = \"text-align: right;\">10.0</td><td style = \"text-align: right;\">15.0</td><td style = \"text-align: right;\">30.0</td><td style = \"text-align: right;\">-75.0</td></tr><tr><td class = \"rowNumber\" style = \"font-weight: bold; text-align: right;\">2</td><td style = \"text-align: left;\">9/3/2023 10:00</td><td style = \"text-align: left;\">User_2</td><td style = \"text-align: left;\">Voice_Call</td><td style = \"text-align: left;\">-80 dBm</td><td style = \"text-align: left;\">20 ms</td><td style = \"text-align: left;\">100 Kbps</td><td style = \"text-align: left;\">120 Kbps</td><td style = \"text-align: right;\">0.8</td><td style = \"text-align: right;\">0.1</td><td style = \"text-align: right;\">0.12</td><td style = \"text-align: right;\">20.0</td><td style = \"text-align: right;\">-80.0</td></tr><tr><td class = \"rowNumber\" style = \"font-weight: bold; text-align: right;\">3</td><td style = \"text-align: left;\">9/3/2023 10:00</td><td style = \"text-align: left;\">User_3</td><td style = \"text-align: left;\">Streaming</td><td style = \"text-align: left;\">-85 dBm</td><td style = \"text-align: left;\">40 ms</td><td style = \"text-align: left;\">5 Mbps</td><td style = \"text-align: left;\">6 Mbps</td><td style = \"text-align: right;\">0.75</td><td style = \"text-align: right;\">5.0</td><td style = \"text-align: right;\">6.0</td><td style = \"text-align: right;\">40.0</td><td style = \"text-align: right;\">-85.0</td></tr><tr><td class = \"rowNumber\" style = \"font-weight: bold; text-align: right;\">4</td><td style = \"text-align: left;\">9/3/2023 10:00</td><td style = \"text-align: left;\">User_4</td><td style = \"text-align: left;\">Emergency_Service</td><td style = \"text-align: left;\">-70 dBm</td><td style = \"text-align: left;\">10 ms</td><td style = \"text-align: left;\">1 Mbps</td><td style = \"text-align: left;\">1.5 Mbps</td><td style = \"text-align: right;\">0.9</td><td style = \"text-align: right;\">1.0</td><td style = \"text-align: right;\">1.5</td><td style = \"text-align: right;\">10.0</td><td style = \"text-align: right;\">-70.0</td></tr><tr><td class = \"rowNumber\" style = \"font-weight: bold; text-align: right;\">5</td><td style = \"text-align: left;\">9/3/2023 10:00</td><td style = \"text-align: left;\">User_5</td><td style = \"text-align: left;\">Online_Gaming</td><td style = \"text-align: left;\">-78 dBm</td><td style = \"text-align: left;\">25 ms</td><td style = \"text-align: left;\">2 Mbps</td><td style = \"text-align: left;\">3 Mbps</td><td style = \"text-align: right;\">0.85</td><td style = \"text-align: right;\">2.0</td><td style = \"text-align: right;\">3.0</td><td style = \"text-align: right;\">25.0</td><td style = \"text-align: right;\">-78.0</td></tr><tr><td class = \"rowNumber\" style = \"font-weight: bold; text-align: right;\">6</td><td style = \"text-align: left;\">9/3/2023 10:00</td><td style = \"text-align: left;\">User_6</td><td style = \"text-align: left;\">Background_Download</td><td style = \"text-align: left;\">-90 dBm</td><td style = \"text-align: left;\">50 ms</td><td style = \"text-align: left;\">500 Kbps</td><td style = \"text-align: left;\">550 Kbps</td><td style = \"text-align: right;\">0.7</td><td style = \"text-align: right;\">0.5</td><td style = \"text-align: right;\">0.55</td><td style = \"text-align: right;\">50.0</td><td style = \"text-align: right;\">-90.0</td></tr><tr><td class = \"rowNumber\" style = \"font-weight: bold; text-align: right;\">7</td><td style = \"text-align: left;\">9/3/2023 10:00</td><td style = \"text-align: left;\">User_7</td><td style = \"text-align: left;\">Web_Browsing</td><td style = \"text-align: left;\">-88 dBm</td><td style = \"text-align: left;\">30 ms</td><td style = \"text-align: left;\">1 Mbps</td><td style = \"text-align: left;\">1 Mbps</td><td style = \"text-align: right;\">0.6</td><td style = \"text-align: right;\">1.0</td><td style = \"text-align: right;\">1.0</td><td style = \"text-align: right;\">30.0</td><td style = \"text-align: right;\">-88.0</td></tr><tr><td class = \"rowNumber\" style = \"font-weight: bold; text-align: right;\">8</td><td style = \"text-align: left;\">9/3/2023 10:00</td><td style = \"text-align: left;\">User_8</td><td style = \"text-align: left;\">IoT_Temperature</td><td style = \"text-align: left;\">-95 dBm</td><td style = \"text-align: left;\">100 ms</td><td style = \"text-align: left;\">10 Kbps</td><td style = \"text-align: left;\">15 Kbps</td><td style = \"text-align: right;\">0.5</td><td style = \"text-align: right;\">0.01</td><td style = \"text-align: right;\">0.015</td><td style = \"text-align: right;\">100.0</td><td style = \"text-align: right;\">-95.0</td></tr><tr><td class = \"rowNumber\" style = \"font-weight: bold; text-align: right;\">9</td><td style = \"text-align: left;\">9/3/2023 10:00</td><td style = \"text-align: left;\">User_9</td><td style = \"text-align: left;\">Video_Streaming</td><td style = \"text-align: left;\">-82 dBm</td><td style = \"text-align: left;\">35 ms</td><td style = \"text-align: left;\">3 Mbps</td><td style = \"text-align: left;\">3.5 Mbps</td><td style = \"text-align: right;\">0.8</td><td style = \"text-align: right;\">3.0</td><td style = \"text-align: right;\">3.5</td><td style = \"text-align: right;\">35.0</td><td style = \"text-align: right;\">-82.0</td></tr><tr><td class = \"rowNumber\" style = \"font-weight: bold; text-align: right;\">10</td><td style = \"text-align: left;\">9/3/2023 10:00</td><td style = \"text-align: left;\">User_10</td><td style = \"text-align: left;\">File_Download</td><td style = \"text-align: left;\">-75 dBm</td><td style = \"text-align: left;\">45 ms</td><td style = \"text-align: left;\">2 Mbps</td><td style = \"text-align: left;\">2 Mbps</td><td style = \"text-align: right;\">0.7</td><td style = \"text-align: right;\">2.0</td><td style = \"text-align: right;\">2.0</td><td style = \"text-align: right;\">45.0</td><td style = \"text-align: right;\">-75.0</td></tr><tr><td class = \"rowNumber\" style = \"font-weight: bold; text-align: right;\">11</td><td style = \"text-align: left;\">9/3/2023 10:00</td><td style = \"text-align: left;\">User_11</td><td style = \"text-align: left;\">Video_Call</td><td style = \"text-align: left;\">-76 dBm</td><td style = \"text-align: left;\">32 ms</td><td style = \"text-align: left;\">12 Mbps</td><td style = \"text-align: left;\">14 Mbps</td><td style = \"text-align: right;\">0.7</td><td style = \"text-align: right;\">12.0</td><td style = \"text-align: right;\">14.0</td><td style = \"text-align: right;\">32.0</td><td style = \"text-align: right;\">-76.0</td></tr><tr><td class = \"rowNumber\" style = \"font-weight: bold; text-align: right;\">12</td><td style = \"text-align: left;\">9/3/2023 10:00</td><td style = \"text-align: left;\">User_12</td><td style = \"text-align: left;\">Online_Gaming</td><td style = \"text-align: left;\">-79 dBm</td><td style = \"text-align: left;\">24 ms</td><td style = \"text-align: left;\">2.5 Mbps</td><td style = \"text-align: left;\">2.8 Mbps</td><td style = \"text-align: right;\">0.75</td><td style = \"text-align: right;\">2.5</td><td style = \"text-align: right;\">2.8</td><td style = \"text-align: right;\">24.0</td><td style = \"text-align: right;\">-79.0</td></tr><tr><td class = \"rowNumber\" style = \"font-weight: bold; text-align: right;\">13</td><td style = \"text-align: left;\">9/3/2023 10:00</td><td style = \"text-align: left;\">User_13</td><td style = \"text-align: left;\">Web_Browsing</td><td style = \"text-align: left;\">-87 dBm</td><td style = \"text-align: left;\">28 ms</td><td style = \"text-align: left;\">1.2 Mbps</td><td style = \"text-align: left;\">1.2 Mbps</td><td style = \"text-align: right;\">0.65</td><td style = \"text-align: right;\">1.2</td><td style = \"text-align: right;\">1.2</td><td style = \"text-align: right;\">28.0</td><td style = \"text-align: right;\">-87.0</td></tr><tr><td style = \"text-align: right;\">&vellip;</td><td style = \"text-align: right;\">&vellip;</td><td style = \"text-align: right;\">&vellip;</td><td style = \"text-align: right;\">&vellip;</td><td style = \"text-align: right;\">&vellip;</td><td style = \"text-align: right;\">&vellip;</td><td style = \"text-align: right;\">&vellip;</td><td style = \"text-align: right;\">&vellip;</td><td style = \"text-align: right;\">&vellip;</td><td style = \"text-align: right;\">&vellip;</td><td style = \"text-align: right;\">&vellip;</td><td style = \"text-align: right;\">&vellip;</td><td style = \"text-align: right;\">&vellip;</td></tr><tr><td class = \"rowNumber\" style = \"font-weight: bold; text-align: right;\">389</td><td style = \"text-align: left;\">9/3/2023 10:06</td><td style = \"text-align: left;\">User_389</td><td style = \"text-align: left;\">Video_Call</td><td style = \"text-align: left;\">-41 dBm</td><td style = \"text-align: left;\">52 ms</td><td style = \"text-align: left;\">14.4 Mbps</td><td style = \"text-align: left;\">15.7 Mbps</td><td style = \"text-align: right;\">0.75</td><td style = \"text-align: right;\">14.4</td><td style = \"text-align: right;\">15.7</td><td style = \"text-align: right;\">52.0</td><td style = \"text-align: right;\">-41.0</td></tr><tr><td class = \"rowNumber\" style = \"font-weight: bold; text-align: right;\">390</td><td style = \"text-align: left;\">9/3/2023 10:06</td><td style = \"text-align: left;\">User_390</td><td style = \"text-align: left;\">Video_Streaming</td><td style = \"text-align: left;\">-112 dBm</td><td style = \"text-align: left;\">57 ms</td><td style = \"text-align: left;\">1.1 Mbps</td><td style = \"text-align: left;\">1.5 Mbps</td><td style = \"text-align: right;\">0.7</td><td style = \"text-align: right;\">1.1</td><td style = \"text-align: right;\">1.5</td><td style = \"text-align: right;\">57.0</td><td style = \"text-align: right;\">-112.0</td></tr><tr><td class = \"rowNumber\" style = \"font-weight: bold; text-align: right;\">391</td><td style = \"text-align: left;\">9/3/2023 10:06</td><td style = \"text-align: left;\">User_391</td><td style = \"text-align: left;\">Emergency_Service</td><td style = \"text-align: left;\">-40 dBm</td><td style = \"text-align: left;\">5 ms</td><td style = \"text-align: left;\">0.4 Mbps</td><td style = \"text-align: left;\">0.4 Mbps</td><td style = \"text-align: right;\">0.7</td><td style = \"text-align: right;\">0.4</td><td style = \"text-align: right;\">0.4</td><td style = \"text-align: right;\">5.0</td><td style = \"text-align: right;\">-40.0</td></tr><tr><td class = \"rowNumber\" style = \"font-weight: bold; text-align: right;\">392</td><td style = \"text-align: left;\">9/3/2023 10:06</td><td style = \"text-align: left;\">User_392</td><td style = \"text-align: left;\">Web_Browsing</td><td style = \"text-align: left;\">-112 dBm</td><td style = \"text-align: left;\">0 ms</td><td style = \"text-align: left;\">0.1 Mbps</td><td style = \"text-align: left;\">0.1 Mbps</td><td style = \"text-align: right;\">0.7</td><td style = \"text-align: right;\">0.1</td><td style = \"text-align: right;\">0.1</td><td style = \"text-align: right;\">0.0</td><td style = \"text-align: right;\">-112.0</td></tr><tr><td class = \"rowNumber\" style = \"font-weight: bold; text-align: right;\">393</td><td style = \"text-align: left;\">9/3/2023 10:06</td><td style = \"text-align: left;\">User_393</td><td style = \"text-align: left;\">Background_Download</td><td style = \"text-align: left;\">-123 dBm</td><td style = \"text-align: left;\">78 ms</td><td style = \"text-align: left;\">350 Kbps</td><td style = \"text-align: left;\">350 Kbps</td><td style = \"text-align: right;\">0.6</td><td style = \"text-align: right;\">0.35</td><td style = \"text-align: right;\">0.35</td><td style = \"text-align: right;\">78.0</td><td style = \"text-align: right;\">-123.0</td></tr><tr><td class = \"rowNumber\" style = \"font-weight: bold; text-align: right;\">394</td><td style = \"text-align: left;\">9/3/2023 10:06</td><td style = \"text-align: left;\">User_394</td><td style = \"text-align: left;\">VoIP_Call</td><td style = \"text-align: left;\">-56 dBm</td><td style = \"text-align: left;\">52 ms</td><td style = \"text-align: left;\">0 Kbps</td><td style = \"text-align: left;\">0 Kbps</td><td style = \"text-align: right;\">0.9</td><td style = \"text-align: right;\">0.0</td><td style = \"text-align: right;\">0.0</td><td style = \"text-align: right;\">52.0</td><td style = \"text-align: right;\">-56.0</td></tr><tr><td class = \"rowNumber\" style = \"font-weight: bold; text-align: right;\">395</td><td style = \"text-align: left;\">9/3/2023 10:06</td><td style = \"text-align: left;\">User_395</td><td style = \"text-align: left;\">Online_Gaming</td><td style = \"text-align: left;\">-41 dBm</td><td style = \"text-align: left;\">47 ms</td><td style = \"text-align: left;\">6.3 Mbps</td><td style = \"text-align: left;\">6.6 Mbps</td><td style = \"text-align: right;\">0.8</td><td style = \"text-align: right;\">6.3</td><td style = \"text-align: right;\">6.6</td><td style = \"text-align: right;\">47.0</td><td style = \"text-align: right;\">-41.0</td></tr><tr><td class = \"rowNumber\" style = \"font-weight: bold; text-align: right;\">396</td><td style = \"text-align: left;\">9/3/2023 10:06</td><td style = \"text-align: left;\">User_396</td><td style = \"text-align: left;\">Streaming</td><td style = \"text-align: left;\">-110 dBm</td><td style = \"text-align: left;\">61 ms</td><td style = \"text-align: left;\">1.3 Mbps</td><td style = \"text-align: left;\">1.8 Mbps</td><td style = \"text-align: right;\">0.85</td><td style = \"text-align: right;\">1.3</td><td style = \"text-align: right;\">1.8</td><td style = \"text-align: right;\">61.0</td><td style = \"text-align: right;\">-110.0</td></tr><tr><td class = \"rowNumber\" style = \"font-weight: bold; text-align: right;\">397</td><td style = \"text-align: left;\">9/3/2023 10:06</td><td style = \"text-align: left;\">User_397</td><td style = \"text-align: left;\">Video_Call</td><td style = \"text-align: left;\">-40 dBm</td><td style = \"text-align: left;\">53 ms</td><td style = \"text-align: left;\">14.5 Mbps</td><td style = \"text-align: left;\">15.8 Mbps</td><td style = \"text-align: right;\">0.75</td><td style = \"text-align: right;\">14.5</td><td style = \"text-align: right;\">15.8</td><td style = \"text-align: right;\">53.0</td><td style = \"text-align: right;\">-40.0</td></tr><tr><td class = \"rowNumber\" style = \"font-weight: bold; text-align: right;\">398</td><td style = \"text-align: left;\">9/3/2023 10:06</td><td style = \"text-align: left;\">User_398</td><td style = \"text-align: left;\">Video_Streaming</td><td style = \"text-align: left;\">-113 dBm</td><td style = \"text-align: left;\">58 ms</td><td style = \"text-align: left;\">1.0 Mbps</td><td style = \"text-align: left;\">1.4 Mbps</td><td style = \"text-align: right;\">0.7</td><td style = \"text-align: right;\">1.0</td><td style = \"text-align: right;\">1.4</td><td style = \"text-align: right;\">58.0</td><td style = \"text-align: right;\">-113.0</td></tr><tr><td class = \"rowNumber\" style = \"font-weight: bold; text-align: right;\">399</td><td style = \"text-align: left;\">9/3/2023 10:06</td><td style = \"text-align: left;\">User_399</td><td style = \"text-align: left;\">Emergency_Service</td><td style = \"text-align: left;\">-40 dBm</td><td style = \"text-align: left;\">5 ms</td><td style = \"text-align: left;\">0.4 Mbps</td><td style = \"text-align: left;\">0.4 Mbps</td><td style = \"text-align: right;\">0.7</td><td style = \"text-align: right;\">0.4</td><td style = \"text-align: right;\">0.4</td><td style = \"text-align: right;\">5.0</td><td style = \"text-align: right;\">-40.0</td></tr><tr><td class = \"rowNumber\" style = \"font-weight: bold; text-align: right;\">400</td><td style = \"text-align: left;\">9/3/2023 10:06</td><td style = \"text-align: left;\">User_400</td><td style = \"text-align: left;\">Web_Browsing</td><td style = \"text-align: left;\">-113 dBm</td><td style = \"text-align: left;\">0 ms</td><td style = \"text-align: left;\">0.1 Mbps</td><td style = \"text-align: left;\">0.1 Mbps</td><td style = \"text-align: right;\">0.7</td><td style = \"text-align: right;\">0.1</td><td style = \"text-align: right;\">0.1</td><td style = \"text-align: right;\">0.0</td><td style = \"text-align: right;\">-113.0</td></tr></tbody></table></div>"
      ],
      "text/latex": [
       "\\begin{tabular}{r|ccccccc}\n",
       "\t& Timestamp & User\\_ID & Application\\_Type & Signal\\_Strength & Latency & Required\\_Bandwidth & \\\\\n",
       "\t\\hline\n",
       "\t& String15 & String15 & String31 & String15 & String7 & String15 & \\\\\n",
       "\t\\hline\n",
       "\t1 & 9/3/2023 10:00 & User\\_1 & Video\\_Call & -75 dBm & 30 ms & 10 Mbps & $\\dots$ \\\\\n",
       "\t2 & 9/3/2023 10:00 & User\\_2 & Voice\\_Call & -80 dBm & 20 ms & 100 Kbps & $\\dots$ \\\\\n",
       "\t3 & 9/3/2023 10:00 & User\\_3 & Streaming & -85 dBm & 40 ms & 5 Mbps & $\\dots$ \\\\\n",
       "\t4 & 9/3/2023 10:00 & User\\_4 & Emergency\\_Service & -70 dBm & 10 ms & 1 Mbps & $\\dots$ \\\\\n",
       "\t5 & 9/3/2023 10:00 & User\\_5 & Online\\_Gaming & -78 dBm & 25 ms & 2 Mbps & $\\dots$ \\\\\n",
       "\t6 & 9/3/2023 10:00 & User\\_6 & Background\\_Download & -90 dBm & 50 ms & 500 Kbps & $\\dots$ \\\\\n",
       "\t7 & 9/3/2023 10:00 & User\\_7 & Web\\_Browsing & -88 dBm & 30 ms & 1 Mbps & $\\dots$ \\\\\n",
       "\t8 & 9/3/2023 10:00 & User\\_8 & IoT\\_Temperature & -95 dBm & 100 ms & 10 Kbps & $\\dots$ \\\\\n",
       "\t9 & 9/3/2023 10:00 & User\\_9 & Video\\_Streaming & -82 dBm & 35 ms & 3 Mbps & $\\dots$ \\\\\n",
       "\t10 & 9/3/2023 10:00 & User\\_10 & File\\_Download & -75 dBm & 45 ms & 2 Mbps & $\\dots$ \\\\\n",
       "\t11 & 9/3/2023 10:00 & User\\_11 & Video\\_Call & -76 dBm & 32 ms & 12 Mbps & $\\dots$ \\\\\n",
       "\t12 & 9/3/2023 10:00 & User\\_12 & Online\\_Gaming & -79 dBm & 24 ms & 2.5 Mbps & $\\dots$ \\\\\n",
       "\t13 & 9/3/2023 10:00 & User\\_13 & Web\\_Browsing & -87 dBm & 28 ms & 1.2 Mbps & $\\dots$ \\\\\n",
       "\t14 & 9/3/2023 10:00 & User\\_14 & VoIP\\_Call & -81 dBm & 22 ms & 150 Kbps & $\\dots$ \\\\\n",
       "\t15 & 9/3/2023 10:00 & User\\_15 & Video\\_Call & -74 dBm & 29 ms & 10 Mbps & $\\dots$ \\\\\n",
       "\t16 & 9/3/2023 10:00 & User\\_16 & Streaming & -84 dBm & 38 ms & 4.5 Mbps & $\\dots$ \\\\\n",
       "\t17 & 9/3/2023 10:00 & User\\_17 & Emergency\\_Service & -69 dBm & 9 ms & 1.2 Mbps & $\\dots$ \\\\\n",
       "\t18 & 9/3/2023 10:00 & User\\_18 & Background\\_Download & -91 dBm & 48 ms & 600 Kbps & $\\dots$ \\\\\n",
       "\t19 & 9/3/2023 10:00 & User\\_19 & IoT\\_Temperature & -96 dBm & 105 ms & 8 Kbps & $\\dots$ \\\\\n",
       "\t20 & 9/3/2023 10:00 & User\\_20 & Video\\_Streaming & -83 dBm & 34 ms & 3.2 Mbps & $\\dots$ \\\\\n",
       "\t21 & 9/3/2023 10:00 & User\\_21 & Video\\_Call & -77 dBm & 31 ms & 11 Mbps & $\\dots$ \\\\\n",
       "\t22 & 9/3/2023 10:00 & User\\_22 & Online\\_Gaming & -80 dBm & 23 ms & 2.2 Mbps & $\\dots$ \\\\\n",
       "\t23 & 9/3/2023 10:00 & User\\_23 & Web\\_Browsing & -86 dBm & 29 ms & 1.4 Mbps & $\\dots$ \\\\\n",
       "\t24 & 9/3/2023 10:00 & User\\_24 & VoIP\\_Call & -82 dBm & 21 ms & 160 Kbps & $\\dots$ \\\\\n",
       "\t25 & 9/3/2023 10:00 & User\\_25 & Video\\_Call & -73 dBm & 28 ms & 10.5 Mbps & $\\dots$ \\\\\n",
       "\t26 & 9/3/2023 10:00 & User\\_26 & Streaming & -83 dBm & 37 ms & 4.2 Mbps & $\\dots$ \\\\\n",
       "\t27 & 9/3/2023 10:00 & User\\_27 & Emergency\\_Service & -68 dBm & 8 ms & 1.1 Mbps & $\\dots$ \\\\\n",
       "\t28 & 9/3/2023 10:00 & User\\_28 & Background\\_Download & -92 dBm & 47 ms & 620 Kbps & $\\dots$ \\\\\n",
       "\t29 & 9/3/2023 10:00 & User\\_29 & IoT\\_Temperature & -97 dBm & 110 ms & 7 Kbps & $\\dots$ \\\\\n",
       "\t30 & 9/3/2023 10:00 & User\\_30 & Video\\_Streaming & -84 dBm & 33 ms & 3.4 Mbps & $\\dots$ \\\\\n",
       "\t$\\dots$ & $\\dots$ & $\\dots$ & $\\dots$ & $\\dots$ & $\\dots$ & $\\dots$ &  \\\\\n",
       "\\end{tabular}\n"
      ],
      "text/plain": [
       "\u001b[1m400×12 DataFrame\u001b[0m\n",
       "\u001b[1m Row \u001b[0m│\u001b[1m Timestamp      \u001b[0m\u001b[1m User_ID  \u001b[0m\u001b[1m Application_Type    \u001b[0m\u001b[1m Signal_Strength \u001b[0m\u001b[1m Latency\u001b[0m ⋯\n",
       "     │\u001b[90m String15       \u001b[0m\u001b[90m String15 \u001b[0m\u001b[90m String31            \u001b[0m\u001b[90m String15        \u001b[0m\u001b[90m String7\u001b[0m ⋯\n",
       "─────┼──────────────────────────────────────────────────────────────────────────\n",
       "   1 │ 9/3/2023 10:00  User_1    Video_Call           -75 dBm          30 ms   ⋯\n",
       "   2 │ 9/3/2023 10:00  User_2    Voice_Call           -80 dBm          20 ms\n",
       "   3 │ 9/3/2023 10:00  User_3    Streaming            -85 dBm          40 ms\n",
       "   4 │ 9/3/2023 10:00  User_4    Emergency_Service    -70 dBm          10 ms\n",
       "   5 │ 9/3/2023 10:00  User_5    Online_Gaming        -78 dBm          25 ms   ⋯\n",
       "   6 │ 9/3/2023 10:00  User_6    Background_Download  -90 dBm          50 ms\n",
       "   7 │ 9/3/2023 10:00  User_7    Web_Browsing         -88 dBm          30 ms\n",
       "   8 │ 9/3/2023 10:00  User_8    IoT_Temperature      -95 dBm          100 ms\n",
       "   9 │ 9/3/2023 10:00  User_9    Video_Streaming      -82 dBm          35 ms   ⋯\n",
       "  10 │ 9/3/2023 10:00  User_10   File_Download        -75 dBm          45 ms\n",
       "  11 │ 9/3/2023 10:00  User_11   Video_Call           -76 dBm          32 ms\n",
       "  ⋮  │       ⋮            ⋮               ⋮                  ⋮            ⋮    ⋱\n",
       " 391 │ 9/3/2023 10:06  User_391  Emergency_Service    -40 dBm          5 ms\n",
       " 392 │ 9/3/2023 10:06  User_392  Web_Browsing         -112 dBm         0 ms    ⋯\n",
       " 393 │ 9/3/2023 10:06  User_393  Background_Download  -123 dBm         78 ms\n",
       " 394 │ 9/3/2023 10:06  User_394  VoIP_Call            -56 dBm          52 ms\n",
       " 395 │ 9/3/2023 10:06  User_395  Online_Gaming        -41 dBm          47 ms\n",
       " 396 │ 9/3/2023 10:06  User_396  Streaming            -110 dBm         61 ms   ⋯\n",
       " 397 │ 9/3/2023 10:06  User_397  Video_Call           -40 dBm          53 ms\n",
       " 398 │ 9/3/2023 10:06  User_398  Video_Streaming      -113 dBm         58 ms\n",
       " 399 │ 9/3/2023 10:06  User_399  Emergency_Service    -40 dBm          5 ms\n",
       " 400 │ 9/3/2023 10:06  User_400  Web_Browsing         -113 dBm         0 ms    ⋯\n",
       "\u001b[36m                                                  7 columns and 379 rows omitted\u001b[0m"
      ]
     },
     "execution_count": 13,
     "metadata": {},
     "output_type": "execute_result"
    }
   ],
   "source": [
    "df = CSV.read(\"Cleaned_Quality_of_Service_5G.csv\", DataFrame)"
   ]
  },
  {
   "cell_type": "code",
   "execution_count": 14,
   "id": "4ba35288",
   "metadata": {},
   "outputs": [
    {
     "data": {
      "text/html": [
       "<div><div style = \"float: left;\"><span>11×3 DataFrame</span></div><div style = \"clear: both;\"></div></div><div class = \"data-frame\" style = \"overflow-x: scroll;\"><table class = \"data-frame\" style = \"margin-bottom: 6px;\"><thead><tr class = \"header\"><th class = \"rowNumber\" style = \"font-weight: bold; text-align: right;\">Row</th><th style = \"text-align: left;\">Application_Type</th><th style = \"text-align: left;\">Avg_Required_Bandwidth</th><th style = \"text-align: left;\">Avg_Latency</th></tr><tr class = \"subheader headerLastRow\"><th class = \"rowNumber\" style = \"font-weight: bold; text-align: right;\"></th><th title = \"String31\" style = \"text-align: left;\">String31</th><th title = \"Float64\" style = \"text-align: left;\">Float64</th><th title = \"Float64\" style = \"text-align: left;\">Float64</th></tr></thead><tbody><tr><td class = \"rowNumber\" style = \"font-weight: bold; text-align: right;\">1</td><td style = \"text-align: left;\">Video_Call</td><td style = \"text-align: right;\">11.8147</td><td style = \"text-align: right;\">32.8793</td></tr><tr><td class = \"rowNumber\" style = \"font-weight: bold; text-align: right;\">2</td><td style = \"text-align: left;\">Voice_Call</td><td style = \"text-align: right;\">0.1</td><td style = \"text-align: right;\">20.0</td></tr><tr><td class = \"rowNumber\" style = \"font-weight: bold; text-align: right;\">3</td><td style = \"text-align: left;\">Streaming</td><td style = \"text-align: right;\">3.35319</td><td style = \"text-align: right;\">41.8511</td></tr><tr><td class = \"rowNumber\" style = \"font-weight: bold; text-align: right;\">4</td><td style = \"text-align: left;\">Emergency_Service</td><td style = \"text-align: right;\">0.678723</td><td style = \"text-align: right;\">5.57447</td></tr><tr><td class = \"rowNumber\" style = \"font-weight: bold; text-align: right;\">5</td><td style = \"text-align: left;\">Online_Gaming</td><td style = \"text-align: right;\">4.14</td><td style = \"text-align: right;\">29.1111</td></tr><tr><td class = \"rowNumber\" style = \"font-weight: bold; text-align: right;\">6</td><td style = \"text-align: left;\">Background_Download</td><td style = \"text-align: right;\">0.547872</td><td style = \"text-align: right;\">56.9787</td></tr><tr><td class = \"rowNumber\" style = \"font-weight: bold; text-align: right;\">7</td><td style = \"text-align: left;\">Web_Browsing</td><td style = \"text-align: right;\">0.4875</td><td style = \"text-align: right;\">15.5625</td></tr><tr><td class = \"rowNumber\" style = \"font-weight: bold; text-align: right;\">8</td><td style = \"text-align: left;\">IoT_Temperature</td><td style = \"text-align: right;\">0.00384615</td><td style = \"text-align: right;\">102.154</td></tr><tr><td class = \"rowNumber\" style = \"font-weight: bold; text-align: right;\">9</td><td style = \"text-align: left;\">Video_Streaming</td><td style = \"text-align: right;\">2.9383</td><td style = \"text-align: right;\">38.8511</td></tr><tr><td class = \"rowNumber\" style = \"font-weight: bold; text-align: right;\">10</td><td style = \"text-align: left;\">File_Download</td><td style = \"text-align: right;\">2.0</td><td style = \"text-align: right;\">45.0</td></tr><tr><td class = \"rowNumber\" style = \"font-weight: bold; text-align: right;\">11</td><td style = \"text-align: left;\">VoIP_Call</td><td style = \"text-align: right;\">0.0816304</td><td style = \"text-align: right;\">31.3043</td></tr></tbody></table></div>"
      ],
      "text/latex": [
       "\\begin{tabular}{r|ccc}\n",
       "\t& Application\\_Type & Avg\\_Required\\_Bandwidth & Avg\\_Latency\\\\\n",
       "\t\\hline\n",
       "\t& String31 & Float64 & Float64\\\\\n",
       "\t\\hline\n",
       "\t1 & Video\\_Call & 11.8147 & 32.8793 \\\\\n",
       "\t2 & Voice\\_Call & 0.1 & 20.0 \\\\\n",
       "\t3 & Streaming & 3.35319 & 41.8511 \\\\\n",
       "\t4 & Emergency\\_Service & 0.678723 & 5.57447 \\\\\n",
       "\t5 & Online\\_Gaming & 4.14 & 29.1111 \\\\\n",
       "\t6 & Background\\_Download & 0.547872 & 56.9787 \\\\\n",
       "\t7 & Web\\_Browsing & 0.4875 & 15.5625 \\\\\n",
       "\t8 & IoT\\_Temperature & 0.00384615 & 102.154 \\\\\n",
       "\t9 & Video\\_Streaming & 2.9383 & 38.8511 \\\\\n",
       "\t10 & File\\_Download & 2.0 & 45.0 \\\\\n",
       "\t11 & VoIP\\_Call & 0.0816304 & 31.3043 \\\\\n",
       "\\end{tabular}\n"
      ],
      "text/plain": [
       "\u001b[1m11×3 DataFrame\u001b[0m\n",
       "\u001b[1m Row \u001b[0m│\u001b[1m Application_Type    \u001b[0m\u001b[1m Avg_Required_Bandwidth \u001b[0m\u001b[1m Avg_Latency \u001b[0m\n",
       "     │\u001b[90m String31            \u001b[0m\u001b[90m Float64                \u001b[0m\u001b[90m Float64     \u001b[0m\n",
       "─────┼──────────────────────────────────────────────────────────\n",
       "   1 │ Video_Call                      11.8147         32.8793\n",
       "   2 │ Voice_Call                       0.1            20.0\n",
       "   3 │ Streaming                        3.35319        41.8511\n",
       "   4 │ Emergency_Service                0.678723        5.57447\n",
       "   5 │ Online_Gaming                    4.14           29.1111\n",
       "   6 │ Background_Download              0.547872       56.9787\n",
       "   7 │ Web_Browsing                     0.4875         15.5625\n",
       "   8 │ IoT_Temperature                  0.00384615    102.154\n",
       "   9 │ Video_Streaming                  2.9383         38.8511\n",
       "  10 │ File_Download                    2.0            45.0\n",
       "  11 │ VoIP_Call                        0.0816304      31.3043"
      ]
     },
     "execution_count": 14,
     "metadata": {},
     "output_type": "execute_result"
    }
   ],
   "source": [
    "grouped = combine(groupby(df, :Application_Type), \n",
    "                  :Required_Bandwidth_Mbps => mean => :Avg_Required_Bandwidth,\n",
    "                  :Latency_ms => mean => :Avg_Latency)"
   ]
  },
  {
   "cell_type": "code",
   "execution_count": 15,
   "id": "52e6f71e",
   "metadata": {},
   "outputs": [
    {
     "data": {
      "text/html": [
       "<div><div style = \"float: left;\"><span>11×5 DataFrame</span></div><div style = \"clear: both;\"></div></div><div class = \"data-frame\" style = \"overflow-x: scroll;\"><table class = \"data-frame\" style = \"margin-bottom: 6px;\"><thead><tr class = \"header\"><th class = \"rowNumber\" style = \"font-weight: bold; text-align: right;\">Row</th><th style = \"text-align: left;\">Application_Type</th><th style = \"text-align: left;\">Avg_Required_Bandwidth</th><th style = \"text-align: left;\">Avg_Latency</th><th style = \"text-align: left;\">Score</th><th style = \"text-align: left;\">alpha_j</th></tr><tr class = \"subheader headerLastRow\"><th class = \"rowNumber\" style = \"font-weight: bold; text-align: right;\"></th><th title = \"String31\" style = \"text-align: left;\">String31</th><th title = \"Float64\" style = \"text-align: left;\">Float64</th><th title = \"Float64\" style = \"text-align: left;\">Float64</th><th title = \"Float64\" style = \"text-align: left;\">Float64</th><th title = \"Float64\" style = \"text-align: left;\">Float64</th></tr></thead><tbody><tr><td class = \"rowNumber\" style = \"font-weight: bold; text-align: right;\">1</td><td style = \"text-align: left;\">Video_Call</td><td style = \"text-align: right;\">11.8147</td><td style = \"text-align: right;\">32.8793</td><td style = \"text-align: right;\">0.359334</td><td style = \"text-align: right;\">0.41204</td></tr><tr><td class = \"rowNumber\" style = \"font-weight: bold; text-align: right;\">2</td><td style = \"text-align: left;\">Online_Gaming</td><td style = \"text-align: right;\">4.14</td><td style = \"text-align: right;\">29.1111</td><td style = \"text-align: right;\">0.142214</td><td style = \"text-align: right;\">0.163073</td></tr><tr><td class = \"rowNumber\" style = \"font-weight: bold; text-align: right;\">3</td><td style = \"text-align: left;\">Emergency_Service</td><td style = \"text-align: right;\">0.678723</td><td style = \"text-align: right;\">5.57447</td><td style = \"text-align: right;\">0.121756</td><td style = \"text-align: right;\">0.139614</td></tr><tr><td class = \"rowNumber\" style = \"font-weight: bold; text-align: right;\">4</td><td style = \"text-align: left;\">Streaming</td><td style = \"text-align: right;\">3.35319</td><td style = \"text-align: right;\">41.8511</td><td style = \"text-align: right;\">0.080122</td><td style = \"text-align: right;\">0.091874</td></tr><tr><td class = \"rowNumber\" style = \"font-weight: bold; text-align: right;\">5</td><td style = \"text-align: left;\">Video_Streaming</td><td style = \"text-align: right;\">2.9383</td><td style = \"text-align: right;\">38.8511</td><td style = \"text-align: right;\">0.0756298</td><td style = \"text-align: right;\">0.0867229</td></tr><tr><td class = \"rowNumber\" style = \"font-weight: bold; text-align: right;\">6</td><td style = \"text-align: left;\">File_Download</td><td style = \"text-align: right;\">2.0</td><td style = \"text-align: right;\">45.0</td><td style = \"text-align: right;\">0.0444444</td><td style = \"text-align: right;\">0.0509634</td></tr><tr><td class = \"rowNumber\" style = \"font-weight: bold; text-align: right;\">7</td><td style = \"text-align: left;\">Web_Browsing</td><td style = \"text-align: right;\">0.4875</td><td style = \"text-align: right;\">15.5625</td><td style = \"text-align: right;\">0.0313253</td><td style = \"text-align: right;\">0.03592</td></tr><tr><td class = \"rowNumber\" style = \"font-weight: bold; text-align: right;\">8</td><td style = \"text-align: left;\">Background_Download</td><td style = \"text-align: right;\">0.547872</td><td style = \"text-align: right;\">56.9787</td><td style = \"text-align: right;\">0.00961538</td><td style = \"text-align: right;\">0.0110257</td></tr><tr><td class = \"rowNumber\" style = \"font-weight: bold; text-align: right;\">9</td><td style = \"text-align: left;\">Voice_Call</td><td style = \"text-align: right;\">0.1</td><td style = \"text-align: right;\">20.0</td><td style = \"text-align: right;\">0.005</td><td style = \"text-align: right;\">0.00573338</td></tr><tr><td class = \"rowNumber\" style = \"font-weight: bold; text-align: right;\">10</td><td style = \"text-align: left;\">VoIP_Call</td><td style = \"text-align: right;\">0.0816304</td><td style = \"text-align: right;\">31.3043</td><td style = \"text-align: right;\">0.00260764</td><td style = \"text-align: right;\">0.00299012</td></tr><tr><td class = \"rowNumber\" style = \"font-weight: bold; text-align: right;\">11</td><td style = \"text-align: left;\">IoT_Temperature</td><td style = \"text-align: right;\">0.00384615</td><td style = \"text-align: right;\">102.154</td><td style = \"text-align: right;\">3.76506e-5</td><td style = \"text-align: right;\">4.31731e-5</td></tr></tbody></table></div>"
      ],
      "text/latex": [
       "\\begin{tabular}{r|ccccc}\n",
       "\t& Application\\_Type & Avg\\_Required\\_Bandwidth & Avg\\_Latency & Score & alpha\\_j\\\\\n",
       "\t\\hline\n",
       "\t& String31 & Float64 & Float64 & Float64 & Float64\\\\\n",
       "\t\\hline\n",
       "\t1 & Video\\_Call & 11.8147 & 32.8793 & 0.359334 & 0.41204 \\\\\n",
       "\t2 & Online\\_Gaming & 4.14 & 29.1111 & 0.142214 & 0.163073 \\\\\n",
       "\t3 & Emergency\\_Service & 0.678723 & 5.57447 & 0.121756 & 0.139614 \\\\\n",
       "\t4 & Streaming & 3.35319 & 41.8511 & 0.080122 & 0.091874 \\\\\n",
       "\t5 & Video\\_Streaming & 2.9383 & 38.8511 & 0.0756298 & 0.0867229 \\\\\n",
       "\t6 & File\\_Download & 2.0 & 45.0 & 0.0444444 & 0.0509634 \\\\\n",
       "\t7 & Web\\_Browsing & 0.4875 & 15.5625 & 0.0313253 & 0.03592 \\\\\n",
       "\t8 & Background\\_Download & 0.547872 & 56.9787 & 0.00961538 & 0.0110257 \\\\\n",
       "\t9 & Voice\\_Call & 0.1 & 20.0 & 0.005 & 0.00573338 \\\\\n",
       "\t10 & VoIP\\_Call & 0.0816304 & 31.3043 & 0.00260764 & 0.00299012 \\\\\n",
       "\t11 & IoT\\_Temperature & 0.00384615 & 102.154 & 3.76506e-5 & 4.31731e-5 \\\\\n",
       "\\end{tabular}\n"
      ],
      "text/plain": [
       "\u001b[1m11×5 DataFrame\u001b[0m\n",
       "\u001b[1m Row \u001b[0m│\u001b[1m Application_Type    \u001b[0m\u001b[1m Avg_Required_Bandwidth \u001b[0m\u001b[1m Avg_Latency \u001b[0m\u001b[1m Score      \u001b[0m\u001b[1m a\u001b[0m ⋯\n",
       "     │\u001b[90m String31            \u001b[0m\u001b[90m Float64                \u001b[0m\u001b[90m Float64     \u001b[0m\u001b[90m Float64    \u001b[0m\u001b[90m F\u001b[0m ⋯\n",
       "─────┼──────────────────────────────────────────────────────────────────────────\n",
       "   1 │ Video_Call                      11.8147         32.8793   0.359334    0 ⋯\n",
       "   2 │ Online_Gaming                    4.14           29.1111   0.142214    0\n",
       "   3 │ Emergency_Service                0.678723        5.57447  0.121756    0\n",
       "   4 │ Streaming                        3.35319        41.8511   0.080122    0\n",
       "   5 │ Video_Streaming                  2.9383         38.8511   0.0756298   0 ⋯\n",
       "   6 │ File_Download                    2.0            45.0      0.0444444   0\n",
       "   7 │ Web_Browsing                     0.4875         15.5625   0.0313253   0\n",
       "   8 │ Background_Download              0.547872       56.9787   0.00961538  0\n",
       "   9 │ Voice_Call                       0.1            20.0      0.005       0 ⋯\n",
       "  10 │ VoIP_Call                        0.0816304      31.3043   0.00260764  0\n",
       "  11 │ IoT_Temperature                  0.00384615    102.154    3.76506e-5  4\n",
       "\u001b[36m                                                                1 column omitted\u001b[0m"
      ]
     },
     "execution_count": 15,
     "metadata": {},
     "output_type": "execute_result"
    }
   ],
   "source": [
    "grouped.Score = grouped.Avg_Required_Bandwidth .* (1 ./ grouped.Avg_Latency)\n",
    "total_score = sum(grouped.Score)\n",
    "grouped.alpha_j = grouped.Score / total_score\n",
    "sort!(grouped, :alpha_j, rev=true)"
   ]
  },
  {
   "cell_type": "code",
   "execution_count": 16,
   "id": "adea7f4d",
   "metadata": {},
   "outputs": [
    {
     "name": "stdout",
     "output_type": "stream",
     "text": [
      "\n",
      "Calculated alpha_j values for each Application Type:\n",
      "\u001b[1m11×4 DataFrame\u001b[0m\n",
      "\u001b[1m Row \u001b[0m│\u001b[1m Application_Type    \u001b[0m\u001b[1m Avg_Required_Bandwidth \u001b[0m\u001b[1m Avg_Latency \u001b[0m\u001b[1m alpha_j    \u001b[0m\n",
      "     │\u001b[90m String31            \u001b[0m\u001b[90m Float64                \u001b[0m\u001b[90m Float64     \u001b[0m\u001b[90m Float64    \u001b[0m\n",
      "─────┼──────────────────────────────────────────────────────────────────────\n",
      "   1 │ Video_Call                      11.8147         32.8793   0.41204\n",
      "   2 │ Online_Gaming                    4.14           29.1111   0.163073\n",
      "   3 │ Emergency_Service                0.678723        5.57447  0.139614\n",
      "   4 │ Streaming                        3.35319        41.8511   0.091874\n",
      "   5 │ Video_Streaming                  2.9383         38.8511   0.0867229\n",
      "   6 │ File_Download                    2.0            45.0      0.0509634\n",
      "   7 │ Web_Browsing                     0.4875         15.5625   0.03592\n",
      "   8 │ Background_Download              0.547872       56.9787   0.0110257\n",
      "   9 │ Voice_Call                       0.1            20.0      0.00573338\n",
      "  10 │ VoIP_Call                        0.0816304      31.3043   0.00299012\n",
      "  11 │ IoT_Temperature                  0.00384615    102.154    4.31731e-5\n"
     ]
    }
   ],
   "source": [
    "println(\"\\nCalculated alpha_j values for each Application Type:\")\n",
    "println(select(grouped, :Application_Type, :Avg_Required_Bandwidth, :Avg_Latency, :alpha_j))"
   ]
  },
  {
   "cell_type": "code",
   "execution_count": 17,
   "id": "d1a7c6d4",
   "metadata": {},
   "outputs": [
    {
     "data": {
      "text/plain": [
       "\"Alpha_Values.csv\""
      ]
     },
     "execution_count": 17,
     "metadata": {},
     "output_type": "execute_result"
    }
   ],
   "source": [
    "CSV.write(\"Alpha_Values.csv\", select(grouped, :Application_Type, :alpha_j))"
   ]
  },
  {
   "cell_type": "code",
   "execution_count": 22,
   "id": "59dcdd00",
   "metadata": {},
   "outputs": [
    {
     "data": {
      "text/plain": [
       "-40.0"
      ]
     },
     "execution_count": 22,
     "metadata": {},
     "output_type": "execute_result"
    }
   ],
   "source": [
    "alpha_df = CSV.read(\"Alpha_Values.csv\", DataFrame)\n",
    "max_latency = maximum(df.Latency_ms)\n",
    "max_signal_strength = maximum(df.Signal_Strength_dBm)"
   ]
  },
  {
   "cell_type": "code",
   "execution_count": 23,
   "id": "10832dff",
   "metadata": {},
   "outputs": [
    {
     "data": {
      "text/html": [
       "<div><div style = \"float: left;\"><span>400×13 DataFrame</span></div><div style = \"float: right;\"><span style = \"font-style: italic;\">375 rows omitted</span></div><div style = \"clear: both;\"></div></div><div class = \"data-frame\" style = \"overflow-x: scroll;\"><table class = \"data-frame\" style = \"margin-bottom: 6px;\"><thead><tr class = \"header\"><th class = \"rowNumber\" style = \"font-weight: bold; text-align: right;\">Row</th><th style = \"text-align: left;\">Timestamp</th><th style = \"text-align: left;\">User_ID</th><th style = \"text-align: left;\">Application_Type</th><th style = \"text-align: left;\">Signal_Strength</th><th style = \"text-align: left;\">Latency</th><th style = \"text-align: left;\">Required_Bandwidth</th><th style = \"text-align: left;\">Allocated_Bandwidth</th><th style = \"text-align: left;\">Resource_Allocation</th><th style = \"text-align: left;\">Required_Bandwidth_Mbps</th><th style = \"text-align: left;\">Allocated_Bandwidth_Mbps</th><th style = \"text-align: left;\">Latency_ms</th><th style = \"text-align: left;\">Signal_Strength_dBm</th><th style = \"text-align: left;\">alpha_j</th></tr><tr class = \"subheader headerLastRow\"><th class = \"rowNumber\" style = \"font-weight: bold; text-align: right;\"></th><th title = \"String15\" style = \"text-align: left;\">String15</th><th title = \"String15\" style = \"text-align: left;\">String15</th><th title = \"String31\" style = \"text-align: left;\">String31</th><th title = \"String15\" style = \"text-align: left;\">String15</th><th title = \"String7\" style = \"text-align: left;\">String7</th><th title = \"String15\" style = \"text-align: left;\">String15</th><th title = \"String15\" style = \"text-align: left;\">String15</th><th title = \"Float64\" style = \"text-align: left;\">Float64</th><th title = \"Float64\" style = \"text-align: left;\">Float64</th><th title = \"Float64\" style = \"text-align: left;\">Float64</th><th title = \"Float64\" style = \"text-align: left;\">Float64</th><th title = \"Float64\" style = \"text-align: left;\">Float64</th><th title = \"Union{Missing, Float64}\" style = \"text-align: left;\">Float64?</th></tr></thead><tbody><tr><td class = \"rowNumber\" style = \"font-weight: bold; text-align: right;\">1</td><td style = \"text-align: left;\">9/3/2023 10:00</td><td style = \"text-align: left;\">User_1</td><td style = \"text-align: left;\">Video_Call</td><td style = \"text-align: left;\">-75 dBm</td><td style = \"text-align: left;\">30 ms</td><td style = \"text-align: left;\">10 Mbps</td><td style = \"text-align: left;\">15 Mbps</td><td style = \"text-align: right;\">0.7</td><td style = \"text-align: right;\">10.0</td><td style = \"text-align: right;\">15.0</td><td style = \"text-align: right;\">30.0</td><td style = \"text-align: right;\">-75.0</td><td style = \"text-align: right;\">0.41204</td></tr><tr><td class = \"rowNumber\" style = \"font-weight: bold; text-align: right;\">2</td><td style = \"text-align: left;\">9/3/2023 10:00</td><td style = \"text-align: left;\">User_2</td><td style = \"text-align: left;\">Voice_Call</td><td style = \"text-align: left;\">-80 dBm</td><td style = \"text-align: left;\">20 ms</td><td style = \"text-align: left;\">100 Kbps</td><td style = \"text-align: left;\">120 Kbps</td><td style = \"text-align: right;\">0.8</td><td style = \"text-align: right;\">0.1</td><td style = \"text-align: right;\">0.12</td><td style = \"text-align: right;\">20.0</td><td style = \"text-align: right;\">-80.0</td><td style = \"text-align: right;\">0.00573338</td></tr><tr><td class = \"rowNumber\" style = \"font-weight: bold; text-align: right;\">3</td><td style = \"text-align: left;\">9/3/2023 10:00</td><td style = \"text-align: left;\">User_3</td><td style = \"text-align: left;\">Streaming</td><td style = \"text-align: left;\">-85 dBm</td><td style = \"text-align: left;\">40 ms</td><td style = \"text-align: left;\">5 Mbps</td><td style = \"text-align: left;\">6 Mbps</td><td style = \"text-align: right;\">0.75</td><td style = \"text-align: right;\">5.0</td><td style = \"text-align: right;\">6.0</td><td style = \"text-align: right;\">40.0</td><td style = \"text-align: right;\">-85.0</td><td style = \"text-align: right;\">0.091874</td></tr><tr><td class = \"rowNumber\" style = \"font-weight: bold; text-align: right;\">4</td><td style = \"text-align: left;\">9/3/2023 10:00</td><td style = \"text-align: left;\">User_4</td><td style = \"text-align: left;\">Emergency_Service</td><td style = \"text-align: left;\">-70 dBm</td><td style = \"text-align: left;\">10 ms</td><td style = \"text-align: left;\">1 Mbps</td><td style = \"text-align: left;\">1.5 Mbps</td><td style = \"text-align: right;\">0.9</td><td style = \"text-align: right;\">1.0</td><td style = \"text-align: right;\">1.5</td><td style = \"text-align: right;\">10.0</td><td style = \"text-align: right;\">-70.0</td><td style = \"text-align: right;\">0.139614</td></tr><tr><td class = \"rowNumber\" style = \"font-weight: bold; text-align: right;\">5</td><td style = \"text-align: left;\">9/3/2023 10:00</td><td style = \"text-align: left;\">User_5</td><td style = \"text-align: left;\">Online_Gaming</td><td style = \"text-align: left;\">-78 dBm</td><td style = \"text-align: left;\">25 ms</td><td style = \"text-align: left;\">2 Mbps</td><td style = \"text-align: left;\">3 Mbps</td><td style = \"text-align: right;\">0.85</td><td style = \"text-align: right;\">2.0</td><td style = \"text-align: right;\">3.0</td><td style = \"text-align: right;\">25.0</td><td style = \"text-align: right;\">-78.0</td><td style = \"text-align: right;\">0.163073</td></tr><tr><td class = \"rowNumber\" style = \"font-weight: bold; text-align: right;\">6</td><td style = \"text-align: left;\">9/3/2023 10:00</td><td style = \"text-align: left;\">User_6</td><td style = \"text-align: left;\">Background_Download</td><td style = \"text-align: left;\">-90 dBm</td><td style = \"text-align: left;\">50 ms</td><td style = \"text-align: left;\">500 Kbps</td><td style = \"text-align: left;\">550 Kbps</td><td style = \"text-align: right;\">0.7</td><td style = \"text-align: right;\">0.5</td><td style = \"text-align: right;\">0.55</td><td style = \"text-align: right;\">50.0</td><td style = \"text-align: right;\">-90.0</td><td style = \"text-align: right;\">0.0110257</td></tr><tr><td class = \"rowNumber\" style = \"font-weight: bold; text-align: right;\">7</td><td style = \"text-align: left;\">9/3/2023 10:00</td><td style = \"text-align: left;\">User_7</td><td style = \"text-align: left;\">Web_Browsing</td><td style = \"text-align: left;\">-88 dBm</td><td style = \"text-align: left;\">30 ms</td><td style = \"text-align: left;\">1 Mbps</td><td style = \"text-align: left;\">1 Mbps</td><td style = \"text-align: right;\">0.6</td><td style = \"text-align: right;\">1.0</td><td style = \"text-align: right;\">1.0</td><td style = \"text-align: right;\">30.0</td><td style = \"text-align: right;\">-88.0</td><td style = \"text-align: right;\">0.03592</td></tr><tr><td class = \"rowNumber\" style = \"font-weight: bold; text-align: right;\">8</td><td style = \"text-align: left;\">9/3/2023 10:00</td><td style = \"text-align: left;\">User_8</td><td style = \"text-align: left;\">IoT_Temperature</td><td style = \"text-align: left;\">-95 dBm</td><td style = \"text-align: left;\">100 ms</td><td style = \"text-align: left;\">10 Kbps</td><td style = \"text-align: left;\">15 Kbps</td><td style = \"text-align: right;\">0.5</td><td style = \"text-align: right;\">0.01</td><td style = \"text-align: right;\">0.015</td><td style = \"text-align: right;\">100.0</td><td style = \"text-align: right;\">-95.0</td><td style = \"text-align: right;\">4.31731e-5</td></tr><tr><td class = \"rowNumber\" style = \"font-weight: bold; text-align: right;\">9</td><td style = \"text-align: left;\">9/3/2023 10:00</td><td style = \"text-align: left;\">User_9</td><td style = \"text-align: left;\">Video_Streaming</td><td style = \"text-align: left;\">-82 dBm</td><td style = \"text-align: left;\">35 ms</td><td style = \"text-align: left;\">3 Mbps</td><td style = \"text-align: left;\">3.5 Mbps</td><td style = \"text-align: right;\">0.8</td><td style = \"text-align: right;\">3.0</td><td style = \"text-align: right;\">3.5</td><td style = \"text-align: right;\">35.0</td><td style = \"text-align: right;\">-82.0</td><td style = \"text-align: right;\">0.0867229</td></tr><tr><td class = \"rowNumber\" style = \"font-weight: bold; text-align: right;\">10</td><td style = \"text-align: left;\">9/3/2023 10:00</td><td style = \"text-align: left;\">User_10</td><td style = \"text-align: left;\">File_Download</td><td style = \"text-align: left;\">-75 dBm</td><td style = \"text-align: left;\">45 ms</td><td style = \"text-align: left;\">2 Mbps</td><td style = \"text-align: left;\">2 Mbps</td><td style = \"text-align: right;\">0.7</td><td style = \"text-align: right;\">2.0</td><td style = \"text-align: right;\">2.0</td><td style = \"text-align: right;\">45.0</td><td style = \"text-align: right;\">-75.0</td><td style = \"text-align: right;\">0.0509634</td></tr><tr><td class = \"rowNumber\" style = \"font-weight: bold; text-align: right;\">11</td><td style = \"text-align: left;\">9/3/2023 10:00</td><td style = \"text-align: left;\">User_11</td><td style = \"text-align: left;\">Video_Call</td><td style = \"text-align: left;\">-76 dBm</td><td style = \"text-align: left;\">32 ms</td><td style = \"text-align: left;\">12 Mbps</td><td style = \"text-align: left;\">14 Mbps</td><td style = \"text-align: right;\">0.7</td><td style = \"text-align: right;\">12.0</td><td style = \"text-align: right;\">14.0</td><td style = \"text-align: right;\">32.0</td><td style = \"text-align: right;\">-76.0</td><td style = \"text-align: right;\">0.41204</td></tr><tr><td class = \"rowNumber\" style = \"font-weight: bold; text-align: right;\">12</td><td style = \"text-align: left;\">9/3/2023 10:00</td><td style = \"text-align: left;\">User_12</td><td style = \"text-align: left;\">Online_Gaming</td><td style = \"text-align: left;\">-79 dBm</td><td style = \"text-align: left;\">24 ms</td><td style = \"text-align: left;\">2.5 Mbps</td><td style = \"text-align: left;\">2.8 Mbps</td><td style = \"text-align: right;\">0.75</td><td style = \"text-align: right;\">2.5</td><td style = \"text-align: right;\">2.8</td><td style = \"text-align: right;\">24.0</td><td style = \"text-align: right;\">-79.0</td><td style = \"text-align: right;\">0.163073</td></tr><tr><td class = \"rowNumber\" style = \"font-weight: bold; text-align: right;\">13</td><td style = \"text-align: left;\">9/3/2023 10:00</td><td style = \"text-align: left;\">User_13</td><td style = \"text-align: left;\">Web_Browsing</td><td style = \"text-align: left;\">-87 dBm</td><td style = \"text-align: left;\">28 ms</td><td style = \"text-align: left;\">1.2 Mbps</td><td style = \"text-align: left;\">1.2 Mbps</td><td style = \"text-align: right;\">0.65</td><td style = \"text-align: right;\">1.2</td><td style = \"text-align: right;\">1.2</td><td style = \"text-align: right;\">28.0</td><td style = \"text-align: right;\">-87.0</td><td style = \"text-align: right;\">0.03592</td></tr><tr><td style = \"text-align: right;\">&vellip;</td><td style = \"text-align: right;\">&vellip;</td><td style = \"text-align: right;\">&vellip;</td><td style = \"text-align: right;\">&vellip;</td><td style = \"text-align: right;\">&vellip;</td><td style = \"text-align: right;\">&vellip;</td><td style = \"text-align: right;\">&vellip;</td><td style = \"text-align: right;\">&vellip;</td><td style = \"text-align: right;\">&vellip;</td><td style = \"text-align: right;\">&vellip;</td><td style = \"text-align: right;\">&vellip;</td><td style = \"text-align: right;\">&vellip;</td><td style = \"text-align: right;\">&vellip;</td><td style = \"text-align: right;\">&vellip;</td></tr><tr><td class = \"rowNumber\" style = \"font-weight: bold; text-align: right;\">389</td><td style = \"text-align: left;\">9/3/2023 10:06</td><td style = \"text-align: left;\">User_389</td><td style = \"text-align: left;\">Video_Call</td><td style = \"text-align: left;\">-41 dBm</td><td style = \"text-align: left;\">52 ms</td><td style = \"text-align: left;\">14.4 Mbps</td><td style = \"text-align: left;\">15.7 Mbps</td><td style = \"text-align: right;\">0.75</td><td style = \"text-align: right;\">14.4</td><td style = \"text-align: right;\">15.7</td><td style = \"text-align: right;\">52.0</td><td style = \"text-align: right;\">-41.0</td><td style = \"text-align: right;\">0.41204</td></tr><tr><td class = \"rowNumber\" style = \"font-weight: bold; text-align: right;\">390</td><td style = \"text-align: left;\">9/3/2023 10:06</td><td style = \"text-align: left;\">User_390</td><td style = \"text-align: left;\">Video_Streaming</td><td style = \"text-align: left;\">-112 dBm</td><td style = \"text-align: left;\">57 ms</td><td style = \"text-align: left;\">1.1 Mbps</td><td style = \"text-align: left;\">1.5 Mbps</td><td style = \"text-align: right;\">0.7</td><td style = \"text-align: right;\">1.1</td><td style = \"text-align: right;\">1.5</td><td style = \"text-align: right;\">57.0</td><td style = \"text-align: right;\">-112.0</td><td style = \"text-align: right;\">0.0867229</td></tr><tr><td class = \"rowNumber\" style = \"font-weight: bold; text-align: right;\">391</td><td style = \"text-align: left;\">9/3/2023 10:06</td><td style = \"text-align: left;\">User_391</td><td style = \"text-align: left;\">Emergency_Service</td><td style = \"text-align: left;\">-40 dBm</td><td style = \"text-align: left;\">5 ms</td><td style = \"text-align: left;\">0.4 Mbps</td><td style = \"text-align: left;\">0.4 Mbps</td><td style = \"text-align: right;\">0.7</td><td style = \"text-align: right;\">0.4</td><td style = \"text-align: right;\">0.4</td><td style = \"text-align: right;\">5.0</td><td style = \"text-align: right;\">-40.0</td><td style = \"text-align: right;\">0.139614</td></tr><tr><td class = \"rowNumber\" style = \"font-weight: bold; text-align: right;\">392</td><td style = \"text-align: left;\">9/3/2023 10:06</td><td style = \"text-align: left;\">User_392</td><td style = \"text-align: left;\">Web_Browsing</td><td style = \"text-align: left;\">-112 dBm</td><td style = \"text-align: left;\">0 ms</td><td style = \"text-align: left;\">0.1 Mbps</td><td style = \"text-align: left;\">0.1 Mbps</td><td style = \"text-align: right;\">0.7</td><td style = \"text-align: right;\">0.1</td><td style = \"text-align: right;\">0.1</td><td style = \"text-align: right;\">0.0</td><td style = \"text-align: right;\">-112.0</td><td style = \"text-align: right;\">0.03592</td></tr><tr><td class = \"rowNumber\" style = \"font-weight: bold; text-align: right;\">393</td><td style = \"text-align: left;\">9/3/2023 10:06</td><td style = \"text-align: left;\">User_393</td><td style = \"text-align: left;\">Background_Download</td><td style = \"text-align: left;\">-123 dBm</td><td style = \"text-align: left;\">78 ms</td><td style = \"text-align: left;\">350 Kbps</td><td style = \"text-align: left;\">350 Kbps</td><td style = \"text-align: right;\">0.6</td><td style = \"text-align: right;\">0.35</td><td style = \"text-align: right;\">0.35</td><td style = \"text-align: right;\">78.0</td><td style = \"text-align: right;\">-123.0</td><td style = \"text-align: right;\">0.0110257</td></tr><tr><td class = \"rowNumber\" style = \"font-weight: bold; text-align: right;\">394</td><td style = \"text-align: left;\">9/3/2023 10:06</td><td style = \"text-align: left;\">User_394</td><td style = \"text-align: left;\">VoIP_Call</td><td style = \"text-align: left;\">-56 dBm</td><td style = \"text-align: left;\">52 ms</td><td style = \"text-align: left;\">0 Kbps</td><td style = \"text-align: left;\">0 Kbps</td><td style = \"text-align: right;\">0.9</td><td style = \"text-align: right;\">0.0</td><td style = \"text-align: right;\">0.0</td><td style = \"text-align: right;\">52.0</td><td style = \"text-align: right;\">-56.0</td><td style = \"text-align: right;\">0.00299012</td></tr><tr><td class = \"rowNumber\" style = \"font-weight: bold; text-align: right;\">395</td><td style = \"text-align: left;\">9/3/2023 10:06</td><td style = \"text-align: left;\">User_395</td><td style = \"text-align: left;\">Online_Gaming</td><td style = \"text-align: left;\">-41 dBm</td><td style = \"text-align: left;\">47 ms</td><td style = \"text-align: left;\">6.3 Mbps</td><td style = \"text-align: left;\">6.6 Mbps</td><td style = \"text-align: right;\">0.8</td><td style = \"text-align: right;\">6.3</td><td style = \"text-align: right;\">6.6</td><td style = \"text-align: right;\">47.0</td><td style = \"text-align: right;\">-41.0</td><td style = \"text-align: right;\">0.163073</td></tr><tr><td class = \"rowNumber\" style = \"font-weight: bold; text-align: right;\">396</td><td style = \"text-align: left;\">9/3/2023 10:06</td><td style = \"text-align: left;\">User_396</td><td style = \"text-align: left;\">Streaming</td><td style = \"text-align: left;\">-110 dBm</td><td style = \"text-align: left;\">61 ms</td><td style = \"text-align: left;\">1.3 Mbps</td><td style = \"text-align: left;\">1.8 Mbps</td><td style = \"text-align: right;\">0.85</td><td style = \"text-align: right;\">1.3</td><td style = \"text-align: right;\">1.8</td><td style = \"text-align: right;\">61.0</td><td style = \"text-align: right;\">-110.0</td><td style = \"text-align: right;\">0.091874</td></tr><tr><td class = \"rowNumber\" style = \"font-weight: bold; text-align: right;\">397</td><td style = \"text-align: left;\">9/3/2023 10:06</td><td style = \"text-align: left;\">User_397</td><td style = \"text-align: left;\">Video_Call</td><td style = \"text-align: left;\">-40 dBm</td><td style = \"text-align: left;\">53 ms</td><td style = \"text-align: left;\">14.5 Mbps</td><td style = \"text-align: left;\">15.8 Mbps</td><td style = \"text-align: right;\">0.75</td><td style = \"text-align: right;\">14.5</td><td style = \"text-align: right;\">15.8</td><td style = \"text-align: right;\">53.0</td><td style = \"text-align: right;\">-40.0</td><td style = \"text-align: right;\">0.41204</td></tr><tr><td class = \"rowNumber\" style = \"font-weight: bold; text-align: right;\">398</td><td style = \"text-align: left;\">9/3/2023 10:06</td><td style = \"text-align: left;\">User_398</td><td style = \"text-align: left;\">Video_Streaming</td><td style = \"text-align: left;\">-113 dBm</td><td style = \"text-align: left;\">58 ms</td><td style = \"text-align: left;\">1.0 Mbps</td><td style = \"text-align: left;\">1.4 Mbps</td><td style = \"text-align: right;\">0.7</td><td style = \"text-align: right;\">1.0</td><td style = \"text-align: right;\">1.4</td><td style = \"text-align: right;\">58.0</td><td style = \"text-align: right;\">-113.0</td><td style = \"text-align: right;\">0.0867229</td></tr><tr><td class = \"rowNumber\" style = \"font-weight: bold; text-align: right;\">399</td><td style = \"text-align: left;\">9/3/2023 10:06</td><td style = \"text-align: left;\">User_399</td><td style = \"text-align: left;\">Emergency_Service</td><td style = \"text-align: left;\">-40 dBm</td><td style = \"text-align: left;\">5 ms</td><td style = \"text-align: left;\">0.4 Mbps</td><td style = \"text-align: left;\">0.4 Mbps</td><td style = \"text-align: right;\">0.7</td><td style = \"text-align: right;\">0.4</td><td style = \"text-align: right;\">0.4</td><td style = \"text-align: right;\">5.0</td><td style = \"text-align: right;\">-40.0</td><td style = \"text-align: right;\">0.139614</td></tr><tr><td class = \"rowNumber\" style = \"font-weight: bold; text-align: right;\">400</td><td style = \"text-align: left;\">9/3/2023 10:06</td><td style = \"text-align: left;\">User_400</td><td style = \"text-align: left;\">Web_Browsing</td><td style = \"text-align: left;\">-113 dBm</td><td style = \"text-align: left;\">0 ms</td><td style = \"text-align: left;\">0.1 Mbps</td><td style = \"text-align: left;\">0.1 Mbps</td><td style = \"text-align: right;\">0.7</td><td style = \"text-align: right;\">0.1</td><td style = \"text-align: right;\">0.1</td><td style = \"text-align: right;\">0.0</td><td style = \"text-align: right;\">-113.0</td><td style = \"text-align: right;\">0.03592</td></tr></tbody></table></div>"
      ],
      "text/latex": [
       "\\begin{tabular}{r|ccccccc}\n",
       "\t& Timestamp & User\\_ID & Application\\_Type & Signal\\_Strength & Latency & Required\\_Bandwidth & \\\\\n",
       "\t\\hline\n",
       "\t& String15 & String15 & String31 & String15 & String7 & String15 & \\\\\n",
       "\t\\hline\n",
       "\t1 & 9/3/2023 10:00 & User\\_1 & Video\\_Call & -75 dBm & 30 ms & 10 Mbps & $\\dots$ \\\\\n",
       "\t2 & 9/3/2023 10:00 & User\\_2 & Voice\\_Call & -80 dBm & 20 ms & 100 Kbps & $\\dots$ \\\\\n",
       "\t3 & 9/3/2023 10:00 & User\\_3 & Streaming & -85 dBm & 40 ms & 5 Mbps & $\\dots$ \\\\\n",
       "\t4 & 9/3/2023 10:00 & User\\_4 & Emergency\\_Service & -70 dBm & 10 ms & 1 Mbps & $\\dots$ \\\\\n",
       "\t5 & 9/3/2023 10:00 & User\\_5 & Online\\_Gaming & -78 dBm & 25 ms & 2 Mbps & $\\dots$ \\\\\n",
       "\t6 & 9/3/2023 10:00 & User\\_6 & Background\\_Download & -90 dBm & 50 ms & 500 Kbps & $\\dots$ \\\\\n",
       "\t7 & 9/3/2023 10:00 & User\\_7 & Web\\_Browsing & -88 dBm & 30 ms & 1 Mbps & $\\dots$ \\\\\n",
       "\t8 & 9/3/2023 10:00 & User\\_8 & IoT\\_Temperature & -95 dBm & 100 ms & 10 Kbps & $\\dots$ \\\\\n",
       "\t9 & 9/3/2023 10:00 & User\\_9 & Video\\_Streaming & -82 dBm & 35 ms & 3 Mbps & $\\dots$ \\\\\n",
       "\t10 & 9/3/2023 10:00 & User\\_10 & File\\_Download & -75 dBm & 45 ms & 2 Mbps & $\\dots$ \\\\\n",
       "\t11 & 9/3/2023 10:00 & User\\_11 & Video\\_Call & -76 dBm & 32 ms & 12 Mbps & $\\dots$ \\\\\n",
       "\t12 & 9/3/2023 10:00 & User\\_12 & Online\\_Gaming & -79 dBm & 24 ms & 2.5 Mbps & $\\dots$ \\\\\n",
       "\t13 & 9/3/2023 10:00 & User\\_13 & Web\\_Browsing & -87 dBm & 28 ms & 1.2 Mbps & $\\dots$ \\\\\n",
       "\t14 & 9/3/2023 10:00 & User\\_14 & VoIP\\_Call & -81 dBm & 22 ms & 150 Kbps & $\\dots$ \\\\\n",
       "\t15 & 9/3/2023 10:00 & User\\_15 & Video\\_Call & -74 dBm & 29 ms & 10 Mbps & $\\dots$ \\\\\n",
       "\t16 & 9/3/2023 10:00 & User\\_16 & Streaming & -84 dBm & 38 ms & 4.5 Mbps & $\\dots$ \\\\\n",
       "\t17 & 9/3/2023 10:00 & User\\_17 & Emergency\\_Service & -69 dBm & 9 ms & 1.2 Mbps & $\\dots$ \\\\\n",
       "\t18 & 9/3/2023 10:00 & User\\_18 & Background\\_Download & -91 dBm & 48 ms & 600 Kbps & $\\dots$ \\\\\n",
       "\t19 & 9/3/2023 10:00 & User\\_19 & IoT\\_Temperature & -96 dBm & 105 ms & 8 Kbps & $\\dots$ \\\\\n",
       "\t20 & 9/3/2023 10:00 & User\\_20 & Video\\_Streaming & -83 dBm & 34 ms & 3.2 Mbps & $\\dots$ \\\\\n",
       "\t21 & 9/3/2023 10:00 & User\\_21 & Video\\_Call & -77 dBm & 31 ms & 11 Mbps & $\\dots$ \\\\\n",
       "\t22 & 9/3/2023 10:00 & User\\_22 & Online\\_Gaming & -80 dBm & 23 ms & 2.2 Mbps & $\\dots$ \\\\\n",
       "\t23 & 9/3/2023 10:00 & User\\_23 & Web\\_Browsing & -86 dBm & 29 ms & 1.4 Mbps & $\\dots$ \\\\\n",
       "\t24 & 9/3/2023 10:00 & User\\_24 & VoIP\\_Call & -82 dBm & 21 ms & 160 Kbps & $\\dots$ \\\\\n",
       "\t25 & 9/3/2023 10:00 & User\\_25 & Video\\_Call & -73 dBm & 28 ms & 10.5 Mbps & $\\dots$ \\\\\n",
       "\t26 & 9/3/2023 10:00 & User\\_26 & Streaming & -83 dBm & 37 ms & 4.2 Mbps & $\\dots$ \\\\\n",
       "\t27 & 9/3/2023 10:00 & User\\_27 & Emergency\\_Service & -68 dBm & 8 ms & 1.1 Mbps & $\\dots$ \\\\\n",
       "\t28 & 9/3/2023 10:00 & User\\_28 & Background\\_Download & -92 dBm & 47 ms & 620 Kbps & $\\dots$ \\\\\n",
       "\t29 & 9/3/2023 10:00 & User\\_29 & IoT\\_Temperature & -97 dBm & 110 ms & 7 Kbps & $\\dots$ \\\\\n",
       "\t30 & 9/3/2023 10:00 & User\\_30 & Video\\_Streaming & -84 dBm & 33 ms & 3.4 Mbps & $\\dots$ \\\\\n",
       "\t$\\dots$ & $\\dots$ & $\\dots$ & $\\dots$ & $\\dots$ & $\\dots$ & $\\dots$ &  \\\\\n",
       "\\end{tabular}\n"
      ],
      "text/plain": [
       "\u001b[1m400×13 DataFrame\u001b[0m\n",
       "\u001b[1m Row \u001b[0m│\u001b[1m Timestamp      \u001b[0m\u001b[1m User_ID  \u001b[0m\u001b[1m Application_Type    \u001b[0m\u001b[1m Signal_Strength \u001b[0m\u001b[1m Latency\u001b[0m ⋯\n",
       "     │\u001b[90m String15       \u001b[0m\u001b[90m String15 \u001b[0m\u001b[90m String31            \u001b[0m\u001b[90m String15        \u001b[0m\u001b[90m String7\u001b[0m ⋯\n",
       "─────┼──────────────────────────────────────────────────────────────────────────\n",
       "   1 │ 9/3/2023 10:00  User_1    Video_Call           -75 dBm          30 ms   ⋯\n",
       "   2 │ 9/3/2023 10:00  User_2    Voice_Call           -80 dBm          20 ms\n",
       "   3 │ 9/3/2023 10:00  User_3    Streaming            -85 dBm          40 ms\n",
       "   4 │ 9/3/2023 10:00  User_4    Emergency_Service    -70 dBm          10 ms\n",
       "   5 │ 9/3/2023 10:00  User_5    Online_Gaming        -78 dBm          25 ms   ⋯\n",
       "   6 │ 9/3/2023 10:00  User_6    Background_Download  -90 dBm          50 ms\n",
       "   7 │ 9/3/2023 10:00  User_7    Web_Browsing         -88 dBm          30 ms\n",
       "   8 │ 9/3/2023 10:00  User_8    IoT_Temperature      -95 dBm          100 ms\n",
       "   9 │ 9/3/2023 10:00  User_9    Video_Streaming      -82 dBm          35 ms   ⋯\n",
       "  10 │ 9/3/2023 10:00  User_10   File_Download        -75 dBm          45 ms\n",
       "  11 │ 9/3/2023 10:00  User_11   Video_Call           -76 dBm          32 ms\n",
       "  ⋮  │       ⋮            ⋮               ⋮                  ⋮            ⋮    ⋱\n",
       " 391 │ 9/3/2023 10:06  User_391  Emergency_Service    -40 dBm          5 ms\n",
       " 392 │ 9/3/2023 10:06  User_392  Web_Browsing         -112 dBm         0 ms    ⋯\n",
       " 393 │ 9/3/2023 10:06  User_393  Background_Download  -123 dBm         78 ms\n",
       " 394 │ 9/3/2023 10:06  User_394  VoIP_Call            -56 dBm          52 ms\n",
       " 395 │ 9/3/2023 10:06  User_395  Online_Gaming        -41 dBm          47 ms\n",
       " 396 │ 9/3/2023 10:06  User_396  Streaming            -110 dBm         61 ms   ⋯\n",
       " 397 │ 9/3/2023 10:06  User_397  Video_Call           -40 dBm          53 ms\n",
       " 398 │ 9/3/2023 10:06  User_398  Video_Streaming      -113 dBm         58 ms\n",
       " 399 │ 9/3/2023 10:06  User_399  Emergency_Service    -40 dBm          5 ms\n",
       " 400 │ 9/3/2023 10:06  User_400  Web_Browsing         -113 dBm         0 ms    ⋯\n",
       "\u001b[36m                                                  8 columns and 379 rows omitted\u001b[0m"
      ]
     },
     "execution_count": 23,
     "metadata": {},
     "output_type": "execute_result"
    }
   ],
   "source": [
    "df = leftjoin(df, alpha_df, on=:Application_Type)"
   ]
  },
  {
   "cell_type": "code",
   "execution_count": 24,
   "id": "b28d9f44",
   "metadata": {},
   "outputs": [
    {
     "data": {
      "text/plain": [
       "400-element Vector{Float64}:\n",
       " 9.046146659458696\n",
       " 0.0013509931272454678\n",
       " 0.8221679952159857\n",
       " 0.47119860085722276\n",
       " 0.9479181077491118\n",
       " 0.007525062991746312\n",
       " 0.05015735305079115\n",
       " 9.934708025795575e-8\n",
       " 0.504963721189048\n",
       " 0.12121178906570489\n",
       " 8.303576011934434\n",
       " 0.7965158337098218\n",
       " 0.06631252705783405\n",
       " ⋮\n",
       " 5.180365784133154\n",
       " 0.16672080893028562\n",
       " 0.07463024304486114\n",
       " 0.009554714519961906\n",
       " 0.0027448061933530604\n",
       " 0.0\n",
       " 0.9985945625200799\n",
       " 0.23481117943368546\n",
       " 5.060223404663666\n",
       " 0.15367453311727028\n",
       " 0.07463024304486114\n",
       " 0.009617574483909026"
      ]
     },
     "execution_count": 24,
     "metadata": {},
     "output_type": "execute_result"
    }
   ],
   "source": [
    "df.Payoff = df.alpha_j .* \n",
    "            df.Allocated_Bandwidth_Mbps .* \n",
    "            (1 .- df.Latency_ms / max_latency) .* \n",
    "            (1 .+ df.Signal_Strength_dBm / max_signal_strength) .* \n",
    "            df.Resource_Allocation"
   ]
  },
  {
   "cell_type": "code",
   "execution_count": 26,
   "id": "c7e1bacf",
   "metadata": {},
   "outputs": [
    {
     "data": {
      "text/plain": [
       "\"Dataset_With_Payoff.csv\""
      ]
     },
     "execution_count": 26,
     "metadata": {},
     "output_type": "execute_result"
    }
   ],
   "source": [
    "CSV.write(\"Dataset_With_Payoff.csv\", df)"
   ]
  },
  {
   "cell_type": "code",
   "execution_count": 29,
   "id": "935fab12",
   "metadata": {},
   "outputs": [
    {
     "data": {
      "text/html": [
       "<div><div style = \"float: left;\"><span>400×14 DataFrame</span></div><div style = \"float: right;\"><span style = \"font-style: italic;\">375 rows omitted</span></div><div style = \"clear: both;\"></div></div><div class = \"data-frame\" style = \"overflow-x: scroll;\"><table class = \"data-frame\" style = \"margin-bottom: 6px;\"><thead><tr class = \"header\"><th class = \"rowNumber\" style = \"font-weight: bold; text-align: right;\">Row</th><th style = \"text-align: left;\">Timestamp</th><th style = \"text-align: left;\">User_ID</th><th style = \"text-align: left;\">Application_Type</th><th style = \"text-align: left;\">Signal_Strength</th><th style = \"text-align: left;\">Latency</th><th style = \"text-align: left;\">Required_Bandwidth</th><th style = \"text-align: left;\">Allocated_Bandwidth</th><th style = \"text-align: left;\">Resource_Allocation</th><th style = \"text-align: left;\">Required_Bandwidth_Mbps</th><th style = \"text-align: left;\">Allocated_Bandwidth_Mbps</th><th style = \"text-align: left;\">Latency_ms</th><th style = \"text-align: left;\">Signal_Strength_dBm</th><th style = \"text-align: left;\">alpha_j</th><th style = \"text-align: left;\">Payoff</th></tr><tr class = \"subheader headerLastRow\"><th class = \"rowNumber\" style = \"font-weight: bold; text-align: right;\"></th><th title = \"String15\" style = \"text-align: left;\">String15</th><th title = \"String15\" style = \"text-align: left;\">String15</th><th title = \"String31\" style = \"text-align: left;\">String31</th><th title = \"String15\" style = \"text-align: left;\">String15</th><th title = \"String7\" style = \"text-align: left;\">String7</th><th title = \"String15\" style = \"text-align: left;\">String15</th><th title = \"String15\" style = \"text-align: left;\">String15</th><th title = \"Float64\" style = \"text-align: left;\">Float64</th><th title = \"Float64\" style = \"text-align: left;\">Float64</th><th title = \"Float64\" style = \"text-align: left;\">Float64</th><th title = \"Float64\" style = \"text-align: left;\">Float64</th><th title = \"Float64\" style = \"text-align: left;\">Float64</th><th title = \"Float64\" style = \"text-align: left;\">Float64</th><th title = \"Float64\" style = \"text-align: left;\">Float64</th></tr></thead><tbody><tr><td class = \"rowNumber\" style = \"font-weight: bold; text-align: right;\">1</td><td style = \"text-align: left;\">9/3/2023 10:00</td><td style = \"text-align: left;\">User_1</td><td style = \"text-align: left;\">Video_Call</td><td style = \"text-align: left;\">-75 dBm</td><td style = \"text-align: left;\">30 ms</td><td style = \"text-align: left;\">10 Mbps</td><td style = \"text-align: left;\">15 Mbps</td><td style = \"text-align: right;\">0.7</td><td style = \"text-align: right;\">10.0</td><td style = \"text-align: right;\">15.0</td><td style = \"text-align: right;\">30.0</td><td style = \"text-align: right;\">-75.0</td><td style = \"text-align: right;\">0.41204</td><td style = \"text-align: right;\">9.04615</td></tr><tr><td class = \"rowNumber\" style = \"font-weight: bold; text-align: right;\">2</td><td style = \"text-align: left;\">9/3/2023 10:00</td><td style = \"text-align: left;\">User_2</td><td style = \"text-align: left;\">Voice_Call</td><td style = \"text-align: left;\">-80 dBm</td><td style = \"text-align: left;\">20 ms</td><td style = \"text-align: left;\">100 Kbps</td><td style = \"text-align: left;\">120 Kbps</td><td style = \"text-align: right;\">0.8</td><td style = \"text-align: right;\">0.1</td><td style = \"text-align: right;\">0.12</td><td style = \"text-align: right;\">20.0</td><td style = \"text-align: right;\">-80.0</td><td style = \"text-align: right;\">0.00573338</td><td style = \"text-align: right;\">0.00135099</td></tr><tr><td class = \"rowNumber\" style = \"font-weight: bold; text-align: right;\">3</td><td style = \"text-align: left;\">9/3/2023 10:00</td><td style = \"text-align: left;\">User_3</td><td style = \"text-align: left;\">Streaming</td><td style = \"text-align: left;\">-85 dBm</td><td style = \"text-align: left;\">40 ms</td><td style = \"text-align: left;\">5 Mbps</td><td style = \"text-align: left;\">6 Mbps</td><td style = \"text-align: right;\">0.75</td><td style = \"text-align: right;\">5.0</td><td style = \"text-align: right;\">6.0</td><td style = \"text-align: right;\">40.0</td><td style = \"text-align: right;\">-85.0</td><td style = \"text-align: right;\">0.091874</td><td style = \"text-align: right;\">0.822168</td></tr><tr><td class = \"rowNumber\" style = \"font-weight: bold; text-align: right;\">4</td><td style = \"text-align: left;\">9/3/2023 10:00</td><td style = \"text-align: left;\">User_4</td><td style = \"text-align: left;\">Emergency_Service</td><td style = \"text-align: left;\">-70 dBm</td><td style = \"text-align: left;\">10 ms</td><td style = \"text-align: left;\">1 Mbps</td><td style = \"text-align: left;\">1.5 Mbps</td><td style = \"text-align: right;\">0.9</td><td style = \"text-align: right;\">1.0</td><td style = \"text-align: right;\">1.5</td><td style = \"text-align: right;\">10.0</td><td style = \"text-align: right;\">-70.0</td><td style = \"text-align: right;\">0.139614</td><td style = \"text-align: right;\">0.471199</td></tr><tr><td class = \"rowNumber\" style = \"font-weight: bold; text-align: right;\">5</td><td style = \"text-align: left;\">9/3/2023 10:00</td><td style = \"text-align: left;\">User_5</td><td style = \"text-align: left;\">Online_Gaming</td><td style = \"text-align: left;\">-78 dBm</td><td style = \"text-align: left;\">25 ms</td><td style = \"text-align: left;\">2 Mbps</td><td style = \"text-align: left;\">3 Mbps</td><td style = \"text-align: right;\">0.85</td><td style = \"text-align: right;\">2.0</td><td style = \"text-align: right;\">3.0</td><td style = \"text-align: right;\">25.0</td><td style = \"text-align: right;\">-78.0</td><td style = \"text-align: right;\">0.163073</td><td style = \"text-align: right;\">0.947918</td></tr><tr><td class = \"rowNumber\" style = \"font-weight: bold; text-align: right;\">6</td><td style = \"text-align: left;\">9/3/2023 10:00</td><td style = \"text-align: left;\">User_6</td><td style = \"text-align: left;\">Background_Download</td><td style = \"text-align: left;\">-90 dBm</td><td style = \"text-align: left;\">50 ms</td><td style = \"text-align: left;\">500 Kbps</td><td style = \"text-align: left;\">550 Kbps</td><td style = \"text-align: right;\">0.7</td><td style = \"text-align: right;\">0.5</td><td style = \"text-align: right;\">0.55</td><td style = \"text-align: right;\">50.0</td><td style = \"text-align: right;\">-90.0</td><td style = \"text-align: right;\">0.0110257</td><td style = \"text-align: right;\">0.00752506</td></tr><tr><td class = \"rowNumber\" style = \"font-weight: bold; text-align: right;\">7</td><td style = \"text-align: left;\">9/3/2023 10:00</td><td style = \"text-align: left;\">User_7</td><td style = \"text-align: left;\">Web_Browsing</td><td style = \"text-align: left;\">-88 dBm</td><td style = \"text-align: left;\">30 ms</td><td style = \"text-align: left;\">1 Mbps</td><td style = \"text-align: left;\">1 Mbps</td><td style = \"text-align: right;\">0.6</td><td style = \"text-align: right;\">1.0</td><td style = \"text-align: right;\">1.0</td><td style = \"text-align: right;\">30.0</td><td style = \"text-align: right;\">-88.0</td><td style = \"text-align: right;\">0.03592</td><td style = \"text-align: right;\">0.0501574</td></tr><tr><td class = \"rowNumber\" style = \"font-weight: bold; text-align: right;\">8</td><td style = \"text-align: left;\">9/3/2023 10:00</td><td style = \"text-align: left;\">User_8</td><td style = \"text-align: left;\">IoT_Temperature</td><td style = \"text-align: left;\">-95 dBm</td><td style = \"text-align: left;\">100 ms</td><td style = \"text-align: left;\">10 Kbps</td><td style = \"text-align: left;\">15 Kbps</td><td style = \"text-align: right;\">0.5</td><td style = \"text-align: right;\">0.01</td><td style = \"text-align: right;\">0.015</td><td style = \"text-align: right;\">100.0</td><td style = \"text-align: right;\">-95.0</td><td style = \"text-align: right;\">4.31731e-5</td><td style = \"text-align: right;\">9.93471e-8</td></tr><tr><td class = \"rowNumber\" style = \"font-weight: bold; text-align: right;\">9</td><td style = \"text-align: left;\">9/3/2023 10:00</td><td style = \"text-align: left;\">User_9</td><td style = \"text-align: left;\">Video_Streaming</td><td style = \"text-align: left;\">-82 dBm</td><td style = \"text-align: left;\">35 ms</td><td style = \"text-align: left;\">3 Mbps</td><td style = \"text-align: left;\">3.5 Mbps</td><td style = \"text-align: right;\">0.8</td><td style = \"text-align: right;\">3.0</td><td style = \"text-align: right;\">3.5</td><td style = \"text-align: right;\">35.0</td><td style = \"text-align: right;\">-82.0</td><td style = \"text-align: right;\">0.0867229</td><td style = \"text-align: right;\">0.504964</td></tr><tr><td class = \"rowNumber\" style = \"font-weight: bold; text-align: right;\">10</td><td style = \"text-align: left;\">9/3/2023 10:00</td><td style = \"text-align: left;\">User_10</td><td style = \"text-align: left;\">File_Download</td><td style = \"text-align: left;\">-75 dBm</td><td style = \"text-align: left;\">45 ms</td><td style = \"text-align: left;\">2 Mbps</td><td style = \"text-align: left;\">2 Mbps</td><td style = \"text-align: right;\">0.7</td><td style = \"text-align: right;\">2.0</td><td style = \"text-align: right;\">2.0</td><td style = \"text-align: right;\">45.0</td><td style = \"text-align: right;\">-75.0</td><td style = \"text-align: right;\">0.0509634</td><td style = \"text-align: right;\">0.121212</td></tr><tr><td class = \"rowNumber\" style = \"font-weight: bold; text-align: right;\">11</td><td style = \"text-align: left;\">9/3/2023 10:00</td><td style = \"text-align: left;\">User_11</td><td style = \"text-align: left;\">Video_Call</td><td style = \"text-align: left;\">-76 dBm</td><td style = \"text-align: left;\">32 ms</td><td style = \"text-align: left;\">12 Mbps</td><td style = \"text-align: left;\">14 Mbps</td><td style = \"text-align: right;\">0.7</td><td style = \"text-align: right;\">12.0</td><td style = \"text-align: right;\">14.0</td><td style = \"text-align: right;\">32.0</td><td style = \"text-align: right;\">-76.0</td><td style = \"text-align: right;\">0.41204</td><td style = \"text-align: right;\">8.30358</td></tr><tr><td class = \"rowNumber\" style = \"font-weight: bold; text-align: right;\">12</td><td style = \"text-align: left;\">9/3/2023 10:00</td><td style = \"text-align: left;\">User_12</td><td style = \"text-align: left;\">Online_Gaming</td><td style = \"text-align: left;\">-79 dBm</td><td style = \"text-align: left;\">24 ms</td><td style = \"text-align: left;\">2.5 Mbps</td><td style = \"text-align: left;\">2.8 Mbps</td><td style = \"text-align: right;\">0.75</td><td style = \"text-align: right;\">2.5</td><td style = \"text-align: right;\">2.8</td><td style = \"text-align: right;\">24.0</td><td style = \"text-align: right;\">-79.0</td><td style = \"text-align: right;\">0.163073</td><td style = \"text-align: right;\">0.796516</td></tr><tr><td class = \"rowNumber\" style = \"font-weight: bold; text-align: right;\">13</td><td style = \"text-align: left;\">9/3/2023 10:00</td><td style = \"text-align: left;\">User_13</td><td style = \"text-align: left;\">Web_Browsing</td><td style = \"text-align: left;\">-87 dBm</td><td style = \"text-align: left;\">28 ms</td><td style = \"text-align: left;\">1.2 Mbps</td><td style = \"text-align: left;\">1.2 Mbps</td><td style = \"text-align: right;\">0.65</td><td style = \"text-align: right;\">1.2</td><td style = \"text-align: right;\">1.2</td><td style = \"text-align: right;\">28.0</td><td style = \"text-align: right;\">-87.0</td><td style = \"text-align: right;\">0.03592</td><td style = \"text-align: right;\">0.0663125</td></tr><tr><td style = \"text-align: right;\">&vellip;</td><td style = \"text-align: right;\">&vellip;</td><td style = \"text-align: right;\">&vellip;</td><td style = \"text-align: right;\">&vellip;</td><td style = \"text-align: right;\">&vellip;</td><td style = \"text-align: right;\">&vellip;</td><td style = \"text-align: right;\">&vellip;</td><td style = \"text-align: right;\">&vellip;</td><td style = \"text-align: right;\">&vellip;</td><td style = \"text-align: right;\">&vellip;</td><td style = \"text-align: right;\">&vellip;</td><td style = \"text-align: right;\">&vellip;</td><td style = \"text-align: right;\">&vellip;</td><td style = \"text-align: right;\">&vellip;</td><td style = \"text-align: right;\">&vellip;</td></tr><tr><td class = \"rowNumber\" style = \"font-weight: bold; text-align: right;\">389</td><td style = \"text-align: left;\">9/3/2023 10:06</td><td style = \"text-align: left;\">User_389</td><td style = \"text-align: left;\">Video_Call</td><td style = \"text-align: left;\">-41 dBm</td><td style = \"text-align: left;\">52 ms</td><td style = \"text-align: left;\">14.4 Mbps</td><td style = \"text-align: left;\">15.7 Mbps</td><td style = \"text-align: right;\">0.75</td><td style = \"text-align: right;\">14.4</td><td style = \"text-align: right;\">15.7</td><td style = \"text-align: right;\">52.0</td><td style = \"text-align: right;\">-41.0</td><td style = \"text-align: right;\">0.41204</td><td style = \"text-align: right;\">5.18037</td></tr><tr><td class = \"rowNumber\" style = \"font-weight: bold; text-align: right;\">390</td><td style = \"text-align: left;\">9/3/2023 10:06</td><td style = \"text-align: left;\">User_390</td><td style = \"text-align: left;\">Video_Streaming</td><td style = \"text-align: left;\">-112 dBm</td><td style = \"text-align: left;\">57 ms</td><td style = \"text-align: left;\">1.1 Mbps</td><td style = \"text-align: left;\">1.5 Mbps</td><td style = \"text-align: right;\">0.7</td><td style = \"text-align: right;\">1.1</td><td style = \"text-align: right;\">1.5</td><td style = \"text-align: right;\">57.0</td><td style = \"text-align: right;\">-112.0</td><td style = \"text-align: right;\">0.0867229</td><td style = \"text-align: right;\">0.166721</td></tr><tr><td class = \"rowNumber\" style = \"font-weight: bold; text-align: right;\">391</td><td style = \"text-align: left;\">9/3/2023 10:06</td><td style = \"text-align: left;\">User_391</td><td style = \"text-align: left;\">Emergency_Service</td><td style = \"text-align: left;\">-40 dBm</td><td style = \"text-align: left;\">5 ms</td><td style = \"text-align: left;\">0.4 Mbps</td><td style = \"text-align: left;\">0.4 Mbps</td><td style = \"text-align: right;\">0.7</td><td style = \"text-align: right;\">0.4</td><td style = \"text-align: right;\">0.4</td><td style = \"text-align: right;\">5.0</td><td style = \"text-align: right;\">-40.0</td><td style = \"text-align: right;\">0.139614</td><td style = \"text-align: right;\">0.0746302</td></tr><tr><td class = \"rowNumber\" style = \"font-weight: bold; text-align: right;\">392</td><td style = \"text-align: left;\">9/3/2023 10:06</td><td style = \"text-align: left;\">User_392</td><td style = \"text-align: left;\">Web_Browsing</td><td style = \"text-align: left;\">-112 dBm</td><td style = \"text-align: left;\">0 ms</td><td style = \"text-align: left;\">0.1 Mbps</td><td style = \"text-align: left;\">0.1 Mbps</td><td style = \"text-align: right;\">0.7</td><td style = \"text-align: right;\">0.1</td><td style = \"text-align: right;\">0.1</td><td style = \"text-align: right;\">0.0</td><td style = \"text-align: right;\">-112.0</td><td style = \"text-align: right;\">0.03592</td><td style = \"text-align: right;\">0.00955471</td></tr><tr><td class = \"rowNumber\" style = \"font-weight: bold; text-align: right;\">393</td><td style = \"text-align: left;\">9/3/2023 10:06</td><td style = \"text-align: left;\">User_393</td><td style = \"text-align: left;\">Background_Download</td><td style = \"text-align: left;\">-123 dBm</td><td style = \"text-align: left;\">78 ms</td><td style = \"text-align: left;\">350 Kbps</td><td style = \"text-align: left;\">350 Kbps</td><td style = \"text-align: right;\">0.6</td><td style = \"text-align: right;\">0.35</td><td style = \"text-align: right;\">0.35</td><td style = \"text-align: right;\">78.0</td><td style = \"text-align: right;\">-123.0</td><td style = \"text-align: right;\">0.0110257</td><td style = \"text-align: right;\">0.00274481</td></tr><tr><td class = \"rowNumber\" style = \"font-weight: bold; text-align: right;\">394</td><td style = \"text-align: left;\">9/3/2023 10:06</td><td style = \"text-align: left;\">User_394</td><td style = \"text-align: left;\">VoIP_Call</td><td style = \"text-align: left;\">-56 dBm</td><td style = \"text-align: left;\">52 ms</td><td style = \"text-align: left;\">0 Kbps</td><td style = \"text-align: left;\">0 Kbps</td><td style = \"text-align: right;\">0.9</td><td style = \"text-align: right;\">0.0</td><td style = \"text-align: right;\">0.0</td><td style = \"text-align: right;\">52.0</td><td style = \"text-align: right;\">-56.0</td><td style = \"text-align: right;\">0.00299012</td><td style = \"text-align: right;\">0.0</td></tr><tr><td class = \"rowNumber\" style = \"font-weight: bold; text-align: right;\">395</td><td style = \"text-align: left;\">9/3/2023 10:06</td><td style = \"text-align: left;\">User_395</td><td style = \"text-align: left;\">Online_Gaming</td><td style = \"text-align: left;\">-41 dBm</td><td style = \"text-align: left;\">47 ms</td><td style = \"text-align: left;\">6.3 Mbps</td><td style = \"text-align: left;\">6.6 Mbps</td><td style = \"text-align: right;\">0.8</td><td style = \"text-align: right;\">6.3</td><td style = \"text-align: right;\">6.6</td><td style = \"text-align: right;\">47.0</td><td style = \"text-align: right;\">-41.0</td><td style = \"text-align: right;\">0.163073</td><td style = \"text-align: right;\">0.998595</td></tr><tr><td class = \"rowNumber\" style = \"font-weight: bold; text-align: right;\">396</td><td style = \"text-align: left;\">9/3/2023 10:06</td><td style = \"text-align: left;\">User_396</td><td style = \"text-align: left;\">Streaming</td><td style = \"text-align: left;\">-110 dBm</td><td style = \"text-align: left;\">61 ms</td><td style = \"text-align: left;\">1.3 Mbps</td><td style = \"text-align: left;\">1.8 Mbps</td><td style = \"text-align: right;\">0.85</td><td style = \"text-align: right;\">1.3</td><td style = \"text-align: right;\">1.8</td><td style = \"text-align: right;\">61.0</td><td style = \"text-align: right;\">-110.0</td><td style = \"text-align: right;\">0.091874</td><td style = \"text-align: right;\">0.234811</td></tr><tr><td class = \"rowNumber\" style = \"font-weight: bold; text-align: right;\">397</td><td style = \"text-align: left;\">9/3/2023 10:06</td><td style = \"text-align: left;\">User_397</td><td style = \"text-align: left;\">Video_Call</td><td style = \"text-align: left;\">-40 dBm</td><td style = \"text-align: left;\">53 ms</td><td style = \"text-align: left;\">14.5 Mbps</td><td style = \"text-align: left;\">15.8 Mbps</td><td style = \"text-align: right;\">0.75</td><td style = \"text-align: right;\">14.5</td><td style = \"text-align: right;\">15.8</td><td style = \"text-align: right;\">53.0</td><td style = \"text-align: right;\">-40.0</td><td style = \"text-align: right;\">0.41204</td><td style = \"text-align: right;\">5.06022</td></tr><tr><td class = \"rowNumber\" style = \"font-weight: bold; text-align: right;\">398</td><td style = \"text-align: left;\">9/3/2023 10:06</td><td style = \"text-align: left;\">User_398</td><td style = \"text-align: left;\">Video_Streaming</td><td style = \"text-align: left;\">-113 dBm</td><td style = \"text-align: left;\">58 ms</td><td style = \"text-align: left;\">1.0 Mbps</td><td style = \"text-align: left;\">1.4 Mbps</td><td style = \"text-align: right;\">0.7</td><td style = \"text-align: right;\">1.0</td><td style = \"text-align: right;\">1.4</td><td style = \"text-align: right;\">58.0</td><td style = \"text-align: right;\">-113.0</td><td style = \"text-align: right;\">0.0867229</td><td style = \"text-align: right;\">0.153675</td></tr><tr><td class = \"rowNumber\" style = \"font-weight: bold; text-align: right;\">399</td><td style = \"text-align: left;\">9/3/2023 10:06</td><td style = \"text-align: left;\">User_399</td><td style = \"text-align: left;\">Emergency_Service</td><td style = \"text-align: left;\">-40 dBm</td><td style = \"text-align: left;\">5 ms</td><td style = \"text-align: left;\">0.4 Mbps</td><td style = \"text-align: left;\">0.4 Mbps</td><td style = \"text-align: right;\">0.7</td><td style = \"text-align: right;\">0.4</td><td style = \"text-align: right;\">0.4</td><td style = \"text-align: right;\">5.0</td><td style = \"text-align: right;\">-40.0</td><td style = \"text-align: right;\">0.139614</td><td style = \"text-align: right;\">0.0746302</td></tr><tr><td class = \"rowNumber\" style = \"font-weight: bold; text-align: right;\">400</td><td style = \"text-align: left;\">9/3/2023 10:06</td><td style = \"text-align: left;\">User_400</td><td style = \"text-align: left;\">Web_Browsing</td><td style = \"text-align: left;\">-113 dBm</td><td style = \"text-align: left;\">0 ms</td><td style = \"text-align: left;\">0.1 Mbps</td><td style = \"text-align: left;\">0.1 Mbps</td><td style = \"text-align: right;\">0.7</td><td style = \"text-align: right;\">0.1</td><td style = \"text-align: right;\">0.1</td><td style = \"text-align: right;\">0.0</td><td style = \"text-align: right;\">-113.0</td><td style = \"text-align: right;\">0.03592</td><td style = \"text-align: right;\">0.00961757</td></tr></tbody></table></div>"
      ],
      "text/latex": [
       "\\begin{tabular}{r|ccccccc}\n",
       "\t& Timestamp & User\\_ID & Application\\_Type & Signal\\_Strength & Latency & Required\\_Bandwidth & \\\\\n",
       "\t\\hline\n",
       "\t& String15 & String15 & String31 & String15 & String7 & String15 & \\\\\n",
       "\t\\hline\n",
       "\t1 & 9/3/2023 10:00 & User\\_1 & Video\\_Call & -75 dBm & 30 ms & 10 Mbps & $\\dots$ \\\\\n",
       "\t2 & 9/3/2023 10:00 & User\\_2 & Voice\\_Call & -80 dBm & 20 ms & 100 Kbps & $\\dots$ \\\\\n",
       "\t3 & 9/3/2023 10:00 & User\\_3 & Streaming & -85 dBm & 40 ms & 5 Mbps & $\\dots$ \\\\\n",
       "\t4 & 9/3/2023 10:00 & User\\_4 & Emergency\\_Service & -70 dBm & 10 ms & 1 Mbps & $\\dots$ \\\\\n",
       "\t5 & 9/3/2023 10:00 & User\\_5 & Online\\_Gaming & -78 dBm & 25 ms & 2 Mbps & $\\dots$ \\\\\n",
       "\t6 & 9/3/2023 10:00 & User\\_6 & Background\\_Download & -90 dBm & 50 ms & 500 Kbps & $\\dots$ \\\\\n",
       "\t7 & 9/3/2023 10:00 & User\\_7 & Web\\_Browsing & -88 dBm & 30 ms & 1 Mbps & $\\dots$ \\\\\n",
       "\t8 & 9/3/2023 10:00 & User\\_8 & IoT\\_Temperature & -95 dBm & 100 ms & 10 Kbps & $\\dots$ \\\\\n",
       "\t9 & 9/3/2023 10:00 & User\\_9 & Video\\_Streaming & -82 dBm & 35 ms & 3 Mbps & $\\dots$ \\\\\n",
       "\t10 & 9/3/2023 10:00 & User\\_10 & File\\_Download & -75 dBm & 45 ms & 2 Mbps & $\\dots$ \\\\\n",
       "\t11 & 9/3/2023 10:00 & User\\_11 & Video\\_Call & -76 dBm & 32 ms & 12 Mbps & $\\dots$ \\\\\n",
       "\t12 & 9/3/2023 10:00 & User\\_12 & Online\\_Gaming & -79 dBm & 24 ms & 2.5 Mbps & $\\dots$ \\\\\n",
       "\t13 & 9/3/2023 10:00 & User\\_13 & Web\\_Browsing & -87 dBm & 28 ms & 1.2 Mbps & $\\dots$ \\\\\n",
       "\t14 & 9/3/2023 10:00 & User\\_14 & VoIP\\_Call & -81 dBm & 22 ms & 150 Kbps & $\\dots$ \\\\\n",
       "\t15 & 9/3/2023 10:00 & User\\_15 & Video\\_Call & -74 dBm & 29 ms & 10 Mbps & $\\dots$ \\\\\n",
       "\t16 & 9/3/2023 10:00 & User\\_16 & Streaming & -84 dBm & 38 ms & 4.5 Mbps & $\\dots$ \\\\\n",
       "\t17 & 9/3/2023 10:00 & User\\_17 & Emergency\\_Service & -69 dBm & 9 ms & 1.2 Mbps & $\\dots$ \\\\\n",
       "\t18 & 9/3/2023 10:00 & User\\_18 & Background\\_Download & -91 dBm & 48 ms & 600 Kbps & $\\dots$ \\\\\n",
       "\t19 & 9/3/2023 10:00 & User\\_19 & IoT\\_Temperature & -96 dBm & 105 ms & 8 Kbps & $\\dots$ \\\\\n",
       "\t20 & 9/3/2023 10:00 & User\\_20 & Video\\_Streaming & -83 dBm & 34 ms & 3.2 Mbps & $\\dots$ \\\\\n",
       "\t21 & 9/3/2023 10:00 & User\\_21 & Video\\_Call & -77 dBm & 31 ms & 11 Mbps & $\\dots$ \\\\\n",
       "\t22 & 9/3/2023 10:00 & User\\_22 & Online\\_Gaming & -80 dBm & 23 ms & 2.2 Mbps & $\\dots$ \\\\\n",
       "\t23 & 9/3/2023 10:00 & User\\_23 & Web\\_Browsing & -86 dBm & 29 ms & 1.4 Mbps & $\\dots$ \\\\\n",
       "\t24 & 9/3/2023 10:00 & User\\_24 & VoIP\\_Call & -82 dBm & 21 ms & 160 Kbps & $\\dots$ \\\\\n",
       "\t25 & 9/3/2023 10:00 & User\\_25 & Video\\_Call & -73 dBm & 28 ms & 10.5 Mbps & $\\dots$ \\\\\n",
       "\t26 & 9/3/2023 10:00 & User\\_26 & Streaming & -83 dBm & 37 ms & 4.2 Mbps & $\\dots$ \\\\\n",
       "\t27 & 9/3/2023 10:00 & User\\_27 & Emergency\\_Service & -68 dBm & 8 ms & 1.1 Mbps & $\\dots$ \\\\\n",
       "\t28 & 9/3/2023 10:00 & User\\_28 & Background\\_Download & -92 dBm & 47 ms & 620 Kbps & $\\dots$ \\\\\n",
       "\t29 & 9/3/2023 10:00 & User\\_29 & IoT\\_Temperature & -97 dBm & 110 ms & 7 Kbps & $\\dots$ \\\\\n",
       "\t30 & 9/3/2023 10:00 & User\\_30 & Video\\_Streaming & -84 dBm & 33 ms & 3.4 Mbps & $\\dots$ \\\\\n",
       "\t$\\dots$ & $\\dots$ & $\\dots$ & $\\dots$ & $\\dots$ & $\\dots$ & $\\dots$ &  \\\\\n",
       "\\end{tabular}\n"
      ],
      "text/plain": [
       "\u001b[1m400×14 DataFrame\u001b[0m\n",
       "\u001b[1m Row \u001b[0m│\u001b[1m Timestamp      \u001b[0m\u001b[1m User_ID  \u001b[0m\u001b[1m Application_Type    \u001b[0m\u001b[1m Signal_Strength \u001b[0m\u001b[1m Latency\u001b[0m ⋯\n",
       "     │\u001b[90m String15       \u001b[0m\u001b[90m String15 \u001b[0m\u001b[90m String31            \u001b[0m\u001b[90m String15        \u001b[0m\u001b[90m String7\u001b[0m ⋯\n",
       "─────┼──────────────────────────────────────────────────────────────────────────\n",
       "   1 │ 9/3/2023 10:00  User_1    Video_Call           -75 dBm          30 ms   ⋯\n",
       "   2 │ 9/3/2023 10:00  User_2    Voice_Call           -80 dBm          20 ms\n",
       "   3 │ 9/3/2023 10:00  User_3    Streaming            -85 dBm          40 ms\n",
       "   4 │ 9/3/2023 10:00  User_4    Emergency_Service    -70 dBm          10 ms\n",
       "   5 │ 9/3/2023 10:00  User_5    Online_Gaming        -78 dBm          25 ms   ⋯\n",
       "   6 │ 9/3/2023 10:00  User_6    Background_Download  -90 dBm          50 ms\n",
       "   7 │ 9/3/2023 10:00  User_7    Web_Browsing         -88 dBm          30 ms\n",
       "   8 │ 9/3/2023 10:00  User_8    IoT_Temperature      -95 dBm          100 ms\n",
       "   9 │ 9/3/2023 10:00  User_9    Video_Streaming      -82 dBm          35 ms   ⋯\n",
       "  10 │ 9/3/2023 10:00  User_10   File_Download        -75 dBm          45 ms\n",
       "  11 │ 9/3/2023 10:00  User_11   Video_Call           -76 dBm          32 ms\n",
       "  ⋮  │       ⋮            ⋮               ⋮                  ⋮            ⋮    ⋱\n",
       " 391 │ 9/3/2023 10:06  User_391  Emergency_Service    -40 dBm          5 ms\n",
       " 392 │ 9/3/2023 10:06  User_392  Web_Browsing         -112 dBm         0 ms    ⋯\n",
       " 393 │ 9/3/2023 10:06  User_393  Background_Download  -123 dBm         78 ms\n",
       " 394 │ 9/3/2023 10:06  User_394  VoIP_Call            -56 dBm          52 ms\n",
       " 395 │ 9/3/2023 10:06  User_395  Online_Gaming        -41 dBm          47 ms\n",
       " 396 │ 9/3/2023 10:06  User_396  Streaming            -110 dBm         61 ms   ⋯\n",
       " 397 │ 9/3/2023 10:06  User_397  Video_Call           -40 dBm          53 ms\n",
       " 398 │ 9/3/2023 10:06  User_398  Video_Streaming      -113 dBm         58 ms\n",
       " 399 │ 9/3/2023 10:06  User_399  Emergency_Service    -40 dBm          5 ms\n",
       " 400 │ 9/3/2023 10:06  User_400  Web_Browsing         -113 dBm         0 ms    ⋯\n",
       "\u001b[36m                                                  9 columns and 379 rows omitted\u001b[0m"
      ]
     },
     "execution_count": 29,
     "metadata": {},
     "output_type": "execute_result"
    }
   ],
   "source": [
    "df = CSV.read(\"Dataset_With_Payoff.csv\", DataFrame)"
   ]
  },
  {
   "cell_type": "code",
   "execution_count": 30,
   "id": "48360b42",
   "metadata": {},
   "outputs": [
    {
     "data": {
      "text/html": [
       "<div><div style = \"float: left;\"><span>11×2 DataFrame</span></div><div style = \"clear: both;\"></div></div><div class = \"data-frame\" style = \"overflow-x: scroll;\"><table class = \"data-frame\" style = \"margin-bottom: 6px;\"><thead><tr class = \"header\"><th class = \"rowNumber\" style = \"font-weight: bold; text-align: right;\">Row</th><th style = \"text-align: left;\">Application_Type</th><th style = \"text-align: left;\">alpha_j</th></tr><tr class = \"subheader headerLastRow\"><th class = \"rowNumber\" style = \"font-weight: bold; text-align: right;\"></th><th title = \"String31\" style = \"text-align: left;\">String31</th><th title = \"Float64\" style = \"text-align: left;\">Float64</th></tr></thead><tbody><tr><td class = \"rowNumber\" style = \"font-weight: bold; text-align: right;\">1</td><td style = \"text-align: left;\">Video_Call</td><td style = \"text-align: right;\">0.41204</td></tr><tr><td class = \"rowNumber\" style = \"font-weight: bold; text-align: right;\">2</td><td style = \"text-align: left;\">Online_Gaming</td><td style = \"text-align: right;\">0.163073</td></tr><tr><td class = \"rowNumber\" style = \"font-weight: bold; text-align: right;\">3</td><td style = \"text-align: left;\">Emergency_Service</td><td style = \"text-align: right;\">0.139614</td></tr><tr><td class = \"rowNumber\" style = \"font-weight: bold; text-align: right;\">4</td><td style = \"text-align: left;\">Streaming</td><td style = \"text-align: right;\">0.091874</td></tr><tr><td class = \"rowNumber\" style = \"font-weight: bold; text-align: right;\">5</td><td style = \"text-align: left;\">Video_Streaming</td><td style = \"text-align: right;\">0.0867229</td></tr><tr><td class = \"rowNumber\" style = \"font-weight: bold; text-align: right;\">6</td><td style = \"text-align: left;\">File_Download</td><td style = \"text-align: right;\">0.0509634</td></tr><tr><td class = \"rowNumber\" style = \"font-weight: bold; text-align: right;\">7</td><td style = \"text-align: left;\">Web_Browsing</td><td style = \"text-align: right;\">0.03592</td></tr><tr><td class = \"rowNumber\" style = \"font-weight: bold; text-align: right;\">8</td><td style = \"text-align: left;\">Background_Download</td><td style = \"text-align: right;\">0.0110257</td></tr><tr><td class = \"rowNumber\" style = \"font-weight: bold; text-align: right;\">9</td><td style = \"text-align: left;\">Voice_Call</td><td style = \"text-align: right;\">0.00573338</td></tr><tr><td class = \"rowNumber\" style = \"font-weight: bold; text-align: right;\">10</td><td style = \"text-align: left;\">VoIP_Call</td><td style = \"text-align: right;\">0.00299012</td></tr><tr><td class = \"rowNumber\" style = \"font-weight: bold; text-align: right;\">11</td><td style = \"text-align: left;\">IoT_Temperature</td><td style = \"text-align: right;\">4.31731e-5</td></tr></tbody></table></div>"
      ],
      "text/latex": [
       "\\begin{tabular}{r|cc}\n",
       "\t& Application\\_Type & alpha\\_j\\\\\n",
       "\t\\hline\n",
       "\t& String31 & Float64\\\\\n",
       "\t\\hline\n",
       "\t1 & Video\\_Call & 0.41204 \\\\\n",
       "\t2 & Online\\_Gaming & 0.163073 \\\\\n",
       "\t3 & Emergency\\_Service & 0.139614 \\\\\n",
       "\t4 & Streaming & 0.091874 \\\\\n",
       "\t5 & Video\\_Streaming & 0.0867229 \\\\\n",
       "\t6 & File\\_Download & 0.0509634 \\\\\n",
       "\t7 & Web\\_Browsing & 0.03592 \\\\\n",
       "\t8 & Background\\_Download & 0.0110257 \\\\\n",
       "\t9 & Voice\\_Call & 0.00573338 \\\\\n",
       "\t10 & VoIP\\_Call & 0.00299012 \\\\\n",
       "\t11 & IoT\\_Temperature & 4.31731e-5 \\\\\n",
       "\\end{tabular}\n"
      ],
      "text/plain": [
       "\u001b[1m11×2 DataFrame\u001b[0m\n",
       "\u001b[1m Row \u001b[0m│\u001b[1m Application_Type    \u001b[0m\u001b[1m alpha_j    \u001b[0m\n",
       "     │\u001b[90m String31            \u001b[0m\u001b[90m Float64    \u001b[0m\n",
       "─────┼─────────────────────────────────\n",
       "   1 │ Video_Call           0.41204\n",
       "   2 │ Online_Gaming        0.163073\n",
       "   3 │ Emergency_Service    0.139614\n",
       "   4 │ Streaming            0.091874\n",
       "   5 │ Video_Streaming      0.0867229\n",
       "   6 │ File_Download        0.0509634\n",
       "   7 │ Web_Browsing         0.03592\n",
       "   8 │ Background_Download  0.0110257\n",
       "   9 │ Voice_Call           0.00573338\n",
       "  10 │ VoIP_Call            0.00299012\n",
       "  11 │ IoT_Temperature      4.31731e-5"
      ]
     },
     "execution_count": 30,
     "metadata": {},
     "output_type": "execute_result"
    }
   ],
   "source": [
    "alpha_df = CSV.read(\"Alpha_Values.csv\", DataFrame)"
   ]
  },
  {
   "cell_type": "code",
   "execution_count": 31,
   "id": "666fbee9",
   "metadata": {},
   "outputs": [
    {
     "data": {
      "text/plain": [
       "2-element Vector{@NamedTuple{bandwidth::Float64, latency::Float64}}:\n",
       " (bandwidth = 10.0, latency = 10.0)\n",
       " (bandwidth = 0.1, latency = 50.0)"
      ]
     },
     "execution_count": 31,
     "metadata": {},
     "output_type": "execute_result"
    }
   ],
   "source": [
    "strategies = [\n",
    "    (bandwidth=10.0, latency=10.0),  # High Demand\n",
    "    (bandwidth=0.1, latency=50.0)    # Low Demand\n",
    "]"
   ]
  },
  {
   "cell_type": "code",
   "execution_count": 32,
   "id": "adeb7855",
   "metadata": {},
   "outputs": [
    {
     "data": {
      "text/plain": [
       "compute_payoff (generic function with 1 method)"
      ]
     },
     "execution_count": 32,
     "metadata": {},
     "output_type": "execute_result"
    }
   ],
   "source": [
    "function compute_payoff(alpha_j, allocated_bandwidth, latency, signal_strength, resource_allocation, max_latency, max_signal_strength)\n",
    "    return alpha_j * allocated_bandwidth * (1 - latency / max_latency) * (1 + signal_strength / max_signal_strength) * resource_allocation\n",
    "end"
   ]
  },
  {
   "cell_type": "code",
   "execution_count": 33,
   "id": "a33af193",
   "metadata": {},
   "outputs": [
    {
     "data": {
      "text/plain": [
       "get_allocated_bandwidth (generic function with 1 method)"
      ]
     },
     "execution_count": 33,
     "metadata": {},
     "output_type": "execute_result"
    }
   ],
   "source": [
    "total_bandwidth = 1000.0  # Total available bandwidth (Mbps)\n",
    "function get_allocated_bandwidth(requested_bandwidths)\n",
    "    total_requested = sum(requested_bandwidths)\n",
    "    if total_requested == 0\n",
    "        return zeros(length(requested_bandwidths))\n",
    "    end\n",
    "    return [min(bw, total_bandwidth * bw / total_requested) for bw in requested_bandwidths]\n",
    "end"
   ]
  },
  {
   "cell_type": "code",
   "execution_count": 51,
   "id": "6cdd9ad2",
   "metadata": {},
   "outputs": [
    {
     "data": {
      "text/plain": [
       "compute_expected_payoff (generic function with 2 methods)"
      ]
     },
     "execution_count": 51,
     "metadata": {},
     "output_type": "execute_result"
    }
   ],
   "source": [
    "function compute_expected_payoff(player_idx, strategy_idx, p, df, max_latency, max_signal_strength, n_samples=500)\n",
    "    n_players = nrow(df)\n",
    "    payoff_sum = 0.0\n",
    "    strategy = strategies[strategy_idx]\n",
    "    \n",
    "    for _ in 1:n_samples\n",
    "        # Simulate a strategy profile\n",
    "        requested_bandwidths = zeros(n_players)\n",
    "        for i in 1:n_players\n",
    "            if i == player_idx\n",
    "                requested_bandwidths[i] = strategy.bandwidth\n",
    "            else\n",
    "                # Sample strategy based on p[i]\n",
    "                if rand() < p[i]\n",
    "                    requested_bandwidths[i] = strategies[1].bandwidth  # High Demand\n",
    "                else\n",
    "                    requested_bandwidths[i] = strategies[2].bandwidth  # Low Demand\n",
    "                end\n",
    "            end\n",
    "        end\n",
    "        allocated = get_allocated_bandwidth(requested_bandwidths)\n",
    "        payoff = compute_payoff(df.alpha_j[player_idx],allocated[player_idx],strategy.latency,df.Signal_Strength_dBm[player_idx],df.Resource_Allocation[player_idx],max_latency,max_signal_strength)\n",
    "        payoff_sum += payoff\n",
    "    end\n",
    "    \n",
    "    return payoff_sum / n_samples\n",
    "end"
   ]
  },
  {
   "cell_type": "code",
   "execution_count": 57,
   "id": "b30c9989",
   "metadata": {},
   "outputs": [
    {
     "data": {
      "text/plain": [
       "best_response_dynamics (generic function with 4 methods)"
      ]
     },
     "execution_count": 57,
     "metadata": {},
     "output_type": "execute_result"
    }
   ],
   "source": [
    "function best_response_dynamics(df, max_iterations=1000, eta=0.5, epsilon=1e-5)\n",
    "    n_players = nrow(df)\n",
    "    max_latency = maximum(df.Latency_ms)\n",
    "    max_signal_strength = maximum(df.Signal_Strength_dBm)\n",
    "    p = rand(n_players) \n",
    "    for iteration in 1:max_iterations\n",
    "        p_old = copy(p)\n",
    "        max_change = 0.0\n",
    "        for i in 1:n_players\n",
    "            payoff_high = compute_expected_payoff(i, 1, p, df, max_latency, max_signal_strength)\n",
    "            payoff_low = compute_expected_payoff(i, 2, p, df, max_latency, max_signal_strength)\n",
    "            best_response = payoff_high > payoff_low ? 1.0 : 0.0\n",
    "            p[i] = (1 - eta) * p[i] + eta * best_response\n",
    "            max_change = max(max_change, abs(p[i] - p_old[i]))\n",
    "        end\n",
    "        if max_change < epsilon\n",
    "            println(\"Converged after $iteration iterations.\")\n",
    "            return p\n",
    "        end\n",
    "        if iteration % 100 == 0\n",
    "            println(\"Iteration $iteration, max change: $max_change\")\n",
    "        end\n",
    "    end\n",
    "    println(\"Reached maximum iterations ($max_iterations) without convergence.\")\n",
    "    return p\n",
    "end"
   ]
  },
  {
   "cell_type": "code",
   "execution_count": 40,
   "id": "305f166c",
   "metadata": {},
   "outputs": [],
   "source": [
    "using Random"
   ]
  },
  {
   "cell_type": "code",
   "execution_count": 58,
   "id": "02894f14",
   "metadata": {},
   "outputs": [
    {
     "name": "stdout",
     "output_type": "stream",
     "text": [
      "Converged after 17 iterations.\n"
     ]
    },
    {
     "data": {
      "text/plain": [
       "400-element Vector{Float64}:\n",
       " 0.9999992851229766\n",
       " 0.9999957541941258\n",
       " 0.9999980596418849\n",
       " 0.999996277489014\n",
       " 0.9999943073203197\n",
       " 0.9999949199793731\n",
       " 0.9999956308584661\n",
       " 0.999998989465334\n",
       " 0.9999931269349277\n",
       " 0.9999933264725318\n",
       " 0.9999976517384495\n",
       " 0.9999934124105464\n",
       " 0.9999926154836529\n",
       " ⋮\n",
       " 0.9999976374895205\n",
       " 0.9999941641750156\n",
       " 0.999999751941683\n",
       " 0.9999949242228812\n",
       " 0.9999977364658437\n",
       " 0.999999124239386\n",
       " 0.9999980366893346\n",
       " 0.9999990993914555\n",
       " 0.9999976426722104\n",
       " 0.9999951957017599\n",
       " 0.9999961520530904\n",
       " 0.9999966019652285"
      ]
     },
     "execution_count": 58,
     "metadata": {},
     "output_type": "execute_result"
    }
   ],
   "source": [
    "Random.seed!(123)  # For reproducibility\n",
    "mixed_strategies = best_response_dynamics(df)"
   ]
  },
  {
   "cell_type": "code",
   "execution_count": 56,
   "id": "05af36b1",
   "metadata": {},
   "outputs": [
    {
     "name": "stdout",
     "output_type": "stream",
     "text": [
      "\n",
      "Mixed Strategy Nash Equilibrium (probability of High Demand):\n",
      "User_User_1: p = 0.999919464122044\n",
      "User_User_2: p = 0.9995216803834145\n",
      "User_User_3: p = 0.9997814051378818\n",
      "User_User_4: p = 0.9995806331988915\n",
      "User_User_5: p = 0.9993586799673079\n",
      "User_User_6: p = 0.9994277002786879\n",
      "User_User_7: p = 0.9995077857619458\n",
      "User_User_8: p = 0.9998861562284477\n",
      "User_User_9: p = 0.9992257013279521\n",
      "User_User_10: p = 0.9992481806294389\n",
      "User_User_11: p = 0.9997354519736048\n",
      "User_User_12: p = 0.9992578621455982\n",
      "User_User_13: p = 0.9991680827780431\n",
      "User_User_14: p = 0.9994417912397596\n",
      "User_User_15: p = 0.9999401203670811\n",
      "User_User_16: p = 0.999965132997938\n",
      "User_User_17: p = 0.9998058308040463\n",
      "User_User_18: p = 0.9992982616515859\n",
      "User_User_19: p = 0.999395787993956\n",
      "User_User_20: p = 0.9992695543898458\n",
      "User_User_21: p = 0.9999084945312513\n",
      "User_User_22: p = 0.9994455058763659\n",
      "User_User_23: p = 0.9992537767628545\n",
      "User_User_24: p = 0.9999494036282237\n",
      "User_User_25: p = 0.9991895734442094\n",
      "User_User_26: p = 0.9993516325571028\n",
      "User_User_27: p = 0.9998331968386235\n",
      "User_User_28: p = 0.9994308567441554\n",
      "User_User_29: p = 0.9998484318298421\n",
      "User_User_30: p = 0.9995276882423512\n",
      "User_User_31: p = 0.9999066380266316\n",
      "User_User_32: p = 0.999751636346023\n",
      "User_User_33: p = 0.9994504181537616\n",
      "User_User_34: p = 0.9993635909497183\n",
      "User_User_35: p = 0.99947571348294\n",
      "User_User_36: p = 0.9995374681869474\n",
      "User_User_37: p = 0.9999432861037932\n",
      "User_User_38: p = 0.9997879412127433\n",
      "User_User_39: p = 0.9997675897616463\n",
      "User_User_40: p = 0.9992800622432196\n",
      "User_User_41: p = 0.9996880662842721\n",
      "User_User_42: p = 0.9999926126762487\n",
      "User_User_43: p = 0.9994701572041395\n",
      "User_User_44: p = 0.999671846787879\n",
      "User_User_45: p = 0.9995567443785363\n",
      "User_User_46: p = 0.9996559420232767\n",
      "User_User_47: p = 0.9995304470130417\n",
      "User_User_48: p = 0.9994197514816582\n",
      "User_User_49: p = 0.9995788780029173\n",
      "User_User_50: p = 0.9997044149428846\n",
      "User_User_51: p = 0.9998880534831356\n",
      "User_User_52: p = 0.9994614138000126\n",
      "User_User_53: p = 0.9997354745715512\n",
      "User_User_54: p = 0.9997824199296704\n",
      "User_User_55: p = 0.9992235913092002\n",
      "User_User_56: p = 0.9995350962189588\n",
      "User_User_57: p = 0.9996633694014191\n",
      "User_User_58: p = 0.9998594120766672\n",
      "User_User_59: p = 0.9993844921381697\n",
      "User_User_60: p = 0.9996832891695986\n",
      "User_User_61: p = 0.9997345521098234\n",
      "User_User_62: p = 0.9998463923125321\n",
      "User_User_63: p = 0.9996256081099504\n",
      "User_User_64: p = 0.9991666063225899\n",
      "User_User_65: p = 0.9992187473958316\n",
      "User_User_66: p = 0.9997996219668399\n",
      "User_User_67: p = 0.9993524841347781\n",
      "User_User_68: p = 0.9992236838011663\n",
      "User_User_69: p = 0.9992196272102689\n",
      "User_User_70: p = 0.9995169282071948\n",
      "User_User_71: p = 0.9993394435469439\n",
      "User_User_72: p = 0.9996967176466325\n",
      "User_User_73: p = 0.9997263674593828\n",
      "User_User_74: p = 0.9992456939044125\n",
      "User_User_75: p = 0.9996981534483079\n",
      "User_User_76: p = 0.9996455660196243\n",
      "User_User_77: p = 0.9994648495009435\n",
      "User_User_78: p = 0.9993471606500792\n",
      "User_User_79: p = 0.9993314339732033\n",
      "User_User_80: p = 0.9995785819372461\n",
      "User_User_81: p = 0.9993283648851914\n",
      "User_User_82: p = 0.9998573635653444\n",
      "User_User_83: p = 0.9996248646956287\n",
      "User_User_84: p = 0.999502137543217\n",
      "User_User_85: p = 0.999673785397419\n",
      "User_User_86: p = 0.9993915697066138\n",
      "User_User_87: p = 0.999265756101387\n",
      "User_User_88: p = 0.9998838435127924\n",
      "User_User_89: p = 0.9999368180024172\n",
      "User_User_90: p = 0.9991991263275543\n",
      "User_User_91: p = 0.9991817358209117\n",
      "User_User_92: p = 0.9995073138675654\n",
      "User_User_93: p = 0.9999766163106213\n",
      "User_User_94: p = 0.9999382545915031\n",
      "User_User_95: p = 0.9992071317450792\n",
      "User_User_96: p = 0.9996036969021955\n",
      "User_User_97: p = 0.999447779774536\n",
      "User_User_98: p = 0.9995460301350056\n",
      "User_User_99: p = 0.9999746600812056\n",
      "User_User_100: p = 0.9996665396756966\n",
      "User_User_101: p = 0.9996038339464858\n",
      "User_User_102: p = 0.9992751689675918\n",
      "User_User_103: p = 0.9992776257991806\n",
      "User_User_104: p = 0.999557945406352\n",
      "User_User_105: p = 0.9999355314128827\n",
      "User_User_106: p = 0.9993291673967964\n",
      "User_User_107: p = 0.9995334292203352\n",
      "User_User_108: p = 0.9998886813895035\n",
      "User_User_109: p = 0.9999204130252783\n",
      "User_User_110: p = 0.9997319186322587\n",
      "User_User_111: p = 0.9993532241563965\n",
      "User_User_112: p = 0.9993226429046403\n",
      "User_User_113: p = 0.9994156672048337\n",
      "User_User_114: p = 0.9991504306322019\n",
      "User_User_115: p = 0.9999917906767456\n",
      "User_User_116: p = 0.9993856767540099\n",
      "User_User_117: p = 0.9992082942930318\n",
      "User_User_118: p = 0.999543569894401\n",
      "User_User_119: p = 0.9995498702866008\n",
      "User_User_120: p = 0.9992762773873299\n",
      "User_User_121: p = 0.9994231543178759\n",
      "User_User_122: p = 0.9993807682738426\n",
      "User_User_123: p = 0.9991601863660655\n",
      "User_User_124: p = 0.9994164491570084\n",
      "User_User_125: p = 0.9998730058154343\n",
      "User_User_126: p = 0.9991609094432446\n",
      "User_User_127: p = 0.9996828562753189\n",
      "User_User_128: p = 0.9996737921411076\n",
      "User_User_129: p = 0.9995138049928948\n",
      "User_User_130: p = 0.9998178412886263\n",
      "User_User_131: p = 0.999872707517257\n",
      "User_User_132: p = 0.9996765943427284\n",
      "User_User_133: p = 0.9994459153551544\n",
      "User_User_134: p = 0.9998689293887195\n",
      "User_User_135: p = 0.9997590123208647\n",
      "User_User_136: p = 0.9991963445736743\n",
      "User_User_137: p = 0.9994556557149056\n",
      "User_User_138: p = 0.9993819040151283\n",
      "User_User_139: p = 0.9999087230404144\n",
      "User_User_140: p = 0.9991876488769212\n",
      "User_User_141: p = 0.99970880154032\n",
      "User_User_142: p = 0.9994669817812584\n",
      "User_User_143: p = 0.9998219414157757\n",
      "User_User_144: p = 0.9994830307278946\n",
      "User_User_145: p = 0.9998557257667848\n",
      "User_User_146: p = 0.9998525406482679\n",
      "User_User_147: p = 0.9996350782402439\n",
      "User_User_148: p = 0.9999167321508964\n",
      "User_User_149: p = 0.9993814312022825\n",
      "User_User_150: p = 0.9995753347354928\n",
      "User_User_151: p = 0.9993696743534963\n",
      "User_User_152: p = 0.999849364727266\n",
      "User_User_153: p = 0.999459762698203\n",
      "User_User_154: p = 0.9996068064387088\n",
      "User_User_155: p = 0.9995736710080783\n",
      "User_User_156: p = 0.9995218279026596\n",
      "User_User_157: p = 0.9992160493468024\n",
      "User_User_158: p = 0.9996094173749156\n",
      "User_User_159: p = 0.9996529811224728\n",
      "User_User_160: p = 0.9997225177415373\n",
      "User_User_161: p = 0.9993181073370814\n",
      "User_User_162: p = 0.9998113433463564\n",
      "User_User_163: p = 0.9996258515546805\n",
      "User_User_164: p = 0.9998623519553418\n",
      "User_User_165: p = 0.9994346162344981\n",
      "User_User_166: p = 0.9999997603558527\n",
      "User_User_167: p = 0.9998081839284094\n",
      "User_User_168: p = 0.9997587714651287\n",
      "User_User_169: p = 0.999700996241742\n",
      "User_User_170: p = 0.9997873283159017\n",
      "User_User_171: p = 0.9992105642656268\n",
      "User_User_172: p = 0.99945361512379\n",
      "User_User_173: p = 0.9998980107147336\n",
      "User_User_174: p = 0.9996565009040741\n",
      "User_User_175: p = 0.9999789319687529\n",
      "User_User_176: p = 0.9999703860082025\n",
      "User_User_177: p = 0.999261131933725\n",
      "User_User_178: p = 0.9994601241344784\n",
      "User_User_179: p = 0.999825856469513\n",
      "User_User_180: p = 0.9992238658261479\n",
      "User_User_181: p = 0.9999103127374611\n",
      "User_User_182: p = 0.9996858741691974\n",
      "User_User_183: p = 0.9996668168688285\n",
      "User_User_184: p = 0.9994023404047274\n",
      "User_User_185: p = 0.999454131042047\n",
      "User_User_186: p = 0.999393720773274\n",
      "User_User_187: p = 0.9996652596927944\n",
      "User_User_188: p = 0.9993703301016014\n",
      "User_User_189: p = 0.9993475192939347\n",
      "User_User_190: p = 0.9993084632611837\n",
      "User_User_191: p = 0.9999519041666795\n",
      "User_User_192: p = 0.9997595731062061\n",
      "User_User_193: p = 0.9991545017575203\n",
      "User_User_194: p = 0.9996317389916713\n",
      "User_User_195: p = 0.999407526777262\n",
      "User_User_196: p = 0.9998163344055949\n",
      "User_User_197: p = 0.9999473557041795\n",
      "User_User_198: p = 0.9999301866965296\n",
      "User_User_199: p = 0.9992182691588856\n",
      "User_User_200: p = 0.9997319812257461\n",
      "User_User_201: p = 0.9997763224990404\n",
      "User_User_202: p = 0.999418933057675\n",
      "User_User_203: p = 0.9992203280645865\n",
      "User_User_204: p = 0.9997951181459065\n",
      "User_User_205: p = 0.9997918889522807\n",
      "User_User_206: p = 0.9999835364773637\n",
      "User_User_207: p = 0.9998656068497653\n",
      "User_User_208: p = 0.9993132012534154\n",
      "User_User_209: p = 0.9991635739311738\n",
      "User_User_210: p = 0.9999994168869537\n",
      "User_User_211: p = 0.999894514046037\n",
      "User_User_212: p = 0.9999079259386854\n",
      "User_User_213: p = 0.9996308428792708\n",
      "User_User_214: p = 0.9992104407582169\n",
      "User_User_215: p = 0.9995759592972201\n",
      "User_User_216: p = 0.9991991032026686\n",
      "User_User_217: p = 0.9995369957803576\n",
      "User_User_218: p = 0.9993217155609971\n",
      "User_User_219: p = 0.9994033294112488\n",
      "User_User_220: p = 0.9995198474578086\n",
      "User_User_221: p = 0.9991964483003603\n",
      "User_User_222: p = 0.9998095455315513\n",
      "User_User_223: p = 0.9992104200166588\n",
      "User_User_224: p = 0.9999573276951895\n",
      "User_User_225: p = 0.999257522755313\n",
      "User_User_226: p = 0.999437845649063\n",
      "User_User_227: p = 0.9995267642142804\n",
      "User_User_228: p = 0.9992429872004774\n",
      "User_User_229: p = 0.9991757086004611\n",
      "User_User_230: p = 0.999982427441649\n",
      "User_User_231: p = 0.9996203057276781\n",
      "User_User_232: p = 0.9999235028414191\n",
      "User_User_233: p = 0.9994382572079525\n",
      "User_User_234: p = 0.9997840697826292\n",
      "User_User_235: p = 0.9992398813041496\n",
      "User_User_236: p = 0.9993908113785968\n",
      "User_User_237: p = 0.9991920589385408\n",
      "User_User_238: p = 0.9996246716523619\n",
      "User_User_239: p = 0.9992472656686476\n",
      "User_User_240: p = 0.9999494266381438\n",
      "User_User_241: p = 0.9993969207578006\n",
      "User_User_242: p = 0.9998409225388166\n",
      "User_User_243: p = 0.9997587361611731\n",
      "User_User_244: p = 0.9998481075436625\n",
      "User_User_245: p = 0.9992925361690992\n",
      "User_User_246: p = 0.9993876776594823\n",
      "User_User_247: p = 0.9991643011363274\n",
      "User_User_248: p = 0.999305322490383\n",
      "User_User_249: p = 0.9994851116834016\n",
      "User_User_250: p = 0.9995388648182691\n",
      "User_User_251: p = 0.9994549420800845\n",
      "User_User_252: p = 0.9997577266731823\n",
      "User_User_253: p = 0.9991413395246771\n",
      "User_User_254: p = 0.9998135520986255\n",
      "User_User_255: p = 0.9992943554291253\n",
      "User_User_256: p = 0.9991930829984979\n",
      "User_User_257: p = 0.9998532208037169\n",
      "User_User_258: p = 0.9998560402647334\n",
      "User_User_259: p = 0.9997513567075822\n",
      "User_User_260: p = 0.9997289600771535\n",
      "User_User_261: p = 0.9994069390428215\n",
      "User_User_262: p = 0.9997681073857018\n",
      "User_User_263: p = 0.9998529855378703\n",
      "User_User_264: p = 0.9995840877721766\n",
      "User_User_265: p = 0.999228029776818\n",
      "User_User_266: p = 0.9996216806929932\n",
      "User_User_267: p = 0.9994970811225838\n",
      "User_User_268: p = 0.9999408026883053\n",
      "User_User_269: p = 0.9991830539318604\n",
      "User_User_270: p = 0.9998757676715939\n",
      "User_User_271: p = 0.999478187437173\n"
     ]
    },
    {
     "name": "stdout",
     "output_type": "stream",
     "text": [
      "User_User_272: p = 0.9992181615836319\n",
      "User_User_273: p = 0.9994626034300603\n",
      "User_User_274: p = 0.9996987939329499\n",
      "User_User_275: p = 0.9996375057978487\n",
      "User_User_276: p = 0.9992081116900494\n",
      "User_User_277: p = 0.9999914729479545\n",
      "User_User_278: p = 0.9991951830544348\n",
      "User_User_279: p = 0.9997742863575738\n",
      "User_User_280: p = 0.999899782938453\n",
      "User_User_281: p = 0.9994401453998638\n",
      "User_User_282: p = 0.9997521233993303\n",
      "User_User_283: p = 0.9991793631389261\n",
      "User_User_284: p = 0.9997718189266224\n",
      "User_User_285: p = 0.999644799256787\n",
      "User_User_286: p = 0.9996285084502549\n",
      "User_User_287: p = 0.9996669680676651\n",
      "User_User_288: p = 0.9998062088451063\n",
      "User_User_289: p = 0.999188329689144\n",
      "User_User_290: p = 0.9996917943559492\n",
      "User_User_291: p = 0.9994712109978009\n",
      "User_User_292: p = 0.9994203362162443\n",
      "User_User_293: p = 0.9995764344675704\n",
      "User_User_294: p = 0.9995908874637611\n",
      "User_User_295: p = 0.9991608677141445\n",
      "User_User_296: p = 0.9995541647056561\n",
      "User_User_297: p = 0.9993770738727948\n",
      "User_User_298: p = 0.9996824647357345\n",
      "User_User_299: p = 0.9993840458219678\n",
      "User_User_300: p = 0.9997774061606395\n",
      "User_User_301: p = 0.9998321892950798\n",
      "User_User_302: p = 0.9995121413217002\n",
      "User_User_303: p = 0.9993381696116717\n",
      "User_User_304: p = 0.9999795191743551\n",
      "User_User_305: p = 0.9993455031134906\n",
      "User_User_306: p = 0.9996974354778609\n",
      "User_User_307: p = 0.9991567436185249\n",
      "User_User_308: p = 0.9999723799722666\n",
      "User_User_309: p = 0.9997526106018794\n",
      "User_User_310: p = 0.9994906651823967\n",
      "User_User_311: p = 0.9998818518827444\n",
      "User_User_312: p = 0.999190265535632\n",
      "User_User_313: p = 0.999739705253632\n",
      "User_User_314: p = 0.9998636113076018\n",
      "User_User_315: p = 0.9995899188840083\n",
      "User_User_316: p = 0.9994744564486692\n",
      "User_User_317: p = 0.9992340517503634\n",
      "User_User_318: p = 0.9995629053060895\n",
      "User_User_319: p = 0.9995584736464995\n",
      "User_User_320: p = 0.9993549335963472\n",
      "User_User_321: p = 0.999902807634498\n",
      "User_User_322: p = 0.9996709788823381\n",
      "User_User_323: p = 0.9998006614482806\n",
      "User_User_324: p = 0.9995429230245116\n",
      "User_User_325: p = 0.999725098070893\n",
      "User_User_326: p = 0.9997524032711966\n",
      "User_User_327: p = 0.9995829703488981\n",
      "User_User_328: p = 0.999495102654227\n",
      "User_User_329: p = 0.9998191787818889\n",
      "User_User_330: p = 0.9992330555391349\n",
      "User_User_331: p = 0.9994459263403646\n",
      "User_User_332: p = 0.9991853086098668\n",
      "User_User_333: p = 0.9991579465775798\n",
      "User_User_334: p = 0.9999391758761953\n",
      "User_User_335: p = 0.9994253203811769\n",
      "User_User_336: p = 0.9991652148393343\n",
      "User_User_337: p = 0.9998976051624314\n",
      "User_User_338: p = 0.9994611958615647\n",
      "User_User_339: p = 0.9993037146565973\n",
      "User_User_340: p = 0.999837655122944\n",
      "User_User_341: p = 0.9994719954991945\n",
      "User_User_342: p = 0.999308436802228\n",
      "User_User_343: p = 0.999620005707539\n",
      "User_User_344: p = 0.9992727452334629\n",
      "User_User_345: p = 0.9997158082032538\n",
      "User_User_346: p = 0.9991638995803414\n",
      "User_User_347: p = 0.9995400416742004\n",
      "User_User_348: p = 0.9993247531059927\n",
      "User_User_349: p = 0.9999160248393446\n",
      "User_User_350: p = 0.9995370480807814\n",
      "User_User_351: p = 0.9999113865951396\n",
      "User_User_352: p = 0.999908862606903\n",
      "User_User_353: p = 0.9993684433565442\n",
      "User_User_354: p = 0.9998117289717979\n",
      "User_User_355: p = 0.999438416954289\n",
      "User_User_356: p = 0.9996629709460866\n",
      "User_User_357: p = 0.9998521422855244\n",
      "User_User_358: p = 0.9994522685431945\n",
      "User_User_359: p = 0.9996607747207951\n",
      "User_User_360: p = 0.9999560190778752\n",
      "User_User_361: p = 0.9991936864407255\n",
      "User_User_362: p = 0.9997743146060776\n",
      "User_User_363: p = 0.9993969703436895\n",
      "User_User_364: p = 0.9995215008994005\n",
      "User_User_365: p = 0.9999940136994713\n",
      "User_User_366: p = 0.9998979323600594\n",
      "User_User_367: p = 0.9997028302855216\n",
      "User_User_368: p = 0.9997586917554018\n",
      "User_User_369: p = 0.9996272234251128\n",
      "User_User_370: p = 0.9992922422096344\n",
      "User_User_371: p = 0.999931422461699\n",
      "User_User_372: p = 0.9992658149758962\n",
      "User_User_373: p = 0.9995010423179288\n",
      "User_User_374: p = 0.9998978697781609\n",
      "User_User_375: p = 0.9999295017508338\n",
      "User_User_376: p = 0.9994426894867521\n",
      "User_User_377: p = 0.9997555401208658\n",
      "User_User_378: p = 0.9997616183124651\n",
      "User_User_379: p = 0.9994913037889497\n",
      "User_User_380: p = 0.999546698945821\n",
      "User_User_381: p = 0.9994986538177629\n",
      "User_User_382: p = 0.9992653661201694\n",
      "User_User_383: p = 0.999757614526699\n",
      "User_User_384: p = 0.9991706095716346\n",
      "User_User_385: p = 0.9992741846929608\n",
      "User_User_386: p = 0.9991635319730033\n",
      "User_User_387: p = 0.9996711888523507\n",
      "User_User_388: p = 0.9994885480201164\n",
      "User_User_389: p = 0.9997338467324761\n",
      "User_User_390: p = 0.9993425536513655\n",
      "User_User_391: p = 0.9999720545021115\n",
      "User_User_392: p = 0.9994281783394503\n",
      "User_User_393: p = 0.9997449971049428\n",
      "User_User_394: p = 0.9999013394645204\n",
      "User_User_395: p = 0.9997788193731507\n",
      "User_User_396: p = 0.9998985401720032\n",
      "User_User_397: p = 0.9997344305985957\n",
      "User_User_398: p = 0.9994587623268054\n",
      "User_User_399: p = 0.9995665019680761\n",
      "User_User_400: p = 0.999617187705426\n"
     ]
    }
   ],
   "source": [
    "println(\"\\nMixed Strategy Nash Equilibrium (probability of High Demand):\")\n",
    "for i in 1:nrow(df)   \n",
    "    println(\"User_$(df.User_ID[i]): p = $(mixed_strategies[i])\")\n",
    "end"
   ]
  },
  {
   "cell_type": "code",
   "execution_count": 59,
   "id": "e18ae324",
   "metadata": {},
   "outputs": [
    {
     "name": "stdout",
     "output_type": "stream",
     "text": [
      "\n",
      "Results saved to Mixed_Strategy_Equilibrium.csv\n"
     ]
    }
   ],
   "source": [
    "results_df = DataFrame(User_ID=df.User_ID, Prob_High_Demand=mixed_strategies)\n",
    "CSV.write(\"Mixed_Strategy_Equilibrium.csv\", results_df)\n",
    "println(\"\\nResults saved to Mixed_Strategy_Equilibrium.csv\")"
   ]
  }
 ],
 "metadata": {
  "kernelspec": {
   "display_name": "Julia 1.11.3",
   "language": "julia",
   "name": "julia-1.11"
  },
  "language_info": {
   "file_extension": ".jl",
   "mimetype": "application/julia",
   "name": "julia",
   "version": "1.11.3"
  }
 },
 "nbformat": 4,
 "nbformat_minor": 5
}
