{
 "cells": [
  {
   "cell_type": "code",
   "execution_count": 1,
   "id": "7b324539",
   "metadata": {},
   "outputs": [],
   "source": [
    "using CSV, DataFrames, Statistics, Random"
   ]
  },
  {
   "cell_type": "code",
   "execution_count": 2,
   "id": "41a1959d",
   "metadata": {},
   "outputs": [
    {
     "data": {
      "text/html": [
       "<div><div style = \"float: left;\"><span>400×14 DataFrame</span></div><div style = \"float: right;\"><span style = \"font-style: italic;\">375 rows omitted</span></div><div style = \"clear: both;\"></div></div><div class = \"data-frame\" style = \"overflow-x: scroll;\"><table class = \"data-frame\" style = \"margin-bottom: 6px;\"><thead><tr class = \"header\"><th class = \"rowNumber\" style = \"font-weight: bold; text-align: right;\">Row</th><th style = \"text-align: left;\">Timestamp</th><th style = \"text-align: left;\">User_ID</th><th style = \"text-align: left;\">Application_Type</th><th style = \"text-align: left;\">Signal_Strength</th><th style = \"text-align: left;\">Latency</th><th style = \"text-align: left;\">Required_Bandwidth</th><th style = \"text-align: left;\">Allocated_Bandwidth</th><th style = \"text-align: left;\">Resource_Allocation</th><th style = \"text-align: left;\">Required_Bandwidth_Mbps</th><th style = \"text-align: left;\">Allocated_Bandwidth_Mbps</th><th style = \"text-align: left;\">Latency_ms</th><th style = \"text-align: left;\">Signal_Strength_dBm</th><th style = \"text-align: left;\">alpha_j</th><th style = \"text-align: left;\">Payoff</th></tr><tr class = \"subheader headerLastRow\"><th class = \"rowNumber\" style = \"font-weight: bold; text-align: right;\"></th><th title = \"String15\" style = \"text-align: left;\">String15</th><th title = \"String15\" style = \"text-align: left;\">String15</th><th title = \"String31\" style = \"text-align: left;\">String31</th><th title = \"String15\" style = \"text-align: left;\">String15</th><th title = \"String7\" style = \"text-align: left;\">String7</th><th title = \"String15\" style = \"text-align: left;\">String15</th><th title = \"String15\" style = \"text-align: left;\">String15</th><th title = \"Float64\" style = \"text-align: left;\">Float64</th><th title = \"Float64\" style = \"text-align: left;\">Float64</th><th title = \"Float64\" style = \"text-align: left;\">Float64</th><th title = \"Float64\" style = \"text-align: left;\">Float64</th><th title = \"Float64\" style = \"text-align: left;\">Float64</th><th title = \"Float64\" style = \"text-align: left;\">Float64</th><th title = \"Float64\" style = \"text-align: left;\">Float64</th></tr></thead><tbody><tr><td class = \"rowNumber\" style = \"font-weight: bold; text-align: right;\">1</td><td style = \"text-align: left;\">9/3/2023 10:00</td><td style = \"text-align: left;\">User_1</td><td style = \"text-align: left;\">Video_Call</td><td style = \"text-align: left;\">-75 dBm</td><td style = \"text-align: left;\">30 ms</td><td style = \"text-align: left;\">10 Mbps</td><td style = \"text-align: left;\">15 Mbps</td><td style = \"text-align: right;\">0.7</td><td style = \"text-align: right;\">10.0</td><td style = \"text-align: right;\">15.0</td><td style = \"text-align: right;\">30.0</td><td style = \"text-align: right;\">-75.0</td><td style = \"text-align: right;\">0.41204</td><td style = \"text-align: right;\">9.04615</td></tr><tr><td class = \"rowNumber\" style = \"font-weight: bold; text-align: right;\">2</td><td style = \"text-align: left;\">9/3/2023 10:00</td><td style = \"text-align: left;\">User_2</td><td style = \"text-align: left;\">Voice_Call</td><td style = \"text-align: left;\">-80 dBm</td><td style = \"text-align: left;\">20 ms</td><td style = \"text-align: left;\">100 Kbps</td><td style = \"text-align: left;\">120 Kbps</td><td style = \"text-align: right;\">0.8</td><td style = \"text-align: right;\">0.1</td><td style = \"text-align: right;\">0.12</td><td style = \"text-align: right;\">20.0</td><td style = \"text-align: right;\">-80.0</td><td style = \"text-align: right;\">0.00573338</td><td style = \"text-align: right;\">0.00135099</td></tr><tr><td class = \"rowNumber\" style = \"font-weight: bold; text-align: right;\">3</td><td style = \"text-align: left;\">9/3/2023 10:00</td><td style = \"text-align: left;\">User_3</td><td style = \"text-align: left;\">Streaming</td><td style = \"text-align: left;\">-85 dBm</td><td style = \"text-align: left;\">40 ms</td><td style = \"text-align: left;\">5 Mbps</td><td style = \"text-align: left;\">6 Mbps</td><td style = \"text-align: right;\">0.75</td><td style = \"text-align: right;\">5.0</td><td style = \"text-align: right;\">6.0</td><td style = \"text-align: right;\">40.0</td><td style = \"text-align: right;\">-85.0</td><td style = \"text-align: right;\">0.091874</td><td style = \"text-align: right;\">0.822168</td></tr><tr><td class = \"rowNumber\" style = \"font-weight: bold; text-align: right;\">4</td><td style = \"text-align: left;\">9/3/2023 10:00</td><td style = \"text-align: left;\">User_4</td><td style = \"text-align: left;\">Emergency_Service</td><td style = \"text-align: left;\">-70 dBm</td><td style = \"text-align: left;\">10 ms</td><td style = \"text-align: left;\">1 Mbps</td><td style = \"text-align: left;\">1.5 Mbps</td><td style = \"text-align: right;\">0.9</td><td style = \"text-align: right;\">1.0</td><td style = \"text-align: right;\">1.5</td><td style = \"text-align: right;\">10.0</td><td style = \"text-align: right;\">-70.0</td><td style = \"text-align: right;\">0.139614</td><td style = \"text-align: right;\">0.471199</td></tr><tr><td class = \"rowNumber\" style = \"font-weight: bold; text-align: right;\">5</td><td style = \"text-align: left;\">9/3/2023 10:00</td><td style = \"text-align: left;\">User_5</td><td style = \"text-align: left;\">Online_Gaming</td><td style = \"text-align: left;\">-78 dBm</td><td style = \"text-align: left;\">25 ms</td><td style = \"text-align: left;\">2 Mbps</td><td style = \"text-align: left;\">3 Mbps</td><td style = \"text-align: right;\">0.85</td><td style = \"text-align: right;\">2.0</td><td style = \"text-align: right;\">3.0</td><td style = \"text-align: right;\">25.0</td><td style = \"text-align: right;\">-78.0</td><td style = \"text-align: right;\">0.163073</td><td style = \"text-align: right;\">0.947918</td></tr><tr><td class = \"rowNumber\" style = \"font-weight: bold; text-align: right;\">6</td><td style = \"text-align: left;\">9/3/2023 10:00</td><td style = \"text-align: left;\">User_6</td><td style = \"text-align: left;\">Background_Download</td><td style = \"text-align: left;\">-90 dBm</td><td style = \"text-align: left;\">50 ms</td><td style = \"text-align: left;\">500 Kbps</td><td style = \"text-align: left;\">550 Kbps</td><td style = \"text-align: right;\">0.7</td><td style = \"text-align: right;\">0.5</td><td style = \"text-align: right;\">0.55</td><td style = \"text-align: right;\">50.0</td><td style = \"text-align: right;\">-90.0</td><td style = \"text-align: right;\">0.0110257</td><td style = \"text-align: right;\">0.00752506</td></tr><tr><td class = \"rowNumber\" style = \"font-weight: bold; text-align: right;\">7</td><td style = \"text-align: left;\">9/3/2023 10:00</td><td style = \"text-align: left;\">User_7</td><td style = \"text-align: left;\">Web_Browsing</td><td style = \"text-align: left;\">-88 dBm</td><td style = \"text-align: left;\">30 ms</td><td style = \"text-align: left;\">1 Mbps</td><td style = \"text-align: left;\">1 Mbps</td><td style = \"text-align: right;\">0.6</td><td style = \"text-align: right;\">1.0</td><td style = \"text-align: right;\">1.0</td><td style = \"text-align: right;\">30.0</td><td style = \"text-align: right;\">-88.0</td><td style = \"text-align: right;\">0.03592</td><td style = \"text-align: right;\">0.0501574</td></tr><tr><td class = \"rowNumber\" style = \"font-weight: bold; text-align: right;\">8</td><td style = \"text-align: left;\">9/3/2023 10:00</td><td style = \"text-align: left;\">User_8</td><td style = \"text-align: left;\">IoT_Temperature</td><td style = \"text-align: left;\">-95 dBm</td><td style = \"text-align: left;\">100 ms</td><td style = \"text-align: left;\">10 Kbps</td><td style = \"text-align: left;\">15 Kbps</td><td style = \"text-align: right;\">0.5</td><td style = \"text-align: right;\">0.01</td><td style = \"text-align: right;\">0.015</td><td style = \"text-align: right;\">100.0</td><td style = \"text-align: right;\">-95.0</td><td style = \"text-align: right;\">4.31731e-5</td><td style = \"text-align: right;\">9.93471e-8</td></tr><tr><td class = \"rowNumber\" style = \"font-weight: bold; text-align: right;\">9</td><td style = \"text-align: left;\">9/3/2023 10:00</td><td style = \"text-align: left;\">User_9</td><td style = \"text-align: left;\">Video_Streaming</td><td style = \"text-align: left;\">-82 dBm</td><td style = \"text-align: left;\">35 ms</td><td style = \"text-align: left;\">3 Mbps</td><td style = \"text-align: left;\">3.5 Mbps</td><td style = \"text-align: right;\">0.8</td><td style = \"text-align: right;\">3.0</td><td style = \"text-align: right;\">3.5</td><td style = \"text-align: right;\">35.0</td><td style = \"text-align: right;\">-82.0</td><td style = \"text-align: right;\">0.0867229</td><td style = \"text-align: right;\">0.504964</td></tr><tr><td class = \"rowNumber\" style = \"font-weight: bold; text-align: right;\">10</td><td style = \"text-align: left;\">9/3/2023 10:00</td><td style = \"text-align: left;\">User_10</td><td style = \"text-align: left;\">File_Download</td><td style = \"text-align: left;\">-75 dBm</td><td style = \"text-align: left;\">45 ms</td><td style = \"text-align: left;\">2 Mbps</td><td style = \"text-align: left;\">2 Mbps</td><td style = \"text-align: right;\">0.7</td><td style = \"text-align: right;\">2.0</td><td style = \"text-align: right;\">2.0</td><td style = \"text-align: right;\">45.0</td><td style = \"text-align: right;\">-75.0</td><td style = \"text-align: right;\">0.0509634</td><td style = \"text-align: right;\">0.121212</td></tr><tr><td class = \"rowNumber\" style = \"font-weight: bold; text-align: right;\">11</td><td style = \"text-align: left;\">9/3/2023 10:00</td><td style = \"text-align: left;\">User_11</td><td style = \"text-align: left;\">Video_Call</td><td style = \"text-align: left;\">-76 dBm</td><td style = \"text-align: left;\">32 ms</td><td style = \"text-align: left;\">12 Mbps</td><td style = \"text-align: left;\">14 Mbps</td><td style = \"text-align: right;\">0.7</td><td style = \"text-align: right;\">12.0</td><td style = \"text-align: right;\">14.0</td><td style = \"text-align: right;\">32.0</td><td style = \"text-align: right;\">-76.0</td><td style = \"text-align: right;\">0.41204</td><td style = \"text-align: right;\">8.30358</td></tr><tr><td class = \"rowNumber\" style = \"font-weight: bold; text-align: right;\">12</td><td style = \"text-align: left;\">9/3/2023 10:00</td><td style = \"text-align: left;\">User_12</td><td style = \"text-align: left;\">Online_Gaming</td><td style = \"text-align: left;\">-79 dBm</td><td style = \"text-align: left;\">24 ms</td><td style = \"text-align: left;\">2.5 Mbps</td><td style = \"text-align: left;\">2.8 Mbps</td><td style = \"text-align: right;\">0.75</td><td style = \"text-align: right;\">2.5</td><td style = \"text-align: right;\">2.8</td><td style = \"text-align: right;\">24.0</td><td style = \"text-align: right;\">-79.0</td><td style = \"text-align: right;\">0.163073</td><td style = \"text-align: right;\">0.796516</td></tr><tr><td class = \"rowNumber\" style = \"font-weight: bold; text-align: right;\">13</td><td style = \"text-align: left;\">9/3/2023 10:00</td><td style = \"text-align: left;\">User_13</td><td style = \"text-align: left;\">Web_Browsing</td><td style = \"text-align: left;\">-87 dBm</td><td style = \"text-align: left;\">28 ms</td><td style = \"text-align: left;\">1.2 Mbps</td><td style = \"text-align: left;\">1.2 Mbps</td><td style = \"text-align: right;\">0.65</td><td style = \"text-align: right;\">1.2</td><td style = \"text-align: right;\">1.2</td><td style = \"text-align: right;\">28.0</td><td style = \"text-align: right;\">-87.0</td><td style = \"text-align: right;\">0.03592</td><td style = \"text-align: right;\">0.0663125</td></tr><tr><td style = \"text-align: right;\">&vellip;</td><td style = \"text-align: right;\">&vellip;</td><td style = \"text-align: right;\">&vellip;</td><td style = \"text-align: right;\">&vellip;</td><td style = \"text-align: right;\">&vellip;</td><td style = \"text-align: right;\">&vellip;</td><td style = \"text-align: right;\">&vellip;</td><td style = \"text-align: right;\">&vellip;</td><td style = \"text-align: right;\">&vellip;</td><td style = \"text-align: right;\">&vellip;</td><td style = \"text-align: right;\">&vellip;</td><td style = \"text-align: right;\">&vellip;</td><td style = \"text-align: right;\">&vellip;</td><td style = \"text-align: right;\">&vellip;</td><td style = \"text-align: right;\">&vellip;</td></tr><tr><td class = \"rowNumber\" style = \"font-weight: bold; text-align: right;\">389</td><td style = \"text-align: left;\">9/3/2023 10:06</td><td style = \"text-align: left;\">User_389</td><td style = \"text-align: left;\">Video_Call</td><td style = \"text-align: left;\">-41 dBm</td><td style = \"text-align: left;\">52 ms</td><td style = \"text-align: left;\">14.4 Mbps</td><td style = \"text-align: left;\">15.7 Mbps</td><td style = \"text-align: right;\">0.75</td><td style = \"text-align: right;\">14.4</td><td style = \"text-align: right;\">15.7</td><td style = \"text-align: right;\">52.0</td><td style = \"text-align: right;\">-41.0</td><td style = \"text-align: right;\">0.41204</td><td style = \"text-align: right;\">5.18037</td></tr><tr><td class = \"rowNumber\" style = \"font-weight: bold; text-align: right;\">390</td><td style = \"text-align: left;\">9/3/2023 10:06</td><td style = \"text-align: left;\">User_390</td><td style = \"text-align: left;\">Video_Streaming</td><td style = \"text-align: left;\">-112 dBm</td><td style = \"text-align: left;\">57 ms</td><td style = \"text-align: left;\">1.1 Mbps</td><td style = \"text-align: left;\">1.5 Mbps</td><td style = \"text-align: right;\">0.7</td><td style = \"text-align: right;\">1.1</td><td style = \"text-align: right;\">1.5</td><td style = \"text-align: right;\">57.0</td><td style = \"text-align: right;\">-112.0</td><td style = \"text-align: right;\">0.0867229</td><td style = \"text-align: right;\">0.166721</td></tr><tr><td class = \"rowNumber\" style = \"font-weight: bold; text-align: right;\">391</td><td style = \"text-align: left;\">9/3/2023 10:06</td><td style = \"text-align: left;\">User_391</td><td style = \"text-align: left;\">Emergency_Service</td><td style = \"text-align: left;\">-40 dBm</td><td style = \"text-align: left;\">5 ms</td><td style = \"text-align: left;\">0.4 Mbps</td><td style = \"text-align: left;\">0.4 Mbps</td><td style = \"text-align: right;\">0.7</td><td style = \"text-align: right;\">0.4</td><td style = \"text-align: right;\">0.4</td><td style = \"text-align: right;\">5.0</td><td style = \"text-align: right;\">-40.0</td><td style = \"text-align: right;\">0.139614</td><td style = \"text-align: right;\">0.0746302</td></tr><tr><td class = \"rowNumber\" style = \"font-weight: bold; text-align: right;\">392</td><td style = \"text-align: left;\">9/3/2023 10:06</td><td style = \"text-align: left;\">User_392</td><td style = \"text-align: left;\">Web_Browsing</td><td style = \"text-align: left;\">-112 dBm</td><td style = \"text-align: left;\">0 ms</td><td style = \"text-align: left;\">0.1 Mbps</td><td style = \"text-align: left;\">0.1 Mbps</td><td style = \"text-align: right;\">0.7</td><td style = \"text-align: right;\">0.1</td><td style = \"text-align: right;\">0.1</td><td style = \"text-align: right;\">0.0</td><td style = \"text-align: right;\">-112.0</td><td style = \"text-align: right;\">0.03592</td><td style = \"text-align: right;\">0.00955471</td></tr><tr><td class = \"rowNumber\" style = \"font-weight: bold; text-align: right;\">393</td><td style = \"text-align: left;\">9/3/2023 10:06</td><td style = \"text-align: left;\">User_393</td><td style = \"text-align: left;\">Background_Download</td><td style = \"text-align: left;\">-123 dBm</td><td style = \"text-align: left;\">78 ms</td><td style = \"text-align: left;\">350 Kbps</td><td style = \"text-align: left;\">350 Kbps</td><td style = \"text-align: right;\">0.6</td><td style = \"text-align: right;\">0.35</td><td style = \"text-align: right;\">0.35</td><td style = \"text-align: right;\">78.0</td><td style = \"text-align: right;\">-123.0</td><td style = \"text-align: right;\">0.0110257</td><td style = \"text-align: right;\">0.00274481</td></tr><tr><td class = \"rowNumber\" style = \"font-weight: bold; text-align: right;\">394</td><td style = \"text-align: left;\">9/3/2023 10:06</td><td style = \"text-align: left;\">User_394</td><td style = \"text-align: left;\">VoIP_Call</td><td style = \"text-align: left;\">-56 dBm</td><td style = \"text-align: left;\">52 ms</td><td style = \"text-align: left;\">0 Kbps</td><td style = \"text-align: left;\">0 Kbps</td><td style = \"text-align: right;\">0.9</td><td style = \"text-align: right;\">0.0</td><td style = \"text-align: right;\">0.0</td><td style = \"text-align: right;\">52.0</td><td style = \"text-align: right;\">-56.0</td><td style = \"text-align: right;\">0.00299012</td><td style = \"text-align: right;\">0.0</td></tr><tr><td class = \"rowNumber\" style = \"font-weight: bold; text-align: right;\">395</td><td style = \"text-align: left;\">9/3/2023 10:06</td><td style = \"text-align: left;\">User_395</td><td style = \"text-align: left;\">Online_Gaming</td><td style = \"text-align: left;\">-41 dBm</td><td style = \"text-align: left;\">47 ms</td><td style = \"text-align: left;\">6.3 Mbps</td><td style = \"text-align: left;\">6.6 Mbps</td><td style = \"text-align: right;\">0.8</td><td style = \"text-align: right;\">6.3</td><td style = \"text-align: right;\">6.6</td><td style = \"text-align: right;\">47.0</td><td style = \"text-align: right;\">-41.0</td><td style = \"text-align: right;\">0.163073</td><td style = \"text-align: right;\">0.998595</td></tr><tr><td class = \"rowNumber\" style = \"font-weight: bold; text-align: right;\">396</td><td style = \"text-align: left;\">9/3/2023 10:06</td><td style = \"text-align: left;\">User_396</td><td style = \"text-align: left;\">Streaming</td><td style = \"text-align: left;\">-110 dBm</td><td style = \"text-align: left;\">61 ms</td><td style = \"text-align: left;\">1.3 Mbps</td><td style = \"text-align: left;\">1.8 Mbps</td><td style = \"text-align: right;\">0.85</td><td style = \"text-align: right;\">1.3</td><td style = \"text-align: right;\">1.8</td><td style = \"text-align: right;\">61.0</td><td style = \"text-align: right;\">-110.0</td><td style = \"text-align: right;\">0.091874</td><td style = \"text-align: right;\">0.234811</td></tr><tr><td class = \"rowNumber\" style = \"font-weight: bold; text-align: right;\">397</td><td style = \"text-align: left;\">9/3/2023 10:06</td><td style = \"text-align: left;\">User_397</td><td style = \"text-align: left;\">Video_Call</td><td style = \"text-align: left;\">-40 dBm</td><td style = \"text-align: left;\">53 ms</td><td style = \"text-align: left;\">14.5 Mbps</td><td style = \"text-align: left;\">15.8 Mbps</td><td style = \"text-align: right;\">0.75</td><td style = \"text-align: right;\">14.5</td><td style = \"text-align: right;\">15.8</td><td style = \"text-align: right;\">53.0</td><td style = \"text-align: right;\">-40.0</td><td style = \"text-align: right;\">0.41204</td><td style = \"text-align: right;\">5.06022</td></tr><tr><td class = \"rowNumber\" style = \"font-weight: bold; text-align: right;\">398</td><td style = \"text-align: left;\">9/3/2023 10:06</td><td style = \"text-align: left;\">User_398</td><td style = \"text-align: left;\">Video_Streaming</td><td style = \"text-align: left;\">-113 dBm</td><td style = \"text-align: left;\">58 ms</td><td style = \"text-align: left;\">1.0 Mbps</td><td style = \"text-align: left;\">1.4 Mbps</td><td style = \"text-align: right;\">0.7</td><td style = \"text-align: right;\">1.0</td><td style = \"text-align: right;\">1.4</td><td style = \"text-align: right;\">58.0</td><td style = \"text-align: right;\">-113.0</td><td style = \"text-align: right;\">0.0867229</td><td style = \"text-align: right;\">0.153675</td></tr><tr><td class = \"rowNumber\" style = \"font-weight: bold; text-align: right;\">399</td><td style = \"text-align: left;\">9/3/2023 10:06</td><td style = \"text-align: left;\">User_399</td><td style = \"text-align: left;\">Emergency_Service</td><td style = \"text-align: left;\">-40 dBm</td><td style = \"text-align: left;\">5 ms</td><td style = \"text-align: left;\">0.4 Mbps</td><td style = \"text-align: left;\">0.4 Mbps</td><td style = \"text-align: right;\">0.7</td><td style = \"text-align: right;\">0.4</td><td style = \"text-align: right;\">0.4</td><td style = \"text-align: right;\">5.0</td><td style = \"text-align: right;\">-40.0</td><td style = \"text-align: right;\">0.139614</td><td style = \"text-align: right;\">0.0746302</td></tr><tr><td class = \"rowNumber\" style = \"font-weight: bold; text-align: right;\">400</td><td style = \"text-align: left;\">9/3/2023 10:06</td><td style = \"text-align: left;\">User_400</td><td style = \"text-align: left;\">Web_Browsing</td><td style = \"text-align: left;\">-113 dBm</td><td style = \"text-align: left;\">0 ms</td><td style = \"text-align: left;\">0.1 Mbps</td><td style = \"text-align: left;\">0.1 Mbps</td><td style = \"text-align: right;\">0.7</td><td style = \"text-align: right;\">0.1</td><td style = \"text-align: right;\">0.1</td><td style = \"text-align: right;\">0.0</td><td style = \"text-align: right;\">-113.0</td><td style = \"text-align: right;\">0.03592</td><td style = \"text-align: right;\">0.00961757</td></tr></tbody></table></div>"
      ],
      "text/latex": [
       "\\begin{tabular}{r|ccccccc}\n",
       "\t& Timestamp & User\\_ID & Application\\_Type & Signal\\_Strength & Latency & Required\\_Bandwidth & \\\\\n",
       "\t\\hline\n",
       "\t& String15 & String15 & String31 & String15 & String7 & String15 & \\\\\n",
       "\t\\hline\n",
       "\t1 & 9/3/2023 10:00 & User\\_1 & Video\\_Call & -75 dBm & 30 ms & 10 Mbps & $\\dots$ \\\\\n",
       "\t2 & 9/3/2023 10:00 & User\\_2 & Voice\\_Call & -80 dBm & 20 ms & 100 Kbps & $\\dots$ \\\\\n",
       "\t3 & 9/3/2023 10:00 & User\\_3 & Streaming & -85 dBm & 40 ms & 5 Mbps & $\\dots$ \\\\\n",
       "\t4 & 9/3/2023 10:00 & User\\_4 & Emergency\\_Service & -70 dBm & 10 ms & 1 Mbps & $\\dots$ \\\\\n",
       "\t5 & 9/3/2023 10:00 & User\\_5 & Online\\_Gaming & -78 dBm & 25 ms & 2 Mbps & $\\dots$ \\\\\n",
       "\t6 & 9/3/2023 10:00 & User\\_6 & Background\\_Download & -90 dBm & 50 ms & 500 Kbps & $\\dots$ \\\\\n",
       "\t7 & 9/3/2023 10:00 & User\\_7 & Web\\_Browsing & -88 dBm & 30 ms & 1 Mbps & $\\dots$ \\\\\n",
       "\t8 & 9/3/2023 10:00 & User\\_8 & IoT\\_Temperature & -95 dBm & 100 ms & 10 Kbps & $\\dots$ \\\\\n",
       "\t9 & 9/3/2023 10:00 & User\\_9 & Video\\_Streaming & -82 dBm & 35 ms & 3 Mbps & $\\dots$ \\\\\n",
       "\t10 & 9/3/2023 10:00 & User\\_10 & File\\_Download & -75 dBm & 45 ms & 2 Mbps & $\\dots$ \\\\\n",
       "\t11 & 9/3/2023 10:00 & User\\_11 & Video\\_Call & -76 dBm & 32 ms & 12 Mbps & $\\dots$ \\\\\n",
       "\t12 & 9/3/2023 10:00 & User\\_12 & Online\\_Gaming & -79 dBm & 24 ms & 2.5 Mbps & $\\dots$ \\\\\n",
       "\t13 & 9/3/2023 10:00 & User\\_13 & Web\\_Browsing & -87 dBm & 28 ms & 1.2 Mbps & $\\dots$ \\\\\n",
       "\t14 & 9/3/2023 10:00 & User\\_14 & VoIP\\_Call & -81 dBm & 22 ms & 150 Kbps & $\\dots$ \\\\\n",
       "\t15 & 9/3/2023 10:00 & User\\_15 & Video\\_Call & -74 dBm & 29 ms & 10 Mbps & $\\dots$ \\\\\n",
       "\t16 & 9/3/2023 10:00 & User\\_16 & Streaming & -84 dBm & 38 ms & 4.5 Mbps & $\\dots$ \\\\\n",
       "\t17 & 9/3/2023 10:00 & User\\_17 & Emergency\\_Service & -69 dBm & 9 ms & 1.2 Mbps & $\\dots$ \\\\\n",
       "\t18 & 9/3/2023 10:00 & User\\_18 & Background\\_Download & -91 dBm & 48 ms & 600 Kbps & $\\dots$ \\\\\n",
       "\t19 & 9/3/2023 10:00 & User\\_19 & IoT\\_Temperature & -96 dBm & 105 ms & 8 Kbps & $\\dots$ \\\\\n",
       "\t20 & 9/3/2023 10:00 & User\\_20 & Video\\_Streaming & -83 dBm & 34 ms & 3.2 Mbps & $\\dots$ \\\\\n",
       "\t21 & 9/3/2023 10:00 & User\\_21 & Video\\_Call & -77 dBm & 31 ms & 11 Mbps & $\\dots$ \\\\\n",
       "\t22 & 9/3/2023 10:00 & User\\_22 & Online\\_Gaming & -80 dBm & 23 ms & 2.2 Mbps & $\\dots$ \\\\\n",
       "\t23 & 9/3/2023 10:00 & User\\_23 & Web\\_Browsing & -86 dBm & 29 ms & 1.4 Mbps & $\\dots$ \\\\\n",
       "\t24 & 9/3/2023 10:00 & User\\_24 & VoIP\\_Call & -82 dBm & 21 ms & 160 Kbps & $\\dots$ \\\\\n",
       "\t25 & 9/3/2023 10:00 & User\\_25 & Video\\_Call & -73 dBm & 28 ms & 10.5 Mbps & $\\dots$ \\\\\n",
       "\t26 & 9/3/2023 10:00 & User\\_26 & Streaming & -83 dBm & 37 ms & 4.2 Mbps & $\\dots$ \\\\\n",
       "\t27 & 9/3/2023 10:00 & User\\_27 & Emergency\\_Service & -68 dBm & 8 ms & 1.1 Mbps & $\\dots$ \\\\\n",
       "\t28 & 9/3/2023 10:00 & User\\_28 & Background\\_Download & -92 dBm & 47 ms & 620 Kbps & $\\dots$ \\\\\n",
       "\t29 & 9/3/2023 10:00 & User\\_29 & IoT\\_Temperature & -97 dBm & 110 ms & 7 Kbps & $\\dots$ \\\\\n",
       "\t30 & 9/3/2023 10:00 & User\\_30 & Video\\_Streaming & -84 dBm & 33 ms & 3.4 Mbps & $\\dots$ \\\\\n",
       "\t$\\dots$ & $\\dots$ & $\\dots$ & $\\dots$ & $\\dots$ & $\\dots$ & $\\dots$ &  \\\\\n",
       "\\end{tabular}\n"
      ],
      "text/plain": [
       "\u001b[1m400×14 DataFrame\u001b[0m\n",
       "\u001b[1m Row \u001b[0m│\u001b[1m Timestamp      \u001b[0m\u001b[1m User_ID  \u001b[0m\u001b[1m Application_Type    \u001b[0m\u001b[1m Signal_Strength \u001b[0m\u001b[1m Latency\u001b[0m ⋯\n",
       "     │\u001b[90m String15       \u001b[0m\u001b[90m String15 \u001b[0m\u001b[90m String31            \u001b[0m\u001b[90m String15        \u001b[0m\u001b[90m String7\u001b[0m ⋯\n",
       "─────┼──────────────────────────────────────────────────────────────────────────\n",
       "   1 │ 9/3/2023 10:00  User_1    Video_Call           -75 dBm          30 ms   ⋯\n",
       "   2 │ 9/3/2023 10:00  User_2    Voice_Call           -80 dBm          20 ms\n",
       "   3 │ 9/3/2023 10:00  User_3    Streaming            -85 dBm          40 ms\n",
       "   4 │ 9/3/2023 10:00  User_4    Emergency_Service    -70 dBm          10 ms\n",
       "   5 │ 9/3/2023 10:00  User_5    Online_Gaming        -78 dBm          25 ms   ⋯\n",
       "   6 │ 9/3/2023 10:00  User_6    Background_Download  -90 dBm          50 ms\n",
       "   7 │ 9/3/2023 10:00  User_7    Web_Browsing         -88 dBm          30 ms\n",
       "   8 │ 9/3/2023 10:00  User_8    IoT_Temperature      -95 dBm          100 ms\n",
       "   9 │ 9/3/2023 10:00  User_9    Video_Streaming      -82 dBm          35 ms   ⋯\n",
       "  10 │ 9/3/2023 10:00  User_10   File_Download        -75 dBm          45 ms\n",
       "  11 │ 9/3/2023 10:00  User_11   Video_Call           -76 dBm          32 ms\n",
       "  ⋮  │       ⋮            ⋮               ⋮                  ⋮            ⋮    ⋱\n",
       " 391 │ 9/3/2023 10:06  User_391  Emergency_Service    -40 dBm          5 ms\n",
       " 392 │ 9/3/2023 10:06  User_392  Web_Browsing         -112 dBm         0 ms    ⋯\n",
       " 393 │ 9/3/2023 10:06  User_393  Background_Download  -123 dBm         78 ms\n",
       " 394 │ 9/3/2023 10:06  User_394  VoIP_Call            -56 dBm          52 ms\n",
       " 395 │ 9/3/2023 10:06  User_395  Online_Gaming        -41 dBm          47 ms\n",
       " 396 │ 9/3/2023 10:06  User_396  Streaming            -110 dBm         61 ms   ⋯\n",
       " 397 │ 9/3/2023 10:06  User_397  Video_Call           -40 dBm          53 ms\n",
       " 398 │ 9/3/2023 10:06  User_398  Video_Streaming      -113 dBm         58 ms\n",
       " 399 │ 9/3/2023 10:06  User_399  Emergency_Service    -40 dBm          5 ms\n",
       " 400 │ 9/3/2023 10:06  User_400  Web_Browsing         -113 dBm         0 ms    ⋯\n",
       "\u001b[36m                                                  9 columns and 379 rows omitted\u001b[0m"
      ]
     },
     "execution_count": 2,
     "metadata": {},
     "output_type": "execute_result"
    }
   ],
   "source": [
    "df = CSV.read(\"Dataset_With_Payoff.csv\", DataFrame)"
   ]
  },
  {
   "cell_type": "code",
   "execution_count": 3,
   "id": "958a83da",
   "metadata": {},
   "outputs": [
    {
     "data": {
      "text/plain": [
       "1000.0"
      ]
     },
     "execution_count": 3,
     "metadata": {},
     "output_type": "execute_result"
    }
   ],
   "source": [
    "bw_low = 0.1             \n",
    "lat_high = 100.0         \n",
    "total_bandwidth = 1000.0 "
   ]
  },
  {
   "cell_type": "code",
   "execution_count": 4,
   "id": "4dd69191",
   "metadata": {},
   "outputs": [
    {
     "data": {
      "text/plain": [
       "-40.0"
      ]
     },
     "execution_count": 4,
     "metadata": {},
     "output_type": "execute_result"
    }
   ],
   "source": [
    "max_latency = maximum(df.Latency_ms)\n",
    "max_signal = maximum(df.Signal_Strength_dBm)"
   ]
  },
  {
   "cell_type": "code",
   "execution_count": 5,
   "id": "a161ef89",
   "metadata": {},
   "outputs": [
    {
     "data": {
      "text/plain": [
       "compute_payoff (generic function with 1 method)"
      ]
     },
     "execution_count": 5,
     "metadata": {},
     "output_type": "execute_result"
    }
   ],
   "source": [
    "function compute_payoff(alpha, bandwidth, latency, signal, resource, max_latency, max_signal)\n",
    "    return alpha * bandwidth * (1 - latency / max_latency) * (1 + signal / max_signal) * resource\n",
    "end"
   ]
  },
  {
   "cell_type": "code",
   "execution_count": 6,
   "id": "fe6af2ab",
   "metadata": {},
   "outputs": [
    {
     "data": {
      "text/plain": [
       "get_allocated_bandwidth (generic function with 1 method)"
      ]
     },
     "execution_count": 6,
     "metadata": {},
     "output_type": "execute_result"
    }
   ],
   "source": [
    "function get_allocated_bandwidth(requested_bandwidths)\n",
    "    total_requested = sum(requested_bandwidths)\n",
    "    return total_requested == 0 ? zeros(length(requested_bandwidths)) :\n",
    "           (total_bandwidth / total_requested) * requested_bandwidths\n",
    "end"
   ]
  },
  {
   "cell_type": "code",
   "execution_count": 7,
   "id": "a4bd70f2",
   "metadata": {},
   "outputs": [
    {
     "data": {
      "text/plain": [
       "compute_expected_payoff (generic function with 2 methods)"
      ]
     },
     "execution_count": 7,
     "metadata": {},
     "output_type": "execute_result"
    }
   ],
   "source": [
    "function compute_expected_payoff(i, p, df, max_latency, max_signal, n_samples=500)\n",
    "    n_players = nrow(df)\n",
    "    payoff_sum = 0.0\n",
    "\n",
    "    for _ in 1:n_samples\n",
    "        requested = zeros(n_players)\n",
    "        latencies = zeros(n_players)\n",
    "\n",
    "        for j in 1:n_players\n",
    "            bw_i = df.Required_Bandwidth_Mbps[j]\n",
    "            lat_i = df.Latency_ms[j]\n",
    "            if rand() < p[j]\n",
    "                requested[j] = bw_i\n",
    "                latencies[j] = lat_i\n",
    "            else\n",
    "                requested[j] = bw_low\n",
    "                latencies[j] = lat_high\n",
    "            end\n",
    "        end\n",
    "\n",
    "        allocated = get_allocated_bandwidth(requested)\n",
    "        payoff = compute_payoff(\n",
    "            df.alpha_j[i],\n",
    "            allocated[i],\n",
    "            latencies[i],\n",
    "            df.Signal_Strength_dBm[i],\n",
    "            df.Resource_Allocation[i],\n",
    "            max_latency,\n",
    "            max_signal\n",
    "        )\n",
    "        payoff_sum += payoff\n",
    "    end\n",
    "\n",
    "    return payoff_sum / n_samples\n",
    "end"
   ]
  },
  {
   "cell_type": "code",
   "execution_count": 8,
   "id": "f1c25ff8",
   "metadata": {},
   "outputs": [
    {
     "data": {
      "text/plain": [
       "best_response_dynamics (generic function with 1 method)"
      ]
     },
     "execution_count": 8,
     "metadata": {},
     "output_type": "execute_result"
    }
   ],
   "source": [
    "function best_response_dynamics(df; max_iter=1000, eta=0.5, ε=1e-5)\n",
    "    n_players = nrow(df)\n",
    "    p = rand(n_players)\n",
    "    max_latency = maximum(df.Latency_ms)\n",
    "    max_signal = maximum(df.Signal_Strength_dBm)\n",
    "\n",
    "    for iter in 1:max_iter\n",
    "        p_old = copy(p)\n",
    "        max_change = 0.0\n",
    "\n",
    "        for i in 1:n_players\n",
    "            payoff_hi = compute_expected_payoff(i, p, df, max_latency, max_signal)\n",
    "            p_test = copy(p)\n",
    "            p_test[i] = 0.0\n",
    "            payoff_lo = compute_expected_payoff(i, p_test, df, max_latency, max_signal)\n",
    "\n",
    "            best_response = payoff_hi > payoff_lo ? 1.0 : 0.0\n",
    "            p[i] = (1 - eta) * p[i] + eta * best_response\n",
    "\n",
    "            max_change = max(max_change, abs(p[i] - p_old[i]))\n",
    "        end\n",
    "\n",
    "        if max_change < ε\n",
    "            println(\"Converged after $iter iterations.\")\n",
    "            return p\n",
    "        end\n",
    "    end\n",
    "\n",
    "    println(\"Max iterations reached.\")\n",
    "    return p\n",
    "end\n"
   ]
  },
  {
   "cell_type": "code",
   "execution_count": null,
   "id": "e2b8f2b7",
   "metadata": {},
   "outputs": [],
   "source": [
    "Random.seed!(123)\n",
    "mixed_strategies = best_response_dynamics(df)"
   ]
  },
  {
   "cell_type": "code",
   "execution_count": null,
   "id": "b4347a78",
   "metadata": {},
   "outputs": [],
   "source": []
  }
 ],
 "metadata": {
  "kernelspec": {
   "display_name": "Julia 1.11.3",
   "language": "julia",
   "name": "julia-1.11"
  },
  "language_info": {
   "file_extension": ".jl",
   "mimetype": "application/julia",
   "name": "julia",
   "version": "1.11.3"
  }
 },
 "nbformat": 4,
 "nbformat_minor": 5
}
